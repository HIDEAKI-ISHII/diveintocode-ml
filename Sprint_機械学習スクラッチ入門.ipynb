{
 "cells": [
  {
   "cell_type": "code",
   "execution_count": 1,
   "metadata": {},
   "outputs": [],
   "source": [
    "import numpy as np\n",
    "import pandas as pd\n",
    "import random\n",
    "from sklearn.model_selection import train_test_split\n"
   ]
  },
  {
   "cell_type": "markdown",
   "metadata": {},
   "source": [
    "# 【問題1】train_test_splitのスクラッチ"
   ]
  },
  {
   "cell_type": "code",
   "execution_count": 2,
   "metadata": {},
   "outputs": [],
   "source": [
    "def scratch_train_test_split(X, y, train_size=0.8):\n",
    "    \"\"\"\n",
    "    検証データを分割する。\n",
    "\n",
    "    Parameters\n",
    "    ----------\n",
    "    X : 次の形のndarray, shape (n_samples, n_features)\n",
    "      訓練データ\n",
    "    y : 次の形のndarray, shape (n_samples, )\n",
    "      正解値\n",
    "    train_size : float (0<train_size<1)\n",
    "      何割をtrainとするか指定\n",
    "\n",
    "    Returns\n",
    "    ----------\n",
    "    X_train : 次の形のndarray, shape (n_samples, n_features)\n",
    "      訓練データ\n",
    "    X_test : 次の形のndarray, shape (n_samples, n_features)\n",
    "      検証データ\n",
    "    y_train : 次の形のndarray, shape (n_samples, )\n",
    "      訓練データの正解値\n",
    "    y_test : 次の形のndarray, shape (n_samples, )\n",
    "      検証データの正解値\n",
    "    \"\"\"\n",
    "    \n",
    "    X_train = []\n",
    "    X_test = []\n",
    "    y_train = []\n",
    "    y_test = []\n",
    "    \n",
    "    if (type(X) is pd.core.frame.DataFrame):\n",
    "        X = X.values # ndarrayに変換\n",
    "        \n",
    "    if (type(y) is pd.core.frame.DataFrame) or (type(y) is pd.core.frame.Series):\n",
    "        y = y.values # ndarrayに変換\n",
    "    \n",
    "    rows = X.shape[0] # 行数を取得\n",
    "    index = random.sample(range(rows), k = int(rows * train_size)) # 　ランダムでインデックスを取得\n",
    "    \n",
    "    for row in range(rows): # すべてのインデックスをループ\n",
    "        if row in index: # ランダムで取得したインデックスと等しい場合\n",
    "            # trainデータに追加\n",
    "            X_train.append(X[row])\n",
    "            y_train.append(y[row])\n",
    "        else:\n",
    "            # testデータに追加\n",
    "            X_test.append(X[row])\n",
    "            y_test.append(y[row])           \n",
    "    \n",
    "     # ndarrayに変換\n",
    "    X_train = np.array(X_train)\n",
    "    X_test = np.array( X_test)\n",
    "    y_train = np.array(y_train)\n",
    "    y_test = np.array(y_test)\n",
    "    \n",
    "    return X_train, X_test, y_train, y_test"
   ]
  },
  {
   "cell_type": "code",
   "execution_count": 3,
   "metadata": {},
   "outputs": [
    {
     "name": "stdout",
     "output_type": "stream",
     "text": [
      "    ID  AGE\n",
      "0  001   18\n",
      "1  002   34\n",
      "2  003   23\n",
      "3  004   42\n",
      "4  005   31\n",
      "5  006   52\n",
      "6  007   28\n",
      "7  008   49\n",
      "8  009   38\n",
      "9  010   35\n",
      "   TARGET\n",
      "0       0\n",
      "1       0\n",
      "2       0\n",
      "3       0\n",
      "4       0\n",
      "5       1\n",
      "6       1\n",
      "7       1\n",
      "8       1\n",
      "9       1\n"
     ]
    }
   ],
   "source": [
    "# 確認用のデータ\n",
    "X = pd.concat([pd.DataFrame(['001','002','003','004','005','006','007','008','009','010']),pd.DataFrame([18,34,23,42,31,52,28,49,38,35])],axis = 1)\n",
    "X.columns = ['ID','AGE']\n",
    "y = pd.DataFrame([0,0,0,0,0,1,1,1,1,1])\n",
    "y.columns = ['TARGET']\n",
    "print(X)\n",
    "print(y)"
   ]
  },
  {
   "cell_type": "code",
   "execution_count": 4,
   "metadata": {},
   "outputs": [
    {
     "name": "stdout",
     "output_type": "stream",
     "text": [
      "[['002' 34]\n",
      " ['003' 23]\n",
      " ['006' 52]\n",
      " ['007' 28]\n",
      " ['009' 38]\n",
      " ['010' 35]]\n",
      "[['001' 18]\n",
      " ['004' 42]\n",
      " ['005' 31]\n",
      " ['008' 49]]\n",
      "[[0]\n",
      " [0]\n",
      " [1]\n",
      " [1]\n",
      " [1]\n",
      " [1]]\n",
      "[[0]\n",
      " [0]\n",
      " [0]\n",
      " [1]]\n"
     ]
    }
   ],
   "source": [
    "# train_test_splitのスクラッチ\n",
    "X_train, X_test, y_train, y_test = scratch_train_test_split(X, y, train_size=0.6)\n",
    "print(X_train)\n",
    "print(X_test)\n",
    "print(y_train)\n",
    "print(y_test)"
   ]
  },
  {
   "cell_type": "markdown",
   "metadata": {},
   "source": [
    "# 【問題2】 分類問題を解くコードの作成"
   ]
  },
  {
   "cell_type": "markdown",
   "metadata": {},
   "source": [
    "## irisデータセットの作成"
   ]
  },
  {
   "cell_type": "code",
   "execution_count": 5,
   "metadata": {},
   "outputs": [],
   "source": [
    "from sklearn.datasets import load_iris\n",
    "iris = load_iris() # irisデータの読み込み\n",
    "\n",
    "X0 = pd.DataFrame(iris.data) # インデックス付きの2次元データ（データフレーム）で取得\n",
    "X0 = X0.rename(columns={0:'sepal_length', 1:'sepal_width', 2:'petal_length', 3:'petal_width'})\n",
    "\n",
    "y0 = pd.DataFrame(iris.target) # インデックス付きの2次元データ（データフレーム）で取得\n",
    "y0 = y0.rename(columns={0:'Species'}) # 項目名を「Species」に変更"
   ]
  },
  {
   "cell_type": "code",
   "execution_count": 6,
   "metadata": {},
   "outputs": [],
   "source": [
    "Xy0 = pd.concat([X0, y0], axis=1) #目的変数と説明変数を結合\n",
    "Xy0 = Xy0.loc[(Xy0['Species']==1) | (Xy0['Species']==2)] # 目的変数「virgicolor」「virginica」を抽出\n",
    "\n",
    "X0 = X0[['sepal_length', 'sepal_width', 'petal_length', 'petal_width']] # 説明変数に分割\n",
    "y0 = y0['Species'] #目的変数に分割"
   ]
  },
  {
   "cell_type": "markdown",
   "metadata": {},
   "source": [
    "## シンプルデータセット1の作成"
   ]
  },
  {
   "cell_type": "code",
   "execution_count": 7,
   "metadata": {},
   "outputs": [],
   "source": [
    "import numpy as np\n",
    "np.random.seed(seed=0)\n",
    "n_samples = 500\n",
    "f0 = [-1, 2]\n",
    "f1 = [2, -1]\n",
    "cov = [[1.0,0.8], [0.8, 1.0]]\n",
    "f0 = np.random.multivariate_normal(f0, cov, int(n_samples/2))\n",
    "f1 = np.random.multivariate_normal(f1, cov, int(n_samples/2))\n",
    "X1 = np.concatenate((f0, f1))\n",
    "y1 = np.concatenate((np.ones((int(n_samples/2))), np.ones((int(n_samples/2))) *(-1))).astype(np.int)\n",
    "random_index = np.random.permutation(np.arange(n_samples))\n",
    "X1 = X1[random_index]\n",
    "y1 = y1[random_index]"
   ]
  },
  {
   "cell_type": "markdown",
   "metadata": {},
   "source": [
    "## シンプルデータセット2の作成"
   ]
  },
  {
   "cell_type": "code",
   "execution_count": 8,
   "metadata": {},
   "outputs": [],
   "source": [
    "X2 = np.array([[-0.44699 , -2.8073  ],[-1.4621  , -2.4586  ],\n",
    "       [ 0.10645 ,  1.9242  ],[-3.5944  , -4.0112  ],\n",
    "       [-0.9888  ,  4.5718  ],[-3.1625  , -3.9606  ],\n",
    "       [ 0.56421 ,  0.72888 ],[-0.60216 ,  8.4636  ],\n",
    "       [-0.61251 , -0.75345 ],[-0.73535 , -2.2718  ],\n",
    "       [-0.80647 , -2.2135  ],[ 0.86291 ,  2.3946  ],\n",
    "       [-3.1108  ,  0.15394 ],[-2.9362  ,  2.5462  ],\n",
    "       [-0.57242 , -2.9915  ],[ 1.4771  ,  3.4896  ],\n",
    "       [ 0.58619 ,  0.37158 ],[ 0.6017  ,  4.3439  ],\n",
    "       [-2.1086  ,  8.3428  ],[-4.1013  , -4.353   ],\n",
    "       [-1.9948  , -1.3927  ],[ 0.35084 , -0.031994],\n",
    "       [ 0.96765 ,  7.8929  ],[-1.281   , 15.6824  ],\n",
    "       [ 0.96765 , 10.083   ],[ 1.3763  ,  1.3347  ],\n",
    "       [-2.234   , -2.5323  ],[-2.9452  , -1.8219  ],\n",
    "       [ 0.14654 , -0.28733 ],[ 0.5461  ,  5.8245  ],\n",
    "       [-0.65259 ,  9.3444  ],[ 0.59912 ,  5.3524  ],\n",
    "       [ 0.50214 , -0.31818 ],[-3.0603  , -3.6461  ],\n",
    "       [-6.6797  ,  0.67661 ],[-2.353   , -0.72261 ],\n",
    "       [ 1.1319  ,  2.4023  ],[-0.12243 ,  9.0162  ],\n",
    "       [-2.5677  , 13.1779  ],[ 0.057313,  5.4681  ]])\n",
    "y2 = np.array([0, 0, 0, 0, 0, 0, 0, 0, 0, 0, 0, 0, 0, 0, 0, 0, 0, 0, 0, 0, 1, 1,\n",
    "       1, 1, 1, 1, 1, 1, 1, 1, 1, 1, 1, 1, 1, 1, 1, 1, 1, 1])"
   ]
  },
  {
   "cell_type": "markdown",
   "metadata": {},
   "source": [
    "## 標準化のスクラッチ"
   ]
  },
  {
   "cell_type": "code",
   "execution_count": 9,
   "metadata": {},
   "outputs": [],
   "source": [
    "# 標準化\n",
    "from sklearn.preprocessing import StandardScaler\n",
    "\n",
    "def scratch_std(X):\n",
    "        \n",
    "    scaler = StandardScaler()\n",
    "    scaler.fit(X)\n",
    "    X_std = scaler.transform(X)\n",
    "    \n",
    "    return X_std"
   ]
  },
  {
   "cell_type": "markdown",
   "metadata": {},
   "source": [
    "## ロジスティック回帰のスクラッチ"
   ]
  },
  {
   "cell_type": "code",
   "execution_count": 10,
   "metadata": {},
   "outputs": [],
   "source": [
    "# ロジスティック回帰\n",
    "from sklearn import linear_model\n",
    "\n",
    "def scratch_sgd(X_train, X_test, y_train):\n",
    "\n",
    "    sgd = linear_model.SGDClassifier(loss='log', max_iter=1000, tol=1e-3) # ロジスティック回帰のインスタンスを生成\n",
    "    sgd.fit(X_train, y_train) # 学習\n",
    "    y_test_pred = sgd.predict(X_test) #予測\n",
    "    \n",
    "    return y_test_pred"
   ]
  },
  {
   "cell_type": "markdown",
   "metadata": {},
   "source": [
    "## SVMの関数"
   ]
  },
  {
   "cell_type": "code",
   "execution_count": 11,
   "metadata": {},
   "outputs": [],
   "source": [
    "# SVM\n",
    "from sklearn.svm import SVC\n",
    "\n",
    "def scratch_svc(X_train, X_test, y_train):\n",
    "\n",
    "    svc = SVC(gamma='auto') # SVMのインスタンスを生成\n",
    "    svc.fit(X_train, y_train) # 学習\n",
    "    y_test_pred = svc.predict(X_test) #予測\n",
    "    \n",
    "    return y_test_pred"
   ]
  },
  {
   "cell_type": "markdown",
   "metadata": {},
   "source": [
    "## 決定木の関数"
   ]
  },
  {
   "cell_type": "code",
   "execution_count": 12,
   "metadata": {},
   "outputs": [],
   "source": [
    "# 決定木\n",
    "from sklearn.tree import DecisionTreeClassifier\n",
    "\n",
    "def scratch_tree(X_train, X_test, y_train):\n",
    "\n",
    "    tree = DecisionTreeClassifier(random_state=0) # 決定木のインスタンスを生成\n",
    "    tree.fit(X_train, y_train) # 学習\n",
    "    y_test_pred = tree.predict(X_test) # 予測\n",
    "    \n",
    "    return y_test_pred"
   ]
  },
  {
   "cell_type": "markdown",
   "metadata": {},
   "source": [
    "## irisデータセットの学習・推定"
   ]
  },
  {
   "cell_type": "code",
   "execution_count": 13,
   "metadata": {},
   "outputs": [],
   "source": [
    "# 学習データとテストデータに分割\n",
    "X0_train, X0_test, y0_train, y0_test = scratch_train_test_split(X0, y0, train_size=0.8)\n",
    "\n",
    "# 標準化\n",
    "X0_train_std = scratch_std(X0_train)\n",
    "X0_test_std = scratch_std(X0_test)\n",
    "\n",
    "# ロジスティック回帰の学習・推定\n",
    "y0_sgd_pred = scratch_sgd(X0_train_std, X0_test_std, y0_train)\n",
    "\n",
    "# SVMの学習・推定\n",
    "y0_svm_pred = scratch_svc(X0_train_std, X0_test_std, y0_train)\n",
    "\n",
    "# 決定木の学習・推定\n",
    "y0_tree_pred = scratch_tree(X0_train_std, X0_test_std, y0_train)\n"
   ]
  },
  {
   "cell_type": "markdown",
   "metadata": {},
   "source": [
    "## シンプルデータセット1の学習・推定"
   ]
  },
  {
   "cell_type": "code",
   "execution_count": 14,
   "metadata": {},
   "outputs": [],
   "source": [
    "# 学習データとテストデータに分割\n",
    "X1_train, X1_test, y1_train, y1_test = scratch_train_test_split(X1, y1, train_size=0.8)\n",
    "\n",
    "# 標準化\n",
    "X1_train_std = scratch_std(X1_train)\n",
    "X1_test_std = scratch_std(X1_test)\n",
    "\n",
    "# ロジスティック回帰の学習・推定\n",
    "y1_sgd_pred = scratch_sgd(X1_train_std, X1_test_std, y1_train)\n",
    "\n",
    "# SVMの学習・推定\n",
    "y1_svm_pred = scratch_svc(X1_train_std, X1_test_std, y1_train)\n",
    "\n",
    "# 決定木の学習・推定\n",
    "y1_tree_pred = scratch_tree(X1_train_std, X1_test_std, y1_train)"
   ]
  },
  {
   "cell_type": "markdown",
   "metadata": {},
   "source": [
    "## シンプルデータセット2の学習・推定"
   ]
  },
  {
   "cell_type": "code",
   "execution_count": 15,
   "metadata": {},
   "outputs": [],
   "source": [
    "# 学習データとテストデータに分割\n",
    "X2_train, X2_test, y2_train, y2_test = scratch_train_test_split(X2, y2, train_size=0.8)\n",
    "\n",
    "# 標準化\n",
    "X2_train_std = scratch_std(X2_train)\n",
    "X2_test_std = scratch_std(X2_test)\n",
    "\n",
    "# ロジスティック回帰の学習・推定\n",
    "y2_sgd_pred = scratch_sgd(X2_train_std, X2_test_std, y2_train)\n",
    "\n",
    "# SVMの学習・推定\n",
    "y2_svm_pred = scratch_svc(X2_train_std, X2_test_std, y2_train)\n",
    "\n",
    "# 決定木の学習・推定\n",
    "y2_tree_pred = scratch_tree(X2_train_std, X2_test_std, y2_train)"
   ]
  },
  {
   "cell_type": "markdown",
   "metadata": {},
   "source": [
    "# 【問題3】 回帰問題を解くコードの作成"
   ]
  },
  {
   "cell_type": "markdown",
   "metadata": {},
   "source": [
    "## House Pricesデータセットの作成"
   ]
  },
  {
   "cell_type": "code",
   "execution_count": 16,
   "metadata": {},
   "outputs": [],
   "source": [
    "Xy3 = pd.read_csv('train.csv')\n",
    "X3 =Xy3[['GrLivArea','YearBuilt']]\n",
    "y3 = Xy3['SalePrice']"
   ]
  },
  {
   "cell_type": "code",
   "execution_count": 17,
   "metadata": {},
   "outputs": [
    {
     "name": "stdout",
     "output_type": "stream",
     "text": [
      "   GrLivArea  YearBuilt\n",
      "0       1710       2003\n",
      "1       1262       1976\n",
      "2       1786       2001\n",
      "3       1717       1915\n",
      "4       2198       2000\n",
      "0    208500\n",
      "1    181500\n",
      "2    223500\n",
      "3    140000\n",
      "4    250000\n",
      "Name: SalePrice, dtype: int64\n"
     ]
    }
   ],
   "source": [
    "print(X3.head())\n",
    "print(y3.head())"
   ]
  },
  {
   "cell_type": "markdown",
   "metadata": {},
   "source": [
    "## 線形回帰のスクラッチ"
   ]
  },
  {
   "cell_type": "code",
   "execution_count": 18,
   "metadata": {},
   "outputs": [],
   "source": [
    "from sklearn import linear_model\n",
    "\n",
    "def scratch_linear(X_train, X_test, y_train):\n",
    "\n",
    "    sgd = linear_model.SGDRegressor(max_iter=1000, tol=1e-3) # 線形回帰のインスタンスを生成\n",
    "    sgd.fit(X_train, y_train) # 学習\n",
    "    y_test_pred = sgd.predict(X_test) #予測\n",
    "    \n",
    "    return y_test_pred"
   ]
  },
  {
   "cell_type": "markdown",
   "metadata": {},
   "source": [
    "## House Pricesデータセットの学習・推定"
   ]
  },
  {
   "cell_type": "code",
   "execution_count": 19,
   "metadata": {},
   "outputs": [
    {
     "name": "stderr",
     "output_type": "stream",
     "text": [
      "/Users/chidori/.pyenv/versions/anaconda3-5.3.1/lib/python3.7/site-packages/sklearn/utils/validation.py:475: DataConversionWarning: Data with input dtype int64 was converted to float64 by StandardScaler.\n",
      "  warnings.warn(msg, DataConversionWarning)\n"
     ]
    }
   ],
   "source": [
    "# 学習データとテストデータに分割\n",
    "X3_train, X3_test, y3_train, y3_test = scratch_train_test_split(X3, y3, train_size=0.8)\n",
    "\n",
    "# 標準化\n",
    "X3_train_std = scratch_std(X3_train)\n",
    "X3_test_std = scratch_std(X3_test)\n",
    "\n",
    "# 線形回帰の学習・推定\n",
    "y3_linear_pred = scratch_linear(X3_train_std, X3_test_std, y3_train)"
   ]
  }
 ],
 "metadata": {
  "kernelspec": {
   "display_name": "Python 3",
   "language": "python",
   "name": "python3"
  },
  "language_info": {
   "codemirror_mode": {
    "name": "ipython",
    "version": 3
   },
   "file_extension": ".py",
   "mimetype": "text/x-python",
   "name": "python",
   "nbconvert_exporter": "python",
   "pygments_lexer": "ipython3",
   "version": "3.7.2"
  }
 },
 "nbformat": 4,
 "nbformat_minor": 2
}
