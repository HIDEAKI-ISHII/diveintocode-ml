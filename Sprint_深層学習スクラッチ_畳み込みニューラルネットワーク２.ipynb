{
 "cells": [
  {
   "cell_type": "code",
   "execution_count": 1,
   "metadata": {},
   "outputs": [],
   "source": [
    "import sys\n",
    "import pandas as pd\n",
    "from sklearn.datasets import load_iris\n",
    "import matplotlib.pyplot as plt\n",
    "import numpy as np\n",
    "%matplotlib inline"
   ]
  },
  {
   "cell_type": "markdown",
   "metadata": {},
   "source": [
    "## 活性化関数"
   ]
  },
  {
   "cell_type": "code",
   "execution_count": 2,
   "metadata": {},
   "outputs": [],
   "source": [
    "class ReLU:\n",
    "    \n",
    "    def __init__(self):\n",
    "        self.index = None\n",
    "        \n",
    "    def forward(self, A):\n",
    "        self.index = A < 0\n",
    "        Z = A.copy()\n",
    "        Z[self.index] = 0\n",
    "        return Z\n",
    "        \n",
    "    def backward(self, dZ):\n",
    "        dZ[self.index] = 0\n",
    "        dA = dZ\n",
    "        return dA"
   ]
  },
  {
   "cell_type": "code",
   "execution_count": 3,
   "metadata": {},
   "outputs": [],
   "source": [
    "class Sigmoid:\n",
    "    \n",
    "    def __init__(self):\n",
    "        self.Z = None\n",
    "        \n",
    "    def forward(self, X):\n",
    "        self.Z = self.sigmoid(X)\n",
    "        return self.Z\n",
    "        \n",
    "    def backward(self, dZ):\n",
    "        dA = dZ * (1.0 - self.sigmoid(self.Z)) * self.sigmoid(self.Z)\n",
    "        return dA\n",
    "    \n",
    "    def sigmoid(self, X):\n",
    "        return 1.0 / (1.0 + np.exp(-X))"
   ]
  },
  {
   "cell_type": "code",
   "execution_count": 4,
   "metadata": {},
   "outputs": [],
   "source": [
    "class Tanh:\n",
    "    \n",
    "    def __init__(self):\n",
    "        self.Z = None\n",
    "        \n",
    "    def forward(self, A):\n",
    "        self.Z = np.tanh(A)\n",
    "        return self.Z\n",
    "        \n",
    "    def backward(self, dZ):\n",
    "        dA = dZ * (1. - np.tanh(self.Z)**2)  \n",
    "        return dA"
   ]
  },
  {
   "cell_type": "code",
   "execution_count": 5,
   "metadata": {},
   "outputs": [],
   "source": [
    "class Softmax:\n",
    "    \n",
    "    def __init__(self):\n",
    "        self.Z = None\n",
    "    \n",
    "    def forward(self, A):\n",
    "        \n",
    "        self.Z = np.exp(A) / np.sum(np.exp(A), axis=1).reshape(-1, 1)\n",
    "        return self.Z\n",
    "        \n",
    "    def backward(self, dZ):\n",
    "        dA = dZ\n",
    "        return dA   "
   ]
  },
  {
   "cell_type": "markdown",
   "metadata": {},
   "source": [
    "## イニシャライザ"
   ]
  },
  {
   "cell_type": "code",
   "execution_count": 6,
   "metadata": {},
   "outputs": [],
   "source": [
    "class SimpleInitializer:\n",
    "    \"\"\"\n",
    "    ガウス分布によるシンプルな初期化\n",
    "    Parameters\n",
    "    ----------\n",
    "    sigma : float\n",
    "      ガウス分布の標準偏差\n",
    "    \"\"\"\n",
    "    def __init__(self, sigma):\n",
    "        self.sigma = sigma\n",
    "\n",
    "    \n",
    "    def W(self, n_nodes1, n_nodes2):\n",
    "        \"\"\"\n",
    "        重みの初期化\n",
    "        Parameters\n",
    "        ----------\n",
    "        n_nodes1 : int\n",
    "          前の層のノード数\n",
    "        n_nodes2 : int\n",
    "          後の層のノード数\n",
    "\n",
    "        Returns\n",
    "        ----------\n",
    "        W :\n",
    "        \"\"\"\n",
    "        W = self.sigma * np.random.randn(n_nodes1, n_nodes2)\n",
    "        return W\n",
    "    \n",
    "    \n",
    "    def B(self, n_nodes1, n_nodes2):\n",
    "        \"\"\"\n",
    "        バイアスの初期化\n",
    "        Parameters\n",
    "        ----------\n",
    "        n_nodes2 : int\n",
    "          後の層のノード数\n",
    "\n",
    "        Returns\n",
    "        ----------\n",
    "        B :\n",
    "        \"\"\"\n",
    "        B = self.sigma * np.random.randn(1, n_nodes2)\n",
    "        return B"
   ]
  },
  {
   "cell_type": "code",
   "execution_count": 7,
   "metadata": {},
   "outputs": [],
   "source": [
    "class XavierInitializer:\n",
    "    \n",
    "    def W(self, n_nodes1, n_nodes2):\n",
    "        \"\"\"\n",
    "        重みの初期化\n",
    "        Parameters\n",
    "        ----------\n",
    "        n_nodes1 : int\n",
    "          前の層のノード数\n",
    "        n_nodes2 : int\n",
    "          後の層のノード数\n",
    "\n",
    "        Returns\n",
    "        ----------\n",
    "        W :\n",
    "        \"\"\"\n",
    "        W = (1 / np.sqrt(n_nodes1)) * np.random.randn(n_nodes1, n_nodes2)\n",
    "        return W\n",
    "    \n",
    "    \n",
    "    def B(self, n_nodes1, n_nodes2):\n",
    "        \"\"\"\n",
    "        バイアスの初期化\n",
    "        Parameters\n",
    "        ----------\n",
    "        n_nodes2 : int\n",
    "          後の層のノード数\n",
    "\n",
    "        Returns\n",
    "        ----------\n",
    "        B :\n",
    "        \"\"\"\n",
    "        B = (1 / np.sqrt(n_nodes1)) * np.random.randn(1, n_nodes2)    \n",
    "        return B"
   ]
  },
  {
   "cell_type": "code",
   "execution_count": 8,
   "metadata": {},
   "outputs": [],
   "source": [
    "class HeInitializer:\n",
    "    \n",
    "    def W(self, n_nodes1, n_nodes2):\n",
    "        \"\"\"\n",
    "        重みの初期化\n",
    "        Parameters\n",
    "        ----------\n",
    "        n_nodes1 : int\n",
    "          前の層のノード数\n",
    "        n_nodes2 : int\n",
    "          後の層のノード数\n",
    "\n",
    "        Returns\n",
    "        ----------\n",
    "        W :\n",
    "        \"\"\"\n",
    "        W = np.sqrt(2 / n_nodes1) * np.random.randn(n_nodes1, n_nodes2)\n",
    "        return W\n",
    "    \n",
    "    \n",
    "    def B(self, n_nodes1, n_nodes2):\n",
    "        \"\"\"\n",
    "        バイアスの初期化\n",
    "        Parameters\n",
    "        ----------\n",
    "        n_nodes2 : int\n",
    "          後の層のノード数\n",
    "\n",
    "        Returns\n",
    "        ----------\n",
    "        B :\n",
    "        \"\"\"\n",
    "        B = np.sqrt(2 / n_nodes1) * np.random.randn(1, n_nodes2)        \n",
    "        return B     "
   ]
  },
  {
   "cell_type": "markdown",
   "metadata": {},
   "source": [
    "## 最適化手法"
   ]
  },
  {
   "cell_type": "code",
   "execution_count": 9,
   "metadata": {},
   "outputs": [],
   "source": [
    "class SGD:\n",
    "    \"\"\"\n",
    "    確率的勾配降下法\n",
    "    Parameters\n",
    "    ----------\n",
    "    lr : 学習率\n",
    "    \"\"\"\n",
    "    def __init__(self, lr):\n",
    "        self.lr = lr\n",
    "        \n",
    "    def update(self, layer):\n",
    "        \"\"\"\n",
    "        ある層の重みやバイアスの更新\n",
    "        Parameters\n",
    "        ----------\n",
    "        layer : 更新前の層のインスタンス\n",
    "        \"\"\"\n",
    "        layer.W = layer.W - self.lr  * layer.dW\n",
    "        layer.B = layer.B - self.lr  * layer.dB\n",
    "        \n",
    "        return layer"
   ]
  },
  {
   "cell_type": "code",
   "execution_count": 10,
   "metadata": {},
   "outputs": [],
   "source": [
    "class AdaGrad:\n",
    "    \n",
    "    def __init__(self, lr=0.01):\n",
    "        self.lr = lr\n",
    "        self.hB = 0\n",
    "        self.hW = 0\n",
    "        \n",
    "    def update(self, layer):\n",
    "        \n",
    "        self.hB = self.hB + layer.dB * layer.dB\n",
    "        self.hW = self.hW + layer.dW * layer.dW \n",
    "        \n",
    "        layer.B = layer.B + self.lr *(1/np.sqrt(self.hB )) *layer.dB\n",
    "        layer.W = layer.W + self.lr *(1/np.sqrt(self.hW )) * layer.dW\n",
    "        \n",
    "        return layer"
   ]
  },
  {
   "cell_type": "markdown",
   "metadata": {},
   "source": [
    "## FC層"
   ]
  },
  {
   "cell_type": "code",
   "execution_count": 11,
   "metadata": {},
   "outputs": [],
   "source": [
    "class FC:\n",
    "    \"\"\"\n",
    "    ノード数n_nodes1からn_nodes2への全結合層\n",
    "    Parameters\n",
    "    ----------\n",
    "    n_nodes1 : int\n",
    "      前の層のノード数\n",
    "    n_nodes2 : int\n",
    "      後の層のノード数\n",
    "    initializer : 初期化方法のインスタンス\n",
    "    optimizer : 最適化手法のインスタンス\n",
    "    \"\"\"\n",
    "    def __init__(self, n_nodes1, n_nodes2, initializer, optimizer, act_func):\n",
    "        \n",
    "        self.optimizer = optimizer\n",
    "        # 初期化\n",
    "        # initializerのメソッドを使い、self.Wとself.Bを初期化する\n",
    "        self.W = initializer.W(n_nodes1, n_nodes2)\n",
    "        self.B = initializer.B(n_nodes1, n_nodes2)\n",
    "        self.act_func = act_func\n",
    "        \n",
    "        self.X = None\n",
    "        self.dW = None\n",
    "        self.dB = None\n",
    "        \n",
    "    def forward(self, X):\n",
    "        \"\"\"\n",
    "        フォワード\n",
    "        Parameters\n",
    "        ----------\n",
    "        X : 次の形のndarray, shape (batch_size, n_nodes1)\n",
    "            入力\n",
    "        Returns\n",
    "        ----------\n",
    "        A : 次の形のndarray, shape (batch_size, n_nodes2)\n",
    "            出力\n",
    "        \"\"\"      \n",
    "        self.X = X\n",
    "        A = X @ self.W + self.B\n",
    "        \n",
    "        return A\n",
    "    \n",
    "    \n",
    "    def backward(self, dA):\n",
    "        \"\"\"\n",
    "        バックワード\n",
    "        Parameters\n",
    "        ----------\n",
    "        dA : 次の形のndarray, shape (batch_size, n_nodes2)\n",
    "            後ろから流れてきた勾配\n",
    "        Returns\n",
    "        ----------\n",
    "        dZ : 次の形のndarray, shape (batch_size, n_nodes1)\n",
    "            前に流す勾配\n",
    "        \"\"\"\n",
    "        dZ = dA @ self.W.T\n",
    "        self.dB = np.sum(dA, axis=0, keepdims=True)\n",
    "        self.dW = self.X.T @ dA\n",
    "        \n",
    "         # 更新\n",
    "        self = self.optimizer.update(self)\n",
    "        return dZ"
   ]
  },
  {
   "cell_type": "markdown",
   "metadata": {},
   "source": [
    "## ミニバッチ"
   ]
  },
  {
   "cell_type": "code",
   "execution_count": 12,
   "metadata": {},
   "outputs": [],
   "source": [
    "class GetMiniBatch:\n",
    "    \"\"\"\n",
    "    ミニバッチを取得するイテレータ\n",
    "\n",
    "    Parameters\n",
    "    ----------\n",
    "    X : 次の形のndarray, shape (n_samples, n_features)\n",
    "      訓練データ\n",
    "    y : 次の形のndarray, shape (n_samples, 1)\n",
    "      正解値\n",
    "    batch_size : int\n",
    "      バッチサイズ\n",
    "    seed : int\n",
    "      NumPyの乱数のシード\n",
    "    \"\"\"\n",
    "    def __init__(self, X, y, batch_size = 20, seed=0):\n",
    "        self.batch_size = batch_size\n",
    "        np.random.seed(seed)\n",
    "        shuffle_index = np.random.permutation(np.arange(X.shape[0]))\n",
    "        self._X = X[shuffle_index]\n",
    "        self._y = y[shuffle_index]\n",
    "        self._stop = np.ceil(X.shape[0]/self.batch_size).astype(np.int)\n",
    "    def __len__(self):\n",
    "        return self._stop\n",
    "    def __getitem__(self,item):\n",
    "        p0 = item*self.batch_size\n",
    "        p1 = item*self.batch_size + self.batch_size\n",
    "        return self._X[p0:p1], self._y[p0:p1]        \n",
    "    def __iter__(self):\n",
    "        self._counter = 0\n",
    "        return self\n",
    "    def __next__(self):\n",
    "        if self._counter >= self._stop:\n",
    "            raise StopIteration()\n",
    "        p0 = self._counter*self.batch_size\n",
    "        p1 = self._counter*self.batch_size + self.batch_size\n",
    "        self._counter += 1\n",
    "        return self._X[p0:p1], self._y[p0:p1]"
   ]
  },
  {
   "cell_type": "markdown",
   "metadata": {},
   "source": [
    "## データセットの用意"
   ]
  },
  {
   "cell_type": "code",
   "execution_count": 13,
   "metadata": {},
   "outputs": [
    {
     "name": "stderr",
     "output_type": "stream",
     "text": [
      "Using TensorFlow backend.\n"
     ]
    }
   ],
   "source": [
    "import keras\n",
    "from keras.datasets import mnist\n",
    "(X_train, y_train), (X_test, y_test) = mnist.load_data()"
   ]
  },
  {
   "cell_type": "markdown",
   "metadata": {},
   "source": [
    "## 前処理"
   ]
  },
  {
   "cell_type": "code",
   "execution_count": 14,
   "metadata": {},
   "outputs": [
    {
     "name": "stdout",
     "output_type": "stream",
     "text": [
      "1.0\n",
      "0.0\n"
     ]
    }
   ],
   "source": [
    "# 0から1のfloat型に変換\n",
    "X_train = X_train.astype(np.float)\n",
    "X_test = X_test.astype(np.float)\n",
    "X_train /= 255\n",
    "X_test /= 255\n",
    "print(X_train.max()) # 1.0\n",
    "print(X_train.min()) # 0.0"
   ]
  },
  {
   "cell_type": "code",
   "execution_count": 15,
   "metadata": {},
   "outputs": [
    {
     "name": "stdout",
     "output_type": "stream",
     "text": [
      "(60000,)\n",
      "(60000, 10)\n",
      "float64\n"
     ]
    }
   ],
   "source": [
    "# one-hot表現 に変換\n",
    "from sklearn.preprocessing import OneHotEncoder\n",
    "enc = OneHotEncoder(handle_unknown='ignore', sparse=False)\n",
    "y_train_one_hot = enc.fit_transform(y_train[:, np.newaxis])\n",
    "y_test_one_hot = enc.transform(y_test[:, np.newaxis])\n",
    "print(y_train.shape) # (60000,)\n",
    "print(y_train_one_hot.shape) # (60000, 10)\n",
    "print(y_train_one_hot.dtype) # float64"
   ]
  },
  {
   "cell_type": "code",
   "execution_count": 16,
   "metadata": {},
   "outputs": [
    {
     "name": "stdout",
     "output_type": "stream",
     "text": [
      "(48000, 28, 28)\n",
      "(12000, 28, 28)\n"
     ]
    }
   ],
   "source": [
    "# 訓練データと検証データに分割\n",
    "from sklearn.model_selection import train_test_split\n",
    "X_train, X_val, y_train, y_val = train_test_split(X_train, y_train, test_size=0.2)\n",
    "print(X_train.shape) # (48000, 784)\n",
    "print(X_val.shape) # (12000, 784)"
   ]
  },
  {
   "cell_type": "code",
   "execution_count": 17,
   "metadata": {},
   "outputs": [
    {
     "name": "stdout",
     "output_type": "stream",
     "text": [
      "(48000, 1, 28, 28)\n"
     ]
    }
   ],
   "source": [
    "print(X_train.reshape(48000,1,28,28).shape) # (48000, 784)"
   ]
  },
  {
   "cell_type": "code",
   "execution_count": 18,
   "metadata": {},
   "outputs": [],
   "source": [
    "X_test = X_train.reshape(48000,1,28,28)"
   ]
  },
  {
   "cell_type": "code",
   "execution_count": 19,
   "metadata": {},
   "outputs": [
    {
     "data": {
      "text/plain": [
       "(48000, 10)"
      ]
     },
     "execution_count": 19,
     "metadata": {},
     "output_type": "execute_result"
    }
   ],
   "source": [
    "y_test = enc.fit_transform(y_train[:, np.newaxis])\n",
    "y_test.shape"
   ]
  },
  {
   "cell_type": "markdown",
   "metadata": {},
   "source": []
  },
  {
   "cell_type": "markdown",
   "metadata": {},
   "source": [
    "# 【問題1】2次元畳み込み層の作成"
   ]
  },
  {
   "cell_type": "markdown",
   "metadata": {},
   "source": [
    "1次元畳み込み層のクラスConv1dを発展させ、2次元畳み込み層のクラスConv2dを作成してください。  \n",
    "フォワードプロパゲーションの数式は以下のようになります。  \n",
    "## $$\n",
    "a_{i,j,m} = \\sum_{k=0}^{K-1}\\sum_{s=0}^{F_{h}-1}\\sum_{t=0}^{F_{w}-1}x_{(i+s),(j+t),k}w_{s,t,k,m}+b_{m}\n",
    "$$\n",
    "$a_{i,j,m}$ : 出力される配列のi行j列、mチャンネルの値  \n",
    "$i$ : 配列の行方向のインデックス  \n",
    "$j$ : 配列の列方向のインデックス  \n",
    "$m$ : 出力チャンネルのインデックス  \n",
    "$K$ : 入力チャンネル数  \n",
    "$F_{h}, F_{w}$ : 高さ方向（h）と幅方向（w）のフィルタのサイズ  \n",
    "$x_{(i+s),(j+t),k}$ : 入力の配列の(i+s)行(j+t)列、kチャンネルの値  \n",
    "$w_{s,t,k,m}$ : 重みの配列のs行t列目。kチャンネルの入力に対して、mチャンネルへ出力する重み  \n",
    "$b_m$ : mチャンネルへの出力のバイアス項  \n",
    "全てスカラーです。  \n",
    "次に更新式です。1次元畳み込み層や全結合層と同じ形です。  \n",
    "## $$\n",
    "w_{s,t,k,m}^{\\prime} = w_{s,t,k,m} - \\alpha \\frac{\\partial L}{\\partial w_{s,t,k,m}} \\\\\n",
    "b_{m}^{\\prime} = b_{m} - \\alpha \\frac{\\partial L}{\\partial b_{m}}\n",
    "$$\n",
    "$\\alpha$ : 学習率  \n",
    "$\\frac{\\partial L}{\\partial w_{s,t,k,m}}$ : $w_{s,t,k,m}$ に関する損失 $L$ の勾配  \n",
    "$\\frac{\\partial L}{\\partial b_{m}}$ : $b_{m}$ に関する損失 $L$ の勾配  \n",
    "勾配 $\\frac{\\partial L}{\\partial w_{s,t,k,m}}$ や $\\frac{\\partial L}{\\partial b_{m}}$ を求めるためのバックプロパゲーションの数式が以下である。  \n",
    "## $$\n",
    "\\frac{\\partial L}{\\partial w_{s,t,k,m}} = \\sum_{i=0}^{N_{out,h}-1}\\sum_{j=0}^{N_{out,w}-1} \\frac{\\partial L}{\\partial a_{i,j,m}}x_{(i+s)(j+t),k}\\\\\n",
    "\\frac{\\partial L}{\\partial b_{m}} = \\sum_{i=0}^{N_{out,h}-1}\\sum_{j=0}^{N_{out,w}-1}\\frac{\\partial L}{\\partial a_{i,j,m}}\n",
    "$$\n",
    "$\\frac{\\partial L}{\\partial a_i}$ : 勾配の配列のi行j列、mチャンネルの値  \n",
    "$N_{out,h},N_{out,w}$ : 高さ方向（h）と幅方向（w）の出力のサイズ  \n",
    "前の層に流す誤差の数式は以下です。  \n",
    "## $$\n",
    "\\frac{\\partial L}{\\partial x_{i,j,k}} = \\sum_{m=0}^{M-1}\\sum_{s=0}^{F_{h}-1}\\sum_{t=0}^{F_{w}-1} \\frac{\\partial L}{\\partial a_{(i-s),(j-t),m}}w_{s,t,k,m}\n",
    "$$\n",
    "$\\frac{\\partial L}{\\partial x_{i,j,k}}$ : 前の層に流す誤差の配列のi列j行、kチャンネルの値  \n",
    "$M$ : 出力チャンネル数  \n",
    "ただし、 $i-s<0$ または $i-s>N_{out,h}-1$ または $j-t<0$ または $j-t>N_{out,w}-1$ のとき $\\frac{\\partial L}{\\partial a_{(i-s),(j-t),m}} =0$ です。"
   ]
  },
  {
   "cell_type": "code",
   "execution_count": 20,
   "metadata": {},
   "outputs": [],
   "source": [
    "class Conv2d:\n",
    "\n",
    "    def __init__(self, FN, C, FH, FW, stride=1, padding=0, optimizer=None, act_func=None, pool_func=None, flatten_func=None):\n",
    "\n",
    "        self.W = np.sqrt(2.0/(28+28))*np.random.randn(FN, C, FH, FW) # (出力チャンネル数、入力チャンネル数、フィルタサイズ)\n",
    "        self.B = np.sqrt(2.0/(28+28))*np.random.randn(FN) # （出力チャンネル数）\n",
    "        \n",
    "        self.stride = 1\n",
    "        self.padding = 0\n",
    "        \n",
    "        # 中間データ（backward時に使用）\n",
    "        self.X = None   \n",
    "        self.X_col = None\n",
    "        self.W_col = None\n",
    "        \n",
    "        # 重み・バイアスパラメータの勾配\n",
    "        self.dW = None\n",
    "        self.dB = None\n",
    "        \n",
    "        self.act_func = act_func\n",
    "        self.pool_func = pool_func\n",
    "        \n",
    "        self.optimizer = optimizer\n",
    "        self.flatten_func = flatten_func\n",
    "\n",
    "    def forward(self, X):\n",
    "        \n",
    "        FN, C, FH, FW = self.W.shape\n",
    "        N, C, H, W = X.shape\n",
    "        out_h = 1 + int((H + 2*self.padding - FH) / self.stride)\n",
    "        out_w = 1 + int((W + 2*self.padding - FW) / self.stride)\n",
    "    \n",
    "        X_col = self.im2col(X, FH, FW, self.stride, self.padding)\n",
    "        W_col = self.W.reshape(FN, -1).T\n",
    "\n",
    "        A = np.dot(X_col, W_col) + self.B\n",
    "        A = A.reshape(N, out_h, out_w, -1).transpose(0, 3, 1, 2)\n",
    "\n",
    "        self.X = X\n",
    "        self.X_col = X_col\n",
    "        self.W_col = W_col\n",
    "\n",
    "        return A\n",
    "\n",
    "    def backward(self, dA):\n",
    "        \n",
    "        FN, C, FH, FW = self.W.shape\n",
    "        dA = dA.transpose(0,2,3,1).reshape(-1, FN)\n",
    "\n",
    "        self.dB = np.sum(dA, axis=0)\n",
    "        self.dW = np.dot(self.X_col.T, dA)\n",
    "        self.dW = self.dW.transpose(1, 0).reshape(FN, C, FH, FW)\n",
    "\n",
    "        dZ_col = np.dot(dA, self.W_col.T)\n",
    "        dZ = self.col2im(dZ_col, self.X.shape, FH, FW, self.stride, self.padding)\n",
    "        \n",
    "         # 更新\n",
    "        self = self.optimizer.update(self)\n",
    "        return dZ\n",
    "    \n",
    "    def im2col(self, input_data, filter_h, filter_w, stride=1, pad=0):\n",
    "\n",
    "        N, C, H, W = input_data.shape\n",
    "        out_h = (H + 2*pad - filter_h)//stride + 1\n",
    "        out_w = (W + 2*pad - filter_w)//stride + 1\n",
    "\n",
    "        img = np.pad(input_data, [(0,0), (0,0), (pad, pad), (pad, pad)], 'constant')\n",
    "        col = np.zeros((N, C, filter_h, filter_w, out_h, out_w))\n",
    "\n",
    "        for y in range(filter_h):\n",
    "            y_max = y + stride*out_h\n",
    "            for x in range(filter_w):\n",
    "                x_max = x + stride*out_w\n",
    "                col[:, :, y, x, :, :] = img[:, :, y:y_max:stride, x:x_max:stride]\n",
    "\n",
    "        col = col.transpose(0, 4, 5, 1, 2, 3).reshape(N*out_h*out_w, -1)\n",
    "        return col    \n",
    "    \n",
    "\n",
    "    def col2im(self, col, input_shape, filter_h, filter_w, stride=1, padding=0):\n",
    "\n",
    "        N, C, H, W = input_shape\n",
    "        out_h = (H + 2*padding - filter_h)//stride + 1\n",
    "        out_w = (W + 2*padding - filter_w)//stride + 1\n",
    "        col = col.reshape(N, out_h, out_w, C, filter_h, filter_w).transpose(0, 3, 4, 5, 1, 2)\n",
    "\n",
    "        img = np.zeros((N, C, H + 2*padding + stride - 1, W + 2*padding + stride - 1))\n",
    "        for y in range(filter_h):\n",
    "            y_max = y + stride*out_h\n",
    "            for x in range(filter_w):\n",
    "                x_max = x + stride*out_w\n",
    "                img[:, :, y:y_max:stride, x:x_max:stride] += col[:, :, y, x, :, :]\n",
    "\n",
    "        return img[:, :, padding:H + padding, padding:W + padding]    \n",
    "\n"
   ]
  },
  {
   "cell_type": "markdown",
   "metadata": {},
   "source": [
    "# 【問題2】2次元畳み込み後の出力サイズ"
   ]
  },
  {
   "cell_type": "markdown",
   "metadata": {},
   "source": [
    "畳み込みを行うと特徴マップのサイズが変化します。どのように変化するかは以下の数式から求められます。この計算を行う関数を作成してください。\n",
    "## $$\n",
    "N_{h,out} =  \\frac{N_{h,in}+2P_{h}-F_{h}}{S_{h}} + 1\\\\\n",
    "N_{w,out} =  \\frac{N_{w,in}+2P_{w}-F_{w}}{S_{w}} + 1\n",
    "$$\n",
    "$N_{out}$ : 出力のサイズ（特徴量の数）\n",
    "\n",
    "\n",
    "$N_{in}$ : 入力のサイズ（特徴量の数）\n",
    "\n",
    "\n",
    "$P$ : ある方向へのパディングの数\n",
    "\n",
    "\n",
    "$F$ : フィルタのサイズ\n",
    "\n",
    "\n",
    "$S$ : ストライドのサイズ\n",
    "\n",
    "\n",
    "$h$ が高さ方向、 $w$ が幅方向である"
   ]
  },
  {
   "cell_type": "code",
   "execution_count": 21,
   "metadata": {},
   "outputs": [],
   "source": [
    "def calc_n_output(n_input, n_filter, n_padding, n_stride):\n",
    "    n_output = int(1 + (n_input + 2 * n_padding -  n_filter) / n_stride)\n",
    "    return n_output"
   ]
  },
  {
   "cell_type": "markdown",
   "metadata": {},
   "source": [
    "# 【問題3】最大プーリング層の作成"
   ]
  },
  {
   "cell_type": "markdown",
   "metadata": {},
   "source": [
    "最大プーリング層のクラスMaxPool2Dを作成してください。プーリング層は数式で表さない方が分かりやすい部分もありますが、数式で表すとフォワードプロパゲーションは以下のようになります。\n",
    "## $$\n",
    "a_{i,j,k} = \\max_{(p,q)\\in P_{i,j}}x_{p,q,k}\n",
    "$$\n",
    "$P_{i,j}$ : i行j列への出力する場合の入力配列のインデックスの集合。 $S_{h}×S_{w}$ の範囲内の行（p）と列（q）  \n",
    "$S_{h}, S_{w}$ : 高さ方向（h）と幅方向（w）のストライドのサイズ  \n",
    "$(p,q)\\in P_{i,j}$ : $P_{i,j}$ に含まれる行（p）と列（q）のインデックス  \n",
    "$a_{i,j,m}$ : 出力される配列のi行j列、kチャンネルの値  \n",
    "$x_{p,q,k}$ : 入力の配列のp行q列、kチャンネルの値  \n",
    "ある範囲の中でチャンネル方向の軸は残したまま最大値を計算することになります。  \n",
    "バックプロパゲーションのためには、フォワードプロパゲーションのときの最大値のインデックス $(p,q)$ を保持しておく必要があります。フォワード時に最大値を持っていた箇所にそのままの誤差を流し、そこ以外には0を入れるためです。"
   ]
  },
  {
   "cell_type": "code",
   "execution_count": 22,
   "metadata": {},
   "outputs": [],
   "source": [
    "class MaxPool2D:\n",
    "    def __init__(self, pool_h, pool_w, stride=1, pad=0):\n",
    "        self.pool_h = pool_h\n",
    "        self.pool_w = pool_w\n",
    "        self.stride = stride\n",
    "        self.pad = pad\n",
    "\n",
    "        self.x = None\n",
    "        self.arg_max = None\n",
    "\n",
    "    def forward(self, x):\n",
    "        N, C, H, W = x.shape\n",
    "        out_h = int(1 + (H - self.pool_h) / self.stride)\n",
    "        out_w = int(1 + (W - self.pool_w) / self.stride)\n",
    "        \n",
    "        col = self.im2col(x, self.pool_h, self.pool_w, self.stride, self.pad)\n",
    "        col = col.reshape(-1, self.pool_h*self.pool_w)\n",
    "\n",
    "        arg_max = np.argmax(col, axis=1)\n",
    "        out = np.max(col, axis=1)\n",
    "        out = out.reshape(N, out_h, out_w, C).transpose(0, 3, 1, 2)\n",
    "\n",
    "        self.x = x\n",
    "        self.arg_max = arg_max\n",
    "\n",
    "        return out\n",
    "\n",
    "    def backward(self, dout):\n",
    "        dout = dout.transpose(0, 2, 3, 1)\n",
    "\n",
    "        pool_size = self.pool_h * self.pool_w\n",
    "        dmax = np.zeros((dout.size, pool_size))\n",
    "        #flattenは構造を１次元配列に入れ直すこと\n",
    "        dmax[np.arange(self.arg_max.size), self.arg_max.flatten()] = dout.flatten()\n",
    "        dmax = dmax.reshape(dout.shape + (pool_size,)) \n",
    "\n",
    "        dcol = dmax.reshape(dmax.shape[0] * dmax.shape[1] * dmax.shape[2], -1)\n",
    "        dx = self.col2im(dcol, self.x.shape, self.pool_h, self.pool_w, self.stride, self.pad)\n",
    "\n",
    "        return dx\n",
    "    \n",
    "    def im2col(self, input_data, filter_h, filter_w, stride=1, pad=0):\n",
    "\n",
    "        N, C, H, W = input_data.shape\n",
    "        out_h = (H + 2*pad - filter_h)//stride + 1\n",
    "        out_w = (W + 2*pad - filter_w)//stride + 1\n",
    "\n",
    "        img = np.pad(input_data, [(0,0), (0,0), (pad, pad), (pad, pad)], 'constant')\n",
    "        col = np.zeros((N, C, filter_h, filter_w, out_h, out_w))\n",
    "\n",
    "        for y in range(filter_h):\n",
    "            y_max = y + stride*out_h\n",
    "            for x in range(filter_w):\n",
    "                x_max = x + stride*out_w\n",
    "                col[:, :, y, x, :, :] = img[:, :, y:y_max:stride, x:x_max:stride]\n",
    "\n",
    "        col = col.transpose(0, 4, 5, 1, 2, 3).reshape(N*out_h*out_w, -1)\n",
    "        return col    \n",
    "    \n",
    "\n",
    "    def col2im(self, col, input_shape, filter_h, filter_w, stride=1, padding=0):\n",
    "\n",
    "        N, C, H, W = input_shape\n",
    "        out_h = (H + 2*padding - filter_h)//stride + 1\n",
    "        out_w = (W + 2*padding - filter_w)//stride + 1\n",
    "        col = col.reshape(N, out_h, out_w, C, filter_h, filter_w).transpose(0, 3, 4, 5, 1, 2)\n",
    "\n",
    "        img = np.zeros((N, C, H + 2*padding + stride - 1, W + 2*padding + stride - 1))\n",
    "        for y in range(filter_h):\n",
    "            y_max = y + stride*out_h\n",
    "            for x in range(filter_w):\n",
    "                x_max = x + stride*out_w\n",
    "                img[:, :, y:y_max:stride, x:x_max:stride] += col[:, :, y, x, :, :]\n",
    "\n",
    "        return img[:, :, padding:H + padding, padding:W + padding]        \n",
    "    "
   ]
  },
  {
   "cell_type": "markdown",
   "metadata": {},
   "source": [
    "# 【問題4】（アドバンス課題）平均プーリングの作成"
   ]
  },
  {
   "cell_type": "markdown",
   "metadata": {},
   "source": [
    "平均プーリング層のクラスAveragePool2Dを作成してください。  \n",
    "範囲内の最大値ではなく、平均値を出力とするプーリング層です。  \n",
    "画像認識関係では最大プーリング層が一般的で、平均プーリングはあまり使われません。  "
   ]
  },
  {
   "cell_type": "code",
   "execution_count": 23,
   "metadata": {},
   "outputs": [],
   "source": [
    "class AveragePool2D:\n",
    "    def __init__(self, pool_h, pool_w, stride=1, pad=0):\n",
    "        self.pool_h = pool_h\n",
    "        self.pool_w = pool_w\n",
    "        self.stride = stride\n",
    "        self.pad = pad\n",
    "\n",
    "        self.x = None\n",
    "        self.arg_average = None\n",
    "\n",
    "    def forward(self, x):\n",
    "        N, C, H, W = x.shape\n",
    "        out_h = int(1 + (H - self.pool_h) / self.stride)\n",
    "        out_w = int(1 + (W - self.pool_w) / self.stride)\n",
    "\n",
    "\n",
    "        \n",
    "        col = im2col(x, self.pool_h, self.pool_w, self.stride, self.pad)\n",
    "        col = col.reshape(-1, self.pool_h*self.pool_w)\n",
    "\n",
    "        arg_average = np.argaverage(col, axis=1)\n",
    "        out = np.average(col, axis=1)\n",
    "        out = out.reshape(N, out_h, out_w, C).transpose(0, 3, 1, 2)\n",
    "\n",
    "        self.x = x\n",
    "        self.arg_average = arg_average\n",
    "\n",
    "        return out\n",
    "\n",
    "    def backward(self, dout):\n",
    "        dout = dout.transpose(0, 2, 3, 1)\n",
    "\n",
    "        pool_size = self.pool_h * self.pool_w\n",
    "        daverage = np.zeros((dout.size, pool_size))\n",
    "        #flattenは構造を１次元配列に入れ直すこと\n",
    "        daverage[np.arange(self.arg_average.size), self.arg_average.flatten()] = dout.flatten()\n",
    "        daverage = daverage.reshape(dout.shape + (pool_size,)) \n",
    "\n",
    "        dcol = daverage.reshape(daverage.shape[0] * daverage.shape[1] * daverage.shape[2], -1)\n",
    "        dx = col2im(dcol, self.x.shape, self.pool_h, self.pool_w, self.stride, self.pad)\n",
    "\n",
    "        return dx"
   ]
  },
  {
   "cell_type": "markdown",
   "metadata": {},
   "source": [
    "# 【問題5】平滑化"
   ]
  },
  {
   "cell_type": "markdown",
   "metadata": {},
   "source": [
    "平滑化するためのFlattenクラスを作成してください。  \n",
    "フォワードのときはチャンネル、高さ、幅の3次元を1次元にreshapeします。その値は記録しておき、バックワードのときに再びreshapeによって形を戻します。  \n",
    "この平滑化のクラスを挟むことで出力前の全結合層に適した配列を作ることができます。"
   ]
  },
  {
   "cell_type": "code",
   "execution_count": 24,
   "metadata": {},
   "outputs": [],
   "source": [
    "class Flatten:\n",
    "\n",
    "    def forward(self, Z, N):\n",
    "        \n",
    "        self.C = Z.shape[1]\n",
    "        self.OH = Z.shape[2]\n",
    "        self.OW = Z.shape[3]\n",
    "\n",
    "        return Z.reshape(N, -1)\n",
    "        \n",
    "    def backward(self, dZ, N, C):\n",
    "        \n",
    "        return dZ.reshape(N, self.C, self.OH, self.OW)"
   ]
  },
  {
   "cell_type": "markdown",
   "metadata": {},
   "source": [
    "# 【問題6】学習と推定"
   ]
  },
  {
   "cell_type": "code",
   "execution_count": 25,
   "metadata": {},
   "outputs": [],
   "source": [
    "class Scratch2dCNNClassifier:\n",
    "    \n",
    "    def __init__(self, epoch, batch_size, lr, optimizer='SGD', sigma=0.1, stride=1, padding=0):\n",
    "        self.epoch = epoch                       # エポック数\n",
    "        self.batch_size = batch_size      # バッチ数\n",
    "        self.lr = lr                                        # 学習率\n",
    "        self.optimizer = optimizer            # 勾配法\n",
    "        self.sigma = sigma                        # シグマ（初期化用）\n",
    "        \n",
    "        self.layers = []                               # レイヤーの配列を初期化\n",
    "        self.loss = []                                   # lossの配列を初期化\n",
    "        \n",
    "        self.stride = stride\n",
    "        self.padding = padding\n",
    "    \n",
    "    # Convolutionレイヤーの追加\n",
    "    def add_convolution(self, FN=1, C=1, FH=3, FW=3, activation='relu', pooling='max', flatten=False, pool_h=2, pool_w=2):       \n",
    "        \n",
    "        if activation == 'relu':\n",
    "            act_func = ReLU()        \n",
    "        elif activation is None:\n",
    "            act_func = None\n",
    "            \n",
    "        if pooling == 'max':\n",
    "            pool_func = MaxPool2D(pool_h, pool_w, self.stride, self.padding)\n",
    "        elif pooling == 'avarage':\n",
    "            pool_func = AveragePool2D(pool_h, pool_w, self.stride, self.padding)\n",
    "        else:\n",
    "            pool_func = None\n",
    "            \n",
    "        if flatten is True:\n",
    "            flatten_func = Flatten()\n",
    "        else:\n",
    "            flatten_func = None\n",
    "\n",
    "        # Convolutionレイヤーの追加\n",
    "        self.layers.append(Conv2d(FN, C, FH, FW, self.stride, self.padding, SGD(self.lr), act_func, pool_func, flatten_func))\n",
    "    \n",
    "    # Affineレイヤーの追加\n",
    "    def add_affine(self, n_nodes1, n_nodes2, activation):\n",
    "        \n",
    "        # 選択した活性化関数により「イニシャライザ」と「活性化関数」のオブジェクトを作成\n",
    "        if activation == 'relu':\n",
    "            initializer = HeInitializer()\n",
    "            act_func = ReLU()\n",
    "        elif activation == 'sigmoid':\n",
    "            initializer = XavierInitializer()\n",
    "            act_func = Sigmoid()\n",
    "        elif activation == 'tanh':\n",
    "            initializer = XavierInitializer()\n",
    "            act_func = Tanh()\n",
    "        elif activation == 'softmax':\n",
    "            initializer = SimpleInitializer(self.sigma)\n",
    "            act_func = Softmax()\n",
    "\n",
    "        # 選択した勾配法により「勾配法」のオブジェクトを作成\n",
    "        if self.optimizer == 'SGD':\n",
    "            optimizer = SGD(self.lr)\n",
    "        elif self.optimizer == 'AdaGrad':\n",
    "            optimizer = AdaGrad(self.lr)\n",
    "        \n",
    "        # Affineレイヤーの追加\n",
    "        self.layers.append(FC(n_nodes1, n_nodes2, initializer, optimizer, act_func))\n",
    "        \n",
    "        \n",
    "    def fit(self, X, y):\n",
    "        \n",
    "        for e in np.arange(self.epoch):\n",
    "            \n",
    "            get_mini_batch = GetMiniBatch(X, y, batch_size=self.batch_size) # ミニバッチに分割\n",
    "            \n",
    "            for mini_X_train, mini_y_train in get_mini_batch:\n",
    "                \n",
    "                # ★★★★ フォワードプロパゲーション ★★★★\n",
    "                Z = mini_X_train # 初期値を代入\n",
    "                \n",
    "                for layer in self.layers:\n",
    "                    \n",
    "                    # Convolutionレイヤーの場合\n",
    "                    if type(layer) is Conv2d:\n",
    "                        \n",
    "                        # 畳み込み層\n",
    "                        A = layer.forward(Z)\n",
    "                        \n",
    "                        # 活性化関数\n",
    "                        if layer.act_func is not None:\n",
    "                            A = layer.act_func.forward(A)\n",
    "                            \n",
    "                        # プーリング層\n",
    "                        if layer.pool_func is not None:\n",
    "                            Z = layer.pool_func.forward(A)\n",
    "                        \n",
    "                        # 平滑化\n",
    "                        if layer.flatten_func is not None:\n",
    "                                Z = layer.flatten_func.forward(Z, self.batch_size)\n",
    "                        \n",
    "                    # Affineレイヤーの場合\n",
    "                    elif type(layer) is FC:\n",
    "                        \n",
    "                        # FC層\n",
    "                        A = layer.forward(Z)\n",
    "                        \n",
    "                        # 活性化関数\n",
    "                        Z = layer.act_func.forward(A)\n",
    "                        \n",
    "                    \n",
    "                # ★★★★ 交差エントロピー誤差 ★★★★                \n",
    "                self.loss.append(self.cross_entropy_error(Z,  mini_y_train))                    \n",
    "                    \n",
    "                    \n",
    "                #  ★★★★ バックプロパゲーション ★★★★\n",
    "                dZ = Z - mini_y_train\n",
    "                \n",
    "                for layer in self.layers[::-1]:\n",
    "                    \n",
    "                    if type(layer) is Conv2d:\n",
    "                        \n",
    "                        # 平滑化\n",
    "                        if layer.flatten_func is not None:\n",
    "                                dZ = layer.flatten_func.backward(dZ, self.batch_size, 1)                        \n",
    "                        \n",
    "                        # プーリング層\n",
    "                        if layer.pool_func is not None:\n",
    "                            dA = layer.pool_func.backward(dZ)\n",
    "                        \n",
    "                        # 活性化関数\n",
    "                        if layer.act_func is not None:\n",
    "                            dA = layer.act_func.backward(dA)\n",
    "\n",
    "                        # 畳み込み層\n",
    "                        dZ = layer.backward(dA)                            \n",
    "                        \n",
    "                    elif type(layer) is FC:\n",
    "                        \n",
    "                        # 活性化関数\n",
    "                        dA = layer.act_func.backward(dZ)\n",
    "                        \n",
    "                        # FC層\n",
    "                        dZ = layer.backward(dA)\n",
    "                                           \n",
    "             \n",
    "    def predict(self, X):\n",
    "    \n",
    "        Z = X # 初期値を代入\n",
    "        \n",
    "        for layer in self.layers:\n",
    "            \n",
    "            # Convolutionレイヤーの場合\n",
    "            if type(layer) is Conv2d:\n",
    "\n",
    "                # 畳み込み層\n",
    "                A = layer.forward(Z)\n",
    "                \n",
    "                # 活性化関数\n",
    "                if layer.act_func is not None:\n",
    "                    A = layer.act_func.forward(A)\n",
    "                \n",
    "                # プーリング層\n",
    "                if layer.pool_func is not None:\n",
    "                    Z = layer.pool_func.forward(A)\n",
    "\n",
    "                # 平滑化\n",
    "                if layer.flatten_func is not None:\n",
    "                        Z = layer.flatten_func.forward(Z, X.shape[0])\n",
    "                \n",
    "            # Affineレイヤーの場合\n",
    "            elif type(layer) is FC:\n",
    "\n",
    "                # FC層\n",
    "                A = layer.forward(Z)\n",
    "                \n",
    "                # 活性化関数\n",
    "                Z = layer.act_func.forward(A)\n",
    "                \n",
    "        y_pred = np.argmax(Z,axis=1)     \n",
    "    \n",
    "        return y_pred\n",
    "    \n",
    "    def cross_entropy_error(self, y_pred,  y_true):\n",
    "        delta = 1e-7\n",
    "        return -np.sum(y_true * np.log(y_pred + delta)) / self.batch_size        "
   ]
  },
  {
   "cell_type": "code",
   "execution_count": 37,
   "metadata": {},
   "outputs": [],
   "source": [
    "clf=Scratch2dCNNClassifier(epoch=5, batch_size=20, lr=0.005, optimizer='SGD', sigma=0.1, stride=1, padding=0)\n",
    "clf.add_convolution(FN=1, C=1, FH=3, FW=3, activation=None, pooling='max', flatten=True, pool_h=2, pool_w=2)\n",
    "clf.add_affine(n_nodes1=625, n_nodes2=200, activation = 'sigmoid')\n",
    "clf.add_affine(n_nodes1=200, n_nodes2=10, activation = 'softmax')"
   ]
  },
  {
   "cell_type": "code",
   "execution_count": 38,
   "metadata": {
    "scrolled": true
   },
   "outputs": [
    {
     "name": "stderr",
     "output_type": "stream",
     "text": [
      "/Users/chidori/.pyenv/versions/anaconda3-5.3.1/lib/python3.7/site-packages/ipykernel_launcher.py:15: RuntimeWarning: overflow encountered in exp\n",
      "  from ipykernel import kernelapp as app\n"
     ]
    }
   ],
   "source": [
    "clf.fit(X_test, y_test)"
   ]
  },
  {
   "cell_type": "code",
   "execution_count": 39,
   "metadata": {},
   "outputs": [
    {
     "name": "stderr",
     "output_type": "stream",
     "text": [
      "/Users/chidori/.pyenv/versions/anaconda3-5.3.1/lib/python3.7/site-packages/ipykernel_launcher.py:15: RuntimeWarning: overflow encountered in exp\n",
      "  from ipykernel import kernelapp as app\n"
     ]
    }
   ],
   "source": [
    "y_pred = clf.predict(X_val.reshape(12000,1,28,28))"
   ]
  },
  {
   "cell_type": "code",
   "execution_count": 40,
   "metadata": {},
   "outputs": [
    {
     "data": {
      "text/plain": [
       "0.8731666666666666"
      ]
     },
     "execution_count": 40,
     "metadata": {},
     "output_type": "execute_result"
    }
   ],
   "source": [
    "from sklearn.metrics import accuracy_score\n",
    "accuracy_score(y_val, y_pred)"
   ]
  },
  {
   "cell_type": "code",
   "execution_count": 41,
   "metadata": {},
   "outputs": [
    {
     "data": {
      "text/plain": [
       "<matplotlib.legend.Legend at 0x7fb88521dcf8>"
      ]
     },
     "execution_count": 41,
     "metadata": {},
     "output_type": "execute_result"
    },
    {
     "data": {
      "image/png": "[encoded data removed]",
      "text/plain": [
       "<Figure size 1000x500 with 1 Axes>"
      ]
     },
     "metadata": {
      "needs_background": "light"
     },
     "output_type": "display_data"
    }
   ],
   "source": [
    "plt.figure(figsize=(10,5), dpi=100)\n",
    "plt.plot(clf.loss, label='loss')\n",
    "plt.legend()"
   ]
  },
  {
   "cell_type": "markdown",
   "metadata": {},
   "source": [
    "作成したConv2dを使用してMNISTを学習・推定し、Accuracyを計算してください。  \n",
    "精度は低くともまずは動くことを目指してください。 "
   ]
  },
  {
   "cell_type": "markdown",
   "metadata": {},
   "source": [
    "# 【問題7】（アドバンス課題）LeNet"
   ]
  },
  {
   "cell_type": "markdown",
   "metadata": {},
   "source": [
    "CNNで画像認識を行う際は、フィルタサイズや層の数などを１から考えるのではなく、有名な構造を利用することが一般的です。現在では実用的に使われることはありませんが、歴史的に重要なのは1998年の LeNet です。この構造を再現してMNISTに対して動かし、Accuracyを計算してください。"
   ]
  },
  {
   "cell_type": "markdown",
   "metadata": {},
   "source": [
    "サブサンプリングとは現在のプーリングに相当するものです。現代風に以下のように作ってみることにします。活性化関数も当時はシグモイド関数ですが、ReLUとします。  \n",
    "畳み込み層　出力チャンネル数6、フィルタサイズ5×5、ストライド1  \n",
    "ReLU  \n",
    "最大プーリング  \n",
    "畳み込み層　出力チャンネル数16、フィルタサイズ5×5、ストライド1  \n",
    "ReLU  \n",
    "最大プーリング  \n",
    "平滑化  \n",
    "全結合層　出力ノード数120  \n",
    "ReLU  \n",
    "全結合層　出力ノード数84  \n",
    "ReLU  \n",
    "全結合層　出力ノード数10  \n",
    "ソフトマックス関数  "
   ]
  },
  {
   "cell_type": "code",
   "execution_count": 31,
   "metadata": {},
   "outputs": [],
   "source": [
    "clf=Scratch2dCNNClassifier(epoch=5, batch_size=20, lr=0.005, optimizer='SGD', sigma=0.1, stride=1, padding=0)\n",
    "clf.add_convolution(FN=6, C=1, FH=5, FW=5, activation='relu', pooling='max', flatten=False, pool_h=2, pool_w=2)\n",
    "clf.add_convolution(FN=16, C=6, FH=5, FW=5, activation='relu', pooling='max', flatten=True, pool_h=2, pool_w=2)\n",
    "clf.add_affine(n_nodes1=5184, n_nodes2=120, activation = 'relu')\n",
    "clf.add_affine(n_nodes1=120, n_nodes2=84, activation = 'relu')\n",
    "clf.add_affine(n_nodes1=84, n_nodes2=10, activation = 'softmax')"
   ]
  },
  {
   "cell_type": "code",
   "execution_count": 32,
   "metadata": {},
   "outputs": [],
   "source": [
    "clf.fit(X_test, y_test)"
   ]
  },
  {
   "cell_type": "code",
   "execution_count": 33,
   "metadata": {},
   "outputs": [],
   "source": [
    "y_pred = clf.predict(X_val.reshape(12000,1,28,28))"
   ]
  },
  {
   "cell_type": "code",
   "execution_count": 34,
   "metadata": {},
   "outputs": [
    {
     "data": {
      "text/plain": [
       "0.9868333333333333"
      ]
     },
     "execution_count": 34,
     "metadata": {},
     "output_type": "execute_result"
    }
   ],
   "source": [
    "from sklearn.metrics import accuracy_score\n",
    "accuracy_score(y_val, y_pred)"
   ]
  },
  {
   "cell_type": "code",
   "execution_count": 35,
   "metadata": {},
   "outputs": [
    {
     "data": {
      "text/plain": [
       "<matplotlib.legend.Legend at 0x7fbb3cc97c18>"
      ]
     },
     "execution_count": 35,
     "metadata": {},
     "output_type": "execute_result"
    },
    {
     "data": {
      "image/png": "[encoded data removed]",
      "text/plain": [
       "<Figure size 1000x500 with 1 Axes>"
      ]
     },
     "metadata": {
      "needs_background": "light"
     },
     "output_type": "display_data"
    }
   ],
   "source": [
    "plt.figure(figsize=(10,5), dpi=100)\n",
    "plt.plot(clf.loss, label='loss')\n",
    "plt.legend()"
   ]
  },
  {
   "cell_type": "markdown",
   "metadata": {},
   "source": []
  },
  {
   "cell_type": "markdown",
   "metadata": {},
   "source": [
    "# 【問題8】（アドバンス課題）有名な画像認識モデルの調査"
   ]
  },
  {
   "cell_type": "markdown",
   "metadata": {},
   "source": [
    "CNNの代表的な構造としてははAlexNet(2012)、VGG16(2014)などがあります。こういったものはフレームワークで既に用意されていることも多いです。  \n",
    "どういったものがあるか簡単に調べてまとめてください。名前だけでも見ておくと良いでしょう。  "
   ]
  },
  {
   "cell_type": "markdown",
   "metadata": {},
   "source": [
    "### LeNet\n",
    "1998年に提案された、現Facebook AI ResearchのYann LeCun先生によるCNNの元祖となるネットワーク。畳込み層とプーリング層を交互に重ねたネットワークで、この時点ですでに現在使われているアーキテクチャとほぼ同じ形になっている。活性化関数がシグモイド関数な点、プーリング層がMaxプーリングではなくサブサンプリングで縮小している点などが特徴。\n",
    "### AlexNet\n",
    "LeNetが登場してから14年ほど経った2012年に発表された、トロント大のHinton教授を含むチームによるネットワーク。ImageNetを使った画像認識コンペILSVRCで圧倒的な成績を残し、ディープラーニングの火付け役となった。  \n",
    "畳み込み層とプーリング層、そして正規化層と呼ばれる局所的正規化(LRN ― Local Response Normalization)を行う層を重ねた14層のネットワーク。活性化関数はReLUで、Dropoutを用いているのが特徴。他にもData Augmentationなども行っていて、現在使われているCNNでの主要な手法がこの時点ですでに活用されている。\n",
    "### VGG\n",
    "2014年のILSVRCで2位になった、オックスフォード大学のVGGチームのネットワーク。AlexNetをより深くした、畳み込み層とプーリング層から成るどノーマルなCNNで、重みがある層(畳み込み層や全結合層)を16層、もしくは19層重ねたもの。それぞれVGG16やVGG19と呼ばれる。  \n",
    "小さいフィルターを持つ畳み込み層を2〜4つ連続して重ね、それをプーリング層でサイズを半分にするというのを繰り返し行う構造が特徴。  \n",
    "### GoogLeNet\n",
    "前述したとおり、2014年のコンペで1位になったアーキテクチャ。このアーキテクチャは通常の入力層から出力層まで縦一直線な構造ではなく、インセプション構造と呼ばれる横にも層が広がる構造をしている。このため、Inceptionモデルとも呼ばれる。  \n",
    "横への層の広がりは、異なるサイズのフィルターの畳み込み層を複数横に並べて、それを結合するという形になっている。  \n",
    "### ResNet\n",
    "Microsoft(当時)のKaiming He氏による、2015年のILSVRCで優勝したネットワーク。それまでのネットワークでは層を深くしすぎると性能が落ちるという問題があったが、それを「スキップ構造」によって解決し、152層もの深さ(前年優勝のGoogLeNetでも22層)を実現した。  \n",
    "スキップ構造は、ある層への入力をバイパスし層をまたいで奥の層へ入力してしまうというもので、これにより勾配の消失や発散を防止し、超多層のネットワークを実現している。  "
   ]
  },
  {
   "cell_type": "markdown",
   "metadata": {},
   "source": [
    "# 【問題9】出力サイズとパラメータ数の計算"
   ]
  },
  {
   "cell_type": "markdown",
   "metadata": {},
   "source": [
    "CNNモデルを構築する際には、全結合層に入力する段階で特徴量がいくつになっているかを事前に計算する必要があります。  \n",
    "また、巨大なモデルを扱うようになると、メモリや計算速度の関係でパラメータ数の計算は必須になってきます。フレームワークでは各層のパラメータ数を表示させることが可能ですが、意味を理解していなくては適切な調整が行えません。  \n",
    "以下の3つの畳み込み層の出力サイズとパラメータ数を計算してください。パラメータ数についてはバイアス項も考えてください。  \n",
    "1.  \n",
    "入力サイズ : 144×144, 3チャンネル  \n",
    "フィルタサイズ : 3×3, 6チャンネル  \n",
    "ストライド : 1  \n",
    "パディング : なし  \n",
    "2.  \n",
    "入力サイズ : 60×60, 24チャンネル  \n",
    "フィルタサイズ : 3×3, 48チャンネル  \n",
    "ストライド　: 1  \n",
    "パディング : なし  \n",
    "3.  \n",
    "入力サイズ : 20×20, 10チャンネル  \n",
    "フィルタサイズ: 3×3, 20チャンネル  \n",
    "ストライド : 2  \n",
    "パディング : なし  \n",
    "＊最後の例は丁度良く畳み込みをすることができない場合です。フレームワークでは余ったピクセルを見ないという処理が行われることがあるので、その場合を考えて計算してください。端が欠けてしまうので、こういった設定は好ましくないという例です。  "
   ]
  },
  {
   "cell_type": "markdown",
   "metadata": {},
   "source": [
    "## 1.  \n",
    "入力サイズ : 144×144, 3チャンネル  \n",
    "フィルタサイズ : 3×3, 6チャンネル  \n",
    "ストライド : 1  \n",
    "パディング : なし  \n",
    "\n",
    "### 出力サイズ : 142 × 142\n",
    "out_H = (144 + 2 × 0 - 3) // 1 +1  \n",
    "out_W = (144 + 2 × 0 - 3) // 1 +1\n",
    "### パラメータ数 : 168\n",
    "n_param = 3 × 3 × 3 × 6 + 6"
   ]
  },
  {
   "cell_type": "markdown",
   "metadata": {},
   "source": [
    "## 2.  \n",
    "入力サイズ : 60×60, 24チャンネル  \n",
    "フィルタサイズ : 3×3, 48チャンネル  \n",
    "ストライド　: 1  \n",
    "パディング : なし  \n",
    "\n",
    "### 出力サイズ : 58 × 58\n",
    "out_H = (60 + 2 × 0 - 3) // 1 +1  \n",
    "out_W = (60 + 2 × 0 - 3) // 1 +1\n",
    "### パラメータ数 : 10416\n",
    "n_param = 3 × 3 × 24 × 48 + 48"
   ]
  },
  {
   "cell_type": "markdown",
   "metadata": {},
   "source": [
    "## 3.  \n",
    "入力サイズ : 20×20, 10チャンネル  \n",
    "フィルタサイズ: 3×3, 20チャンネル  \n",
    "ストライド : 2  \n",
    "パディング : なし  \n",
    "\n",
    "### 出力サイズ : 9 × 9\n",
    "out_H = (20 + 2 × 0 - 3) // 2 +1  \n",
    "out_W = (20 + 2 × 0 - 3) // 2 +1\n",
    "### パラメータ数 : 1820\n",
    "n_param = 3 × 3 × 10 × 20 + 20"
   ]
  },
  {
   "cell_type": "code",
   "execution_count": null,
   "metadata": {},
   "outputs": [],
   "source": []
  }
 ],
 "metadata": {
  "kernelspec": {
   "display_name": "Python 3",
   "language": "python",
   "name": "python3"
  },
  "language_info": {
   "codemirror_mode": {
    "name": "ipython",
    "version": 3
   },
   "file_extension": ".py",
   "mimetype": "text/x-python",
   "name": "python",
   "nbconvert_exporter": "python",
   "pygments_lexer": "ipython3",
   "version": "3.6.10"
  }
 },
 "nbformat": 4,
 "nbformat_minor": 4
}
