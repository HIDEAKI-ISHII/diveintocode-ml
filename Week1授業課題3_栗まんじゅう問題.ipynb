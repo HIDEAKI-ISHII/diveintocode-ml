{
 "cells": [
  {
   "cell_type": "markdown",
   "metadata": {},
   "source": [
    "# 【問題】栗まんじゅうが太陽系を覆う日"
   ]
  },
  {
   "cell_type": "code",
   "execution_count": 2,
   "metadata": {},
   "outputs": [
    {
     "name": "stdout",
     "output_type": "stream",
     "text": [
      "栗まんじゅうが太陽系を覆う日：20分\n"
     ]
    }
   ],
   "source": [
    "v_kuri = 1 # 栗まんじゅうの体積\n",
    "v_solar_system = 10 # 太陽系の体積\n",
    "n_minute = 0 # 分\n",
    "\n",
    "while v_kuri < v_solar_system:\n",
    "    v_kuri = v_kuri*2\n",
    "    n_minute = n_minute + 5\n",
    "    \n",
    "print(\"栗まんじゅうが太陽系を覆う日：{}分\".format(n_minute))\n"
   ]
  },
  {
   "cell_type": "code",
   "execution_count": 5,
   "metadata": {},
   "outputs": [
    {
     "name": "stdout",
     "output_type": "stream",
     "text": [
      "ボールにバイバインを振りかけた時、東京ドームが一杯になる時間：165分\n"
     ]
    },
    {
     "data": {
      "image/png": "[encoded data removed]",
      "text/plain": [
       "<Figure size 432x288 with 1 Axes>"
      ]
     },
     "metadata": {
      "needs_background": "light"
     },
     "output_type": "display_data"
    }
   ],
   "source": [
    "import math\n",
    "\n",
    "def FillVolume(v_object, v_target):\n",
    "    l_object = [v_object] # オブジェクトのリスト\n",
    "    l_minute = [0] # 分のリスト\n",
    "    n_minute = 0\n",
    "    \n",
    "    while v_object < v_target:\n",
    "        v_object = v_object*2\n",
    "        l_object.append(v_object)\n",
    "        n_minute = n_minute + 5\n",
    "        l_minute.append(n_minute)\n",
    "        \n",
    "    return l_object,l_minute\n",
    "\n",
    "\n",
    "# ボールにバイバインを振りかけた時、東京ドームが一杯になる時間\n",
    "v_object = (4/3)*math.pi*(74e-3/2)**3 # 野球ボールの体積（直径74mm）\n",
    "v_target = 1240000 # 東京ドームの体積(124万m3)\n",
    "\n",
    "l_object,l_minute = FillVolume(v_object, v_target)\n",
    "print(\"ボールにバイバインを振りかけた時、東京ドームが一杯になる時間：{}分\".format(l_minute[-1]))\n",
    "\n",
    "import matplotlib.pyplot as plt\n",
    "%matplotlib inline\n",
    "plt.title(\"Fulfill\")\n",
    "plt.xlabel(\"minute(min)\")\n",
    "plt.ylabel(\"volume(m^3)\")\n",
    "plt.plot(l_object)\n",
    "plt.show()"
   ]
  },
  {
   "cell_type": "code",
   "execution_count": null,
   "metadata": {},
   "outputs": [],
   "source": []
  }
 ],
 "metadata": {
  "kernelspec": {
   "display_name": "Python 3",
   "language": "python",
   "name": "python3"
  },
  "language_info": {
   "codemirror_mode": {
    "name": "ipython",
    "version": 3
   },
   "file_extension": ".py",
   "mimetype": "text/x-python",
   "name": "python",
   "nbconvert_exporter": "python",
   "pygments_lexer": "ipython3",
   "version": "3.7.4"
  }
 },
 "nbformat": 4,
 "nbformat_minor": 2
}
