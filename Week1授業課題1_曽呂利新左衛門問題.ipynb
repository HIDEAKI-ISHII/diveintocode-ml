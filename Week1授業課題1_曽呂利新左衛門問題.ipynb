{
 "cells": [
  {
   "cell_type": "markdown",
   "metadata": {},
   "source": [
    "# 【問題1】100日目の米粒の数"
   ]
  },
  {
   "cell_type": "code",
   "execution_count": 9,
   "metadata": {},
   "outputs": [
    {
     "name": "stdout",
     "output_type": "stream",
     "text": [
      "100日目の米粒の数：1267650600228229401496703205375粒\n"
     ]
    },
    {
     "data": {
      "image/png": "[encoded data removed]",
      "text/plain": [
       "<Figure size 432x288 with 1 Axes>"
      ]
     },
     "metadata": {
      "needs_background": "light"
     },
     "output_type": "display_data"
    }
   ],
   "source": [
    "list_n_grains = [] # その日にもらう米の数のリスト\n",
    "list_total_grains = [] # その日までに累計で貰う米の数のリスト\n",
    "list_days = [] # 日数のリスト\n",
    "\n",
    "for i in range(100):\n",
    "    list_n_grains.append(2**i)\n",
    "    list_total_grains.append(sum(list_n_grains))\n",
    "    list_days.append(i+1)\n",
    "        \n",
    "print(\"100日目の米粒の数：{}粒\".format(list_total_grains[-1]))\n",
    "\n",
    "import matplotlib.pyplot as plt\n",
    "%matplotlib inline\n",
    "plt.title(\"Rice Grains\")\n",
    "plt.xlabel(\"days\")\n",
    "plt.ylabel(\"grains\")\n",
    "plt.plot(list_n_grains) # その日にもらう米の数\n",
    "#plt.plot(list_days, list_total_grains) # その日までに累計で貰う米の数\n",
    "plt.show()"
   ]
  },
  {
   "cell_type": "markdown",
   "metadata": {},
   "source": [
    "# 【問題2】100日目以外の米粒の数"
   ]
  },
  {
   "cell_type": "code",
   "execution_count": 1,
   "metadata": {},
   "outputs": [
    {
     "name": "stdout",
     "output_type": "stream",
     "text": [
      "81日目の米粒の数：1208925819614629174706176粒\n"
     ]
    }
   ],
   "source": [
    "def compute_sorori_shinzaemon(day):\n",
    "    list_n_grains = [] # その日にもらう米の数のリスト\n",
    "    list_total_grains = [] # その日までに累計で貰う米の数のリスト\n",
    "    list_days = [] # 日数のリスト\n",
    "\n",
    "    for i in range(day):\n",
    "        list_n_grains.append(2**i)\n",
    "        list_total_grains.append(sum(list_n_grains))\n",
    "        list_days.append(i+1)\n",
    "    \n",
    "    return list_n_grains,list_total_grains,list_days\n",
    "        \n",
    "day = 81 # 日数（変数）\n",
    "list_n_grains,list_total_grains,list_days = compute_sorori_shinzaemon(day)\n",
    "print(\"{}日目の米粒の数：{}粒\".format(day,list_n_grains[-1]))"
   ]
  },
  {
   "cell_type": "markdown",
   "metadata": {},
   "source": [
    "# 【問題3】何人が何日生活できる米か"
   ]
  },
  {
   "cell_type": "code",
   "execution_count": 6,
   "metadata": {},
   "outputs": [
    {
     "name": "stdout",
     "output_type": "stream",
     "text": [
      "生活できる日数：8520692280672537189068790824960日\n"
     ]
    }
   ],
   "source": [
    "def SurvivalDays(n_grains, n_human):\n",
    "    n_must = 12000 # 1日に必要な米粒の数（お茶碗一杯4000粒×3食=12000粒）\n",
    "    n_survival_days = int(n_grains/(n_must*n_human))\n",
    "    return n_survival_days\n",
    "\n",
    "\n",
    "n_course_duration = 120 # コースを受講する期間（4か月=120日）\n",
    "n_student = 13 # クラスにいる人数\n",
    "list_n_grains,list_total_grains,list_days = compute_sorori_shinzaemon(n_course_duration)\n",
    "total_grains = list_total_grains[-1] # コースを受講する期間までに累計で貰う米の数\n",
    "\n",
    "n_survival_days = SurvivalDays(total_grains, n_student)\n",
    "print(\"生活できる日数：{}日\".format(n_survival_days))"
   ]
  }
 ],
 "metadata": {
  "kernelspec": {
   "display_name": "Python 3",
   "language": "python",
   "name": "python3"
  },
  "language_info": {
   "codemirror_mode": {
    "name": "ipython",
    "version": 3
   },
   "file_extension": ".py",
   "mimetype": "text/x-python",
   "name": "python",
   "nbconvert_exporter": "python",
   "pygments_lexer": "ipython3",
   "version": "3.7.4"
  }
 },
 "nbformat": 4,
 "nbformat_minor": 2
}
