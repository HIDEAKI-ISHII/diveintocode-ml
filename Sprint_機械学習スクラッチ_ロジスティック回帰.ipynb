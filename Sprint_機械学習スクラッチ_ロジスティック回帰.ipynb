{
 "cells": [
  {
   "cell_type": "code",
   "execution_count": 1,
   "metadata": {},
   "outputs": [],
   "source": [
    "import numpy as np\n",
    "import pandas as pd\n",
    "import matplotlib.pyplot as plt\n",
    "import missingno as msno\n",
    "import seaborn as sns\n",
    "from sklearn.datasets import load_iris\n",
    "import pickle\n",
    "%matplotlib inline"
   ]
  },
  {
   "cell_type": "code",
   "execution_count": 2,
   "metadata": {},
   "outputs": [],
   "source": [
    "class ScratchLogisticRegression():\n",
    "    \"\"\"\n",
    "    ロジスティック回帰のスクラッチ実装\n",
    "\n",
    "    Parameters\n",
    "    ----------\n",
    "    num_iter : int\n",
    "      イテレーション数\n",
    "    lr : float\n",
    "      学習率\n",
    "    no_bias : bool\n",
    "      バイアス項を入れない場合はTrue\n",
    "    verbose : bool\n",
    "      学習過程を出力する場合はTrue\n",
    "\n",
    "    Attributes\n",
    "    ----------\n",
    "    self.coef_ : 次の形のndarray, shape (n_features,)\n",
    "      パラメータ\n",
    "    self.loss : 次の形のndarray, shape (self.iter,)\n",
    "      訓練データに対する損失の記録\n",
    "    self.val_loss : 次の形のndarray, shape (self.iter,)\n",
    "      検証データに対する損失の記録\n",
    "\n",
    "    \"\"\"\n",
    "    def __init__(self, num_iter, lr, bias, verbose, C):\n",
    "        # ハイパーパラメータを属性として記録\n",
    "        self.iter = num_iter\n",
    "        self.lr = lr\n",
    "        self.no_bias = bias\n",
    "        self.verbose = verbose\n",
    "        # 損失を記録する配列を用意\n",
    "        self.loss = []\n",
    "        self.val_loss = []\n",
    "        self.C = C # 正則化用のパラメータ        \n",
    "        \n",
    "    def fit(self, X, y, X_val=None, y_val=None):\n",
    "        \"\"\"\n",
    "        ロジスティック回帰を学習する。検証データが入力された場合はそれに対する損失と精度もイテレーションごとに計算する。\n",
    "\n",
    "        Parameters\n",
    "        ----------\n",
    "        X : 次の形のndarray, shape (n_samples, n_features)\n",
    "            訓練データの特徴量\n",
    "        y : 次の形のndarray, shape (n_samples, )\n",
    "            訓練データの正解値\n",
    "        X_val : 次の形のndarray, shape (n_samples, n_features)\n",
    "            検証データの特徴量\n",
    "        y_val : 次の形のndarray, shape (n_samples, )\n",
    "            検証データの正解値\n",
    "        \"\"\"\n",
    "        if self.no_bias == False:\n",
    "            X = np.insert(X, 0, 1, axis=1)\n",
    "            if X_val is not None and y_val is not None:\n",
    "                X_val = np.insert(X_val, 0, 1, axis=1)\n",
    "            \n",
    "        n_col = X.shape[1] # Xの列数を取得\n",
    "        self.coef_ =  np.random.rand(n_col) # パラメーターの初期化 \n",
    "        \n",
    "        for i in range(self.iter):\n",
    "            error = self._f(X)-y\n",
    "            self.coef_ = self._gradient_descent(X, error)\n",
    "            self.loss.append(self._loss_f(self._f(X), y))\n",
    "            if X_val is not None and y_val is not None:\n",
    "                self.val_loss.append(self._loss_f(self._f(X_val), y_val))\n",
    "\n",
    "            if self.verbose:\n",
    "                #verboseをTrueにした際は学習過程を出力\n",
    "                print(self.coef_)\n",
    "\n",
    "                \n",
    "    def load_coef(self, path):\n",
    "        #.npzから読み出し\n",
    "        arr = np.load(path)\n",
    "        self.coef_ = arr['coef']\n",
    "\n",
    "        \n",
    "    def save_coef(self, path): \n",
    "        #.npzに書き込み\n",
    "        np.savez(path, coef = self.coef_)\n",
    "\n",
    "            \n",
    "    def predict(self, X):\n",
    "        \"\"\"\n",
    "        ロジスティック回帰を使いラベルを推定する。\n",
    "\n",
    "        Parameters\n",
    "        ----------\n",
    "        X : 次の形のndarray, shape (n_samples, n_features)\n",
    "            サンプル\n",
    "\n",
    "        Returns\n",
    "        -------\n",
    "            次の形のndarray, shape (n_samples, 1)\n",
    "            ロジスティック回帰による推定結果\n",
    "        \"\"\"\n",
    "        if self.no_bias == False:\n",
    "            X = np.insert(X, 0, 1, axis=1)        \n",
    "        \n",
    "        y_pred = np.where(self._f(X) >= 0.5, 1, 0)\n",
    "        \n",
    "        return y_pred \n",
    "    \n",
    "    \n",
    "    def predict_proba(self, X):\n",
    "        \"\"\"\n",
    "        ロジスティック回帰を使い確率を推定する。\n",
    "\n",
    "        Parameters\n",
    "        ----------\n",
    "        X : 次の形のndarray, shape (n_samples, n_features)\n",
    "            サンプル\n",
    "\n",
    "        Returns\n",
    "        -------\n",
    "            次の形のndarray, shape (n_samples, 1)\n",
    "            ロジスティック回帰による推定結果\n",
    "        \"\"\"\n",
    "        if self.no_bias == False:\n",
    "            X = np.insert(X, 0, 1, axis=1) \n",
    "            \n",
    "        p1 = self._f(X)\n",
    "        p0 = 1- p1\n",
    "        y_pred_proba = np.vstack([p0,p1]).T\n",
    "        \n",
    "        \n",
    "        return y_pred_proba \n",
    "    \n",
    "    \n",
    "    def _gradient_descent(self, X, error):\n",
    "        \"\"\"\n",
    "        最急降下法により学習させる\n",
    "\n",
    "        Parameters\n",
    "        ----------\n",
    "        X : 次の形のndarray, shape (n_samples, n_features)\n",
    "            訓練データの特徴量\n",
    "        error : float\n",
    "            誤差\n",
    "            \n",
    "        Returns\n",
    "        theta : 次の形のndarray, shape (n_features,)\n",
    "          パラメータ        \n",
    "        \"\"\"\n",
    "        \n",
    "        m = X.shape[0]\n",
    "        \n",
    "        if self.no_bias == False:\n",
    "            theta = self.coef_ - self.lr*(error@X/m + (self.C/m)*np.hstack([0, self.coef_[1:]]))\n",
    "        else:\n",
    "            theta = self.coef_ - self.lr*(error@X/m + (self.C/m)*self.coef_)           \n",
    "            \n",
    "        return  theta\n",
    "\n",
    "     \n",
    "    def _f(self, X):\n",
    "        \"\"\"\n",
    "        線形の仮定関数を計算する\n",
    "\n",
    "        Parameters\n",
    "        ----------\n",
    "        X : 次の形のndarray, shape (n_samples, n_features)\n",
    "          訓練データ\n",
    "\n",
    "        Returns\n",
    "        -------\n",
    "        y : 次の形のndarray, shape (n_samples, 1)\n",
    "          線形の仮定関数による推定結果\n",
    "\n",
    "        \"\"\"\n",
    "        y = 1/(1 + np.exp(-np.dot(X, self.coef_.T)))\n",
    "        \n",
    "        return y\n",
    "    \n",
    "    \n",
    "    def _loss_f(self, y_pred, y):\n",
    "        \"\"\"\n",
    "        目的関数を計算する\n",
    "\n",
    "        Parameters\n",
    "        ----------\n",
    "        X : 次の形のndarray, shape (n_samples, n_features)\n",
    "          訓練データ\n",
    "\n",
    "        Returns\n",
    "        -------\n",
    "        m : float\n",
    "          目的関数の値\n",
    "\n",
    "        \"\"\"\n",
    "        m = y.shape[0]\n",
    "        loss = (-y.T@np.log(y_pred) - (1-y).T@np.log(1 - y_pred))/m + self.C*np.sum(np.square(self.coef_))/(2*m)\n",
    "        \n",
    "        return loss\n",
    "        \n"
   ]
  },
  {
   "cell_type": "markdown",
   "metadata": {},
   "source": [
    "# 【問題1】仮定関数"
   ]
  },
  {
   "cell_type": "markdown",
   "metadata": {},
   "source": [
    "## ロジスティック回帰の仮定関数\n",
    "# $h_\\theta(x) = \\frac{1}{1+e^{−\\theta^T \\cdot x}}$\n",
    "\n",
    "#### $x$：特徴量ベクトル  \n",
    "#### $\\theta$：パラメータ（重み）ベクトル"
   ]
  },
  {
   "cell_type": "markdown",
   "metadata": {},
   "source": [
    "## 仮定関数の実装"
   ]
  },
  {
   "cell_type": "markdown",
   "metadata": {},
   "source": [
    "```python  \n",
    "def _f(self, X):\n",
    "    \"\"\"\n",
    "    線形の仮定関数を計算する\n",
    "\n",
    "    Parameters\n",
    "    ----------\n",
    "    X : 次の形のndarray, shape (n_samples, n_features)\n",
    "      訓練データ\n",
    "\n",
    "    Returns\n",
    "    -------\n",
    "    y : 次の形のndarray, shape (n_samples, 1)\n",
    "      線形の仮定関数による推定結果\n",
    "\n",
    "    \"\"\"\n",
    "    y = 1/(1 + np.exp(-np.dot(X, self.coef_.T)))\n",
    "\n",
    "    return y\n",
    "```"
   ]
  },
  {
   "cell_type": "markdown",
   "metadata": {},
   "source": [
    "# 【問題2】最急降下法"
   ]
  },
  {
   "cell_type": "markdown",
   "metadata": {},
   "source": [
    "## $\\frac{\\partial J(\\theta)}{\\partial \\theta_0} = \\frac{1}{m}  \\sum_{i=1}^{m}(h_θ(x^{(i)}) − y^{(i)})x_j^{(i)}　$　　　　　　　　$j = 0$"
   ]
  },
  {
   "cell_type": "markdown",
   "metadata": {},
   "source": [
    "## $\\frac{\\partial J(\\theta)}{\\partial \\theta_j} = \\biggl(\\frac{1}{m}  \\sum_{i=1}^{m}(h_θ(x^{(i)}) − y^{(i)})x_j^{(i)} \\biggr) + \\frac{λ}{m}\\theta_j $　　　$j\\geq 1$"
   ]
  },
  {
   "cell_type": "markdown",
   "metadata": {},
   "source": [
    "## gradient descent の実装\n",
    "```python \n",
    "def _gradient_descent(self, X, error):\n",
    "    \"\"\"\n",
    "    最急降下法により学習させる\n",
    "\n",
    "    Parameters\n",
    "    ----------\n",
    "    X : 次の形のndarray, shape (n_samples, n_features)\n",
    "        訓練データの特徴量\n",
    "    error : float\n",
    "        誤差\n",
    "\n",
    "    Returns\n",
    "    theta : 次の形のndarray, shape (n_features,)\n",
    "      パラメータ        \n",
    "    \"\"\"\n",
    "\n",
    "    m = X.shape[0]\n",
    "\n",
    "    if self.no_bias == False:\n",
    "        theta = self.coef_ - self.lr*(error@X/m + (self.C/m)*np.hstack([0, self.coef_[1:]]))\n",
    "    else:\n",
    "        theta = self.coef_ - self.lr*(error@X/m + (self.C/m)*self.coef_)           \n",
    "\n",
    "    return  theta\n",
    "```"
   ]
  },
  {
   "cell_type": "markdown",
   "metadata": {},
   "source": [
    "## fit の実装\n",
    "```python \n",
    "    def fit(self, X, y, X_val=None, y_val=None):\n",
    "        \"\"\"\n",
    "        ロジスティック回帰を学習する。検証データが入力された場合はそれに対する損失と精度もイテレーションごとに計算する。\n",
    "\n",
    "        Parameters\n",
    "        ----------\n",
    "        X : 次の形のndarray, shape (n_samples, n_features)\n",
    "            訓練データの特徴量\n",
    "        y : 次の形のndarray, shape (n_samples, )\n",
    "            訓練データの正解値\n",
    "        X_val : 次の形のndarray, shape (n_samples, n_features)\n",
    "            検証データの特徴量\n",
    "        y_val : 次の形のndarray, shape (n_samples, )\n",
    "            検証データの正解値\n",
    "        \"\"\"\n",
    "        if self.no_bias == False:\n",
    "            X = np.insert(X, 0, 1, axis=1)\n",
    "            if X_val is not None and y_val is not None:\n",
    "                X_val = np.insert(X_val, 0, 1, axis=1)\n",
    "            \n",
    "        n_col = X.shape[1] # Xの列数を取得\n",
    "        self.coef_ =  np.random.rand(n_col) # パラメーターの初期化 \n",
    "        \n",
    "        for i in range(self.iter):\n",
    "            error = self._f(X)-y\n",
    "            self.coef_= self._gradient_descent(X, error)\n",
    "            self.loss.append(self._loss_f(self._f(X), y))\n",
    "            if X_val is not None and y_val is not None:\n",
    "                self.val_loss.append(self._loss_f(self._f(X_val), y_val))\n",
    "\n",
    "        if self.verbose:\n",
    "            #verboseをTrueにした際は学習過程を出力\n",
    "            print(self.loss)\n",
    "            if X_val is not None and y_val is not None:\n",
    "                print(self.val_loss)\n",
    "```"
   ]
  },
  {
   "cell_type": "markdown",
   "metadata": {},
   "source": [
    "# 【問題3】推定"
   ]
  },
  {
   "cell_type": "markdown",
   "metadata": {},
   "source": [
    "## predict の実装\n",
    "```python \n",
    "def predict(self, X):\n",
    "    \"\"\"\n",
    "    ロジスティック回帰を使いラベルを推定する。\n",
    "\n",
    "    Parameters\n",
    "    ----------\n",
    "    X : 次の形のndarray, shape (n_samples, n_features)\n",
    "        サンプル\n",
    "\n",
    "    Returns\n",
    "    -------\n",
    "        次の形のndarray, shape (n_samples, 1)\n",
    "        ロジスティック回帰による推定結果\n",
    "    \"\"\"\n",
    "    if self.no_bias == False:\n",
    "        X = np.insert(X, 0, 1, axis=1)        \n",
    "\n",
    "    y_pred = np.where(self._f(X) >= 0.5, 1, 0)\n",
    "\n",
    "    return y_pred \n",
    "```"
   ]
  },
  {
   "cell_type": "markdown",
   "metadata": {},
   "source": [
    "## predict proba の実装\n",
    "```python \n",
    "def predict_proba(self, X):\n",
    "    \"\"\"\n",
    "    ロジスティック回帰を使い確率を推定する。\n",
    "\n",
    "    Parameters\n",
    "    ----------\n",
    "    X : 次の形のndarray, shape (n_samples, n_features)\n",
    "        サンプル\n",
    "\n",
    "    Returns\n",
    "    -------\n",
    "        次の形のndarray, shape (n_samples, 1)\n",
    "        ロジスティック回帰による推定結果\n",
    "    \"\"\"\n",
    "    if self.no_bias == False:\n",
    "        X = np.insert(X, 0, 1, axis=1) \n",
    "\n",
    "    p1 = self._f(X)\n",
    "    p0 = 1- p1\n",
    "    y_pred_proba = np.vstack([p0,p1]).T\n",
    "\n",
    "\n",
    "    return y_pred_proba \n",
    "```"
   ]
  },
  {
   "cell_type": "markdown",
   "metadata": {},
   "source": [
    "# 【問題4】目的関数"
   ]
  },
  {
   "cell_type": "markdown",
   "metadata": {},
   "source": [
    "# $ J(\\theta)=  \\frac{1}{m}  \\sum_{i=1}^{m}[−y^{(i)} log(h_θ(x^{(i)})) − (1−y^{(i)}) log(1−h_θ(x^{(i)}))] +\\frac{λ}{2m}\\sum_{j=1}^nθ^2_j\\\\ $"
   ]
  },
  {
   "cell_type": "markdown",
   "metadata": {},
   "source": [
    "## 目的関数の実装\n",
    "```python \n",
    "def _loss_f(self, y_pred, y):\n",
    "    \"\"\"\n",
    "    目的関数を計算する\n",
    "\n",
    "    Parameters\n",
    "    ----------\n",
    "    X : 次の形のndarray, shape (n_samples, n_features)\n",
    "      訓練データ\n",
    "\n",
    "    Returns\n",
    "    -------\n",
    "    m : float\n",
    "      目的関数の値\n",
    "\n",
    "    \"\"\"\n",
    "    m = y.shape[0]\n",
    "    loss = (-y.T@np.log(y_pred) - (1-y).T@np.log(1 - y_pred))/m + self.C*np.sum(np.square(self.coef_))/(2*m)\n",
    "\n",
    "    return loss\n",
    "```"
   ]
  },
  {
   "cell_type": "markdown",
   "metadata": {},
   "source": [
    "# 【問題5】学習と推定"
   ]
  },
  {
   "cell_type": "code",
   "execution_count": 3,
   "metadata": {},
   "outputs": [],
   "source": [
    "iris = load_iris() # irisデータの読み込み\n",
    "\n",
    "df_X = pd.DataFrame(iris.data, columns=['sepal_length','sepal_width','petal_length','petal_width']) \n",
    "df_y = pd.DataFrame(iris.target, columns=[\"species\"]) # {0: 'setosa', 1:'versicolor', 2:'virginica'}\n",
    "df_Xy = pd.concat([df_X, df_y], axis = 1)\n",
    "\n",
    "# 「versicolor」と「virginica」を抽出\n",
    "df_Xy = df_Xy.loc[(df_Xy['species']==1) | (df_Xy['species']==2),['sepal_length','sepal_width','petal_length','petal_width','species']] \n",
    "df_X = df_Xy[['sepal_length','sepal_width','petal_length','petal_width']]\n",
    "df_y = df_Xy['species']"
   ]
  },
  {
   "cell_type": "code",
   "execution_count": 4,
   "metadata": {},
   "outputs": [],
   "source": [
    "#　訓練データと検証データに分割\n",
    "from sklearn.model_selection import train_test_split\n",
    "X_train, X_val, y_train, y_val = train_test_split(df_X.values, df_y.values, test_size = 0.25, random_state = 0) # 訓練データ75%、検証データ25%として分割"
   ]
  },
  {
   "cell_type": "code",
   "execution_count": 5,
   "metadata": {},
   "outputs": [],
   "source": [
    "# 標準化\n",
    "from sklearn.preprocessing import StandardScaler\n",
    "scaler = StandardScaler()\n",
    "scaler.fit(X_train)\n",
    "X_train_std = scaler.transform(X_train)\n",
    "X_val_std = scaler.transform(X_val)"
   ]
  },
  {
   "cell_type": "code",
   "execution_count": 6,
   "metadata": {},
   "outputs": [],
   "source": [
    "# 目的変数の値を「0」「1」に変更\n",
    "y_train = y_train - 1\n",
    "y_val= y_val- 1"
   ]
  },
  {
   "cell_type": "code",
   "execution_count": 7,
   "metadata": {},
   "outputs": [],
   "source": [
    "# 学習\n",
    "slr = ScratchLogisticRegression(5000, 0.01, False, False, 0.1)\n",
    "slr.fit(X_train_std, y_train,X_val_std, y_val)"
   ]
  },
  {
   "cell_type": "code",
   "execution_count": 8,
   "metadata": {},
   "outputs": [
    {
     "name": "stdout",
     "output_type": "stream",
     "text": [
      "[0 0 1 1 1 1 1 1 1 1 1 0 1 1 1 0 1 0 0 0 0 0 0 0 0 1 1 0 0 0 1 0 0 0 1 0 0\n",
      " 1 1 1 1 0 1 0 1 0 0 0 1 1 1 1 1 1 1 0 0 1 0 0 1 1 0 1 1 1 0 0 1 0 1 1 1 0\n",
      " 0]\n",
      "[0 0 1 1 1 1 1 1 1 1 0 0 1 1 1 0 1 0 0 0 0 0 0 0 0 1 1 0 0 0 1 0 0 0 1 0 0\n",
      " 1 1 1 1 0 1 0 1 0 0 0 1 1 1 0 1 1 1 0 0 1 0 0 1 1 0 1 1 1 0 0 1 0 1 1 1 0\n",
      " 0]\n"
     ]
    }
   ],
   "source": [
    "# 推定（trainデータ）\n",
    "y_train_pred = slr.predict(X_train_std)\n",
    "print(y_train_pred)\n",
    "print(y_train)"
   ]
  },
  {
   "cell_type": "code",
   "execution_count": 9,
   "metadata": {},
   "outputs": [
    {
     "name": "stdout",
     "output_type": "stream",
     "text": [
      "[0 1 0 1 1 1 0 1 1 1 1 1 1 0 0 0 1 0 1 0 0 1 0 1 0]\n",
      "[0 1 0 1 1 1 0 1 1 1 1 1 1 0 0 0 0 0 0 0 0 1 0 1 0]\n",
      "[[8.19739053e-01 1.80260947e-01]\n",
      " [4.77000017e-03 9.95230000e-01]\n",
      " [7.98404891e-01 2.01595109e-01]\n",
      " [6.22325564e-04 9.99377674e-01]\n",
      " [3.07898358e-02 9.69210164e-01]\n",
      " [2.34156820e-03 9.97658432e-01]\n",
      " [8.83823547e-01 1.16176453e-01]\n",
      " [1.94001764e-01 8.05998236e-01]\n",
      " [3.21452214e-03 9.96785478e-01]\n",
      " [1.27200914e-02 9.87279909e-01]\n",
      " [4.08743772e-02 9.59125623e-01]\n",
      " [5.96545045e-02 9.40345495e-01]\n",
      " [6.38588264e-03 9.93614117e-01]\n",
      " [8.66059319e-01 1.33940681e-01]\n",
      " [9.99085176e-01 9.14823937e-04]\n",
      " [9.93510467e-01 6.48953270e-03]\n",
      " [4.46846322e-01 5.53153678e-01]\n",
      " [9.77529781e-01 2.24702193e-02]\n",
      " [2.65620118e-01 7.34379882e-01]\n",
      " [9.47106224e-01 5.28937761e-02]\n",
      " [9.98873903e-01 1.12609650e-03]\n",
      " [1.55891293e-02 9.84410871e-01]\n",
      " [9.54448469e-01 4.55515312e-02]\n",
      " [7.51857319e-02 9.24814268e-01]\n",
      " [9.90861361e-01 9.13863932e-03]]\n"
     ]
    }
   ],
   "source": [
    "# 推定（valデータ）\n",
    "y_val_pred = slr.predict(X_val_std)\n",
    "y_val_pred_proba = slr.predict_proba(X_val_std)\n",
    "print(y_val_pred)\n",
    "print(y_val)\n",
    "print(y_val_pred_proba)"
   ]
  },
  {
   "cell_type": "code",
   "execution_count": 10,
   "metadata": {},
   "outputs": [
    {
     "name": "stdout",
     "output_type": "stream",
     "text": [
      "Accuracy（正解率）：　0.92\n",
      "\n",
      "Precision（適合率）：　0.9285714285714286\n",
      "\n",
      "Recall（再現率）：　0.9230769230769231\n",
      "\n"
     ]
    }
   ],
   "source": [
    "from sklearn.metrics import accuracy_score\n",
    "print(\"Accuracy（正解率）：　{}\\n\".format(accuracy_score(y_val, y_val_pred)))\n",
    "\n",
    "from sklearn.metrics import precision_score\n",
    "print(\"Precision（適合率）：　{}\\n\".format(precision_score(y_val, y_val_pred, average='macro')))\n",
    "\n",
    "from sklearn.metrics import recall_score\n",
    "print(\"Recall（再現率）：　{}\\n\".format(recall_score(y_val, y_val_pred, average='macro')))"
   ]
  },
  {
   "cell_type": "markdown",
   "metadata": {},
   "source": [
    "# 【問題6】学習曲線のプロット"
   ]
  },
  {
   "cell_type": "code",
   "execution_count": 11,
   "metadata": {},
   "outputs": [
    {
     "data": {
      "text/plain": [
       "<matplotlib.legend.Legend at 0x1a1f6bd828>"
      ]
     },
     "execution_count": 11,
     "metadata": {},
     "output_type": "execute_result"
    },
    {
     "data": {
      "image/png": "[encoded data removed]",
      "text/plain": [
       "<Figure size 1000x500 with 1 Axes>"
      ]
     },
     "metadata": {
      "needs_background": "light"
     },
     "output_type": "display_data"
    }
   ],
   "source": [
    "plt.figure(figsize=(10,5), dpi=100)\n",
    "plt.plot(slr.loss, label='loss')\n",
    "plt.plot(slr.val_loss, label='val_loss')\n",
    "plt.legend()"
   ]
  },
  {
   "cell_type": "markdown",
   "metadata": {},
   "source": [
    "# 【問題7】決定領域の可視化"
   ]
  },
  {
   "cell_type": "code",
   "execution_count": 12,
   "metadata": {},
   "outputs": [],
   "source": [
    "from matplotlib.colors import ListedColormap\n",
    "import matplotlib.patches as mpatches\n",
    "\n",
    "# 決定領域を表示する関数\n",
    "def decision_region(X, y, model, step=0.01, title='decision region', xlabel='xlabel', ylabel='ylabel', target_names=['versicolor', 'virginica']):\n",
    "    \"\"\"\n",
    "    2値分類を2次元の特徴量で学習したモデルの決定領域を描く。\n",
    "    背景の色が学習したモデルによる推定値から描画される。\n",
    "    散布図の点は訓練データまたは検証データである。\n",
    "\n",
    "    Parameters\n",
    "    ----------------\n",
    "    X : ndarray, shape(n_samples, 2)\n",
    "        特徴量\n",
    "    y : ndarray, shape(n_samples,)\n",
    "        ラベル\n",
    "    model : object\n",
    "        学習したモデルのインスンタスを入れる\n",
    "    step : float, (default : 0.1)\n",
    "        推定値を計算する間隔を設定する\n",
    "    title : str\n",
    "        グラフのタイトルの文章を与える\n",
    "    xlabel, ylabel : str\n",
    "        軸ラベルの文章を与える\n",
    "    target_names= : list of str\n",
    "        凡例の一覧を与える\n",
    "    \"\"\"\n",
    "    # setting\n",
    "    scatter_color = ['red', 'blue']\n",
    "    contourf_color = ['pink', 'skyblue']\n",
    "    n_class = 2\n",
    "    # pred\n",
    "    mesh_f0, mesh_f1  = np.meshgrid(np.arange(np.min(X[:,0])-0.5, np.max(X[:,0])+0.5, step), np.arange(np.min(X[:,1])-0.5, np.max(X[:,1])+0.5, step))\n",
    "    mesh = np.c_[np.ravel(mesh_f0),np.ravel(mesh_f1)]\n",
    "    y_pred = model.predict(mesh).reshape(mesh_f0.shape)\n",
    "    # plot\n",
    "    plt.title(title)\n",
    "    plt.xlabel(xlabel)\n",
    "    plt.ylabel(ylabel)\n",
    "    plt.contourf(mesh_f0, mesh_f1, y_pred, n_class-1, cmap=ListedColormap(contourf_color))\n",
    "    plt.contour(mesh_f0, mesh_f1, y_pred, n_class-1, colors='y', linewidths=3, alpha=0.5)\n",
    "    for i, target in enumerate(set(y)):\n",
    "        plt.scatter(X[y==target][:, 0], X[y==target][:, 1], s=80, color=scatter_color[i], label=target_names[i], marker='o')\n",
    "    patches = [mpatches.Patch(color=scatter_color[i], label=target_names[i]) for i in range(n_class)]\n",
    "    plt.legend(handles=patches)\n",
    "    plt.legend()\n",
    "    plt.show()"
   ]
  },
  {
   "cell_type": "code",
   "execution_count": 13,
   "metadata": {},
   "outputs": [
    {
     "data": {
      "text/html": [
       "<div>\n",
       "<style scoped>\n",
       "    .dataframe tbody tr th:only-of-type {\n",
       "        vertical-align: middle;\n",
       "    }\n",
       "\n",
       "    .dataframe tbody tr th {\n",
       "        vertical-align: top;\n",
       "    }\n",
       "\n",
       "    .dataframe thead th {\n",
       "        text-align: right;\n",
       "    }\n",
       "</style>\n",
       "<table border=\"1\" class=\"dataframe\">\n",
       "  <thead>\n",
       "    <tr style=\"text-align: right;\">\n",
       "      <th></th>\n",
       "      <th>sepal_length</th>\n",
       "      <th>sepal_width</th>\n",
       "      <th>petal_length</th>\n",
       "      <th>petal_width</th>\n",
       "      <th>species</th>\n",
       "    </tr>\n",
       "  </thead>\n",
       "  <tbody>\n",
       "    <tr>\n",
       "      <th>50</th>\n",
       "      <td>7.0</td>\n",
       "      <td>3.2</td>\n",
       "      <td>4.7</td>\n",
       "      <td>1.4</td>\n",
       "      <td>1</td>\n",
       "    </tr>\n",
       "    <tr>\n",
       "      <th>51</th>\n",
       "      <td>6.4</td>\n",
       "      <td>3.2</td>\n",
       "      <td>4.5</td>\n",
       "      <td>1.5</td>\n",
       "      <td>1</td>\n",
       "    </tr>\n",
       "    <tr>\n",
       "      <th>52</th>\n",
       "      <td>6.9</td>\n",
       "      <td>3.1</td>\n",
       "      <td>4.9</td>\n",
       "      <td>1.5</td>\n",
       "      <td>1</td>\n",
       "    </tr>\n",
       "    <tr>\n",
       "      <th>53</th>\n",
       "      <td>5.5</td>\n",
       "      <td>2.3</td>\n",
       "      <td>4.0</td>\n",
       "      <td>1.3</td>\n",
       "      <td>1</td>\n",
       "    </tr>\n",
       "    <tr>\n",
       "      <th>54</th>\n",
       "      <td>6.5</td>\n",
       "      <td>2.8</td>\n",
       "      <td>4.6</td>\n",
       "      <td>1.5</td>\n",
       "      <td>1</td>\n",
       "    </tr>\n",
       "  </tbody>\n",
       "</table>\n",
       "</div>"
      ],
      "text/plain": [
       "    sepal_length  sepal_width  petal_length  petal_width  species\n",
       "50           7.0          3.2           4.7          1.4        1\n",
       "51           6.4          3.2           4.5          1.5        1\n",
       "52           6.9          3.1           4.9          1.5        1\n",
       "53           5.5          2.3           4.0          1.3        1\n",
       "54           6.5          2.8           4.6          1.5        1"
      ]
     },
     "execution_count": 13,
     "metadata": {},
     "output_type": "execute_result"
    }
   ],
   "source": [
    "df_Xy.head()"
   ]
  },
  {
   "cell_type": "code",
   "execution_count": 14,
   "metadata": {},
   "outputs": [],
   "source": [
    "df_X1 = df_Xy[['sepal_length','sepal_width']]\n",
    "df_X2 = df_Xy[['petal_length','petal_width']]"
   ]
  },
  {
   "cell_type": "code",
   "execution_count": 15,
   "metadata": {},
   "outputs": [],
   "source": [
    "#　訓練データと検証データに分割\n",
    "from sklearn.model_selection import train_test_split\n",
    "\n",
    "# 訓練データ75%、検証データ25%として分割\n",
    "X1_train, X1_val, y1_train, y1_val = train_test_split(df_X1.values, df_y.values, test_size = 0.25, random_state = 0)\n",
    "X2_train, X2_val, y2_train, y2_val = train_test_split(df_X2.values, df_y.values, test_size = 0.25, random_state = 0)"
   ]
  },
  {
   "cell_type": "code",
   "execution_count": 16,
   "metadata": {},
   "outputs": [],
   "source": [
    "# 標準化\n",
    "from sklearn.preprocessing import StandardScaler\n",
    "\n",
    "scaler1= StandardScaler()\n",
    "scaler1.fit(X1_train)\n",
    "X1_train_std = scaler1.transform(X1_train)\n",
    "X1_val_std = scaler1.transform(X1_val)\n",
    "\n",
    "scaler2= StandardScaler()\n",
    "scaler2.fit(X2_train)\n",
    "X2_train_std = scaler2.transform(X2_train)\n",
    "X2_val_std = scaler2.transform(X2_val)"
   ]
  },
  {
   "cell_type": "code",
   "execution_count": 17,
   "metadata": {},
   "outputs": [],
   "source": [
    "# 目的変数の値を「0」「1」に変更\n",
    "y1_train = y1_train - 1\n",
    "y1_val= y1_val- 1\n",
    "\n",
    "y2_train = y2_train - 1\n",
    "y2_val = y2_val- 1"
   ]
  },
  {
   "cell_type": "code",
   "execution_count": 18,
   "metadata": {},
   "outputs": [],
   "source": [
    "# 学習\n",
    "slr1 = ScratchLogisticRegression(5000, 0.01, False, False, 0.1)\n",
    "slr1.fit(X1_train_std, y1_train, X1_val_std, y1_val)\n",
    "\n",
    "slr2 = ScratchLogisticRegression(5000, 0.01, False, False, 0.1)\n",
    "slr2.fit(X2_train_std, y2_train, X2_val_std, y2_val)"
   ]
  },
  {
   "cell_type": "code",
   "execution_count": 19,
   "metadata": {},
   "outputs": [],
   "source": [
    "# 推定\n",
    "y1_val_pred = slr1.predict(X1_val_std)\n",
    "y2_val_pred = slr2.predict(X2_val_std)"
   ]
  },
  {
   "cell_type": "code",
   "execution_count": 20,
   "metadata": {},
   "outputs": [
    {
     "data": {
      "image/png": "[encoded data removed]",
      "text/plain": [
       "<Figure size 432x288 with 1 Axes>"
      ]
     },
     "metadata": {
      "needs_background": "light"
     },
     "output_type": "display_data"
    }
   ],
   "source": [
    "decision_region(X1_val_std, y1_val, slr1, step=0.01, title='decision region', xlabel='sepal_length', ylabel='sepal_width', target_names=['versicolor', 'virginica'])"
   ]
  },
  {
   "cell_type": "code",
   "execution_count": 21,
   "metadata": {},
   "outputs": [
    {
     "data": {
      "image/png": "[encoded data removed]",
      "text/plain": [
       "<Figure size 432x288 with 1 Axes>"
      ]
     },
     "metadata": {
      "needs_background": "light"
     },
     "output_type": "display_data"
    }
   ],
   "source": [
    "decision_region(X2_val_std, y2_val, slr2, step=0.01, title='decision region', xlabel='petal_length', ylabel='petal_width', target_names=['versicolor', 'virginica'])"
   ]
  },
  {
   "cell_type": "markdown",
   "metadata": {},
   "source": [
    "# 【問題8】（アドバンス課題）重みの保存"
   ]
  },
  {
   "cell_type": "markdown",
   "metadata": {},
   "source": [
    "## 学習した重みを保存する関数の実装\n",
    "```python \n",
    "def save_coef(self, path): \n",
    "    #.npzに書き込み\n",
    "    np.savez(path, coef = self.coef_)\n",
    "```"
   ]
  },
  {
   "cell_type": "markdown",
   "metadata": {},
   "source": [
    "## 保存した重みを読み込む関数の実装\n",
    "```python \n",
    "def load_coef(self, path):\n",
    "    #.npzから読み出し\n",
    "    arr = np.load(path)\n",
    "    self.coef_ = arr['coef']\n",
    "```"
   ]
  },
  {
   "cell_type": "code",
   "execution_count": 22,
   "metadata": {},
   "outputs": [
    {
     "data": {
      "text/plain": [
       "array([ 0.09290313,  1.38381333, -0.00336114])"
      ]
     },
     "execution_count": 22,
     "metadata": {},
     "output_type": "execute_result"
    }
   ],
   "source": [
    "# 学習した重みを保存\n",
    "slr1.save_coef('coef.npz')\n",
    "slr1.coef_"
   ]
  },
  {
   "cell_type": "code",
   "execution_count": 23,
   "metadata": {},
   "outputs": [],
   "source": [
    "# 新しいインスタンスを作成\n",
    "slr0 = ScratchLogisticRegression(5000, 0.01, False, False, 0.1)\n",
    "# 重みを読み込み\n",
    "slr0.load_coef('coef.npz')"
   ]
  },
  {
   "cell_type": "code",
   "execution_count": 24,
   "metadata": {},
   "outputs": [
    {
     "data": {
      "text/plain": [
       "array([1, 1, 1, 1, 1, 1, 0, 1, 1, 1, 1, 0, 1, 0, 0, 0, 1, 1, 0, 1, 0, 1,\n",
       "       0, 0, 0])"
      ]
     },
     "execution_count": 24,
     "metadata": {},
     "output_type": "execute_result"
    }
   ],
   "source": [
    "# 予測\n",
    "slr0.predict(X1_val_std)"
   ]
  }
 ],
 "metadata": {
  "kernelspec": {
   "display_name": "Python 3",
   "language": "python",
   "name": "python3"
  },
  "language_info": {
   "codemirror_mode": {
    "name": "ipython",
    "version": 3
   },
   "file_extension": ".py",
   "mimetype": "text/x-python",
   "name": "python",
   "nbconvert_exporter": "python",
   "pygments_lexer": "ipython3",
   "version": "3.7.2"
  }
 },
 "nbformat": 4,
 "nbformat_minor": 2
}
