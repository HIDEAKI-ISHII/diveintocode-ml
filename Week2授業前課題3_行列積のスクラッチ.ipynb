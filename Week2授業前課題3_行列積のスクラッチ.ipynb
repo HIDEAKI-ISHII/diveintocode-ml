{
 "cells": [
  {
   "cell_type": "markdown",
   "metadata": {},
   "source": [
    "# 【問題1】行列積を手計算する"
   ]
  },
  {
   "cell_type": "markdown",
   "metadata": {},
   "source": [
    "$$\n",
    "A=\n",
    "\\begin{pmatrix}\n",
    "-1&2&3\\\\\n",
    "4&-5&6\\\\\n",
    "7&8&-9\n",
    "\\end{pmatrix}\\quad\n",
    "B=\n",
    "\\begin{pmatrix}\n",
    "0&2&1\\\\\n",
    "0&2&-8\\\\\n",
    "2&9&-1\n",
    "\\end{pmatrix}\n",
    "$$\n",
    "\n",
    "$$\n",
    "AB =\n",
    "\\begin{pmatrix}\n",
    "-1&2&3\\\\\n",
    "4&-5&6\\\\\n",
    "7&8&-9\n",
    "\\end{pmatrix}\n",
    "\\begin{pmatrix}\n",
    "0&2&1\\\\\n",
    "0&2&-8\\\\\n",
    "2&9&-1\n",
    "\\end{pmatrix}\n",
    "$$\n",
    "\n",
    "$$\n",
    "=\n",
    "\\begin{pmatrix}\n",
    "(-1\\times0) + (2\\times0) + (3\\times2)&(-1\\times2) + (2\\times2) + (3\\times9)&(-1\\times1) + (2\\times-8) + (3\\times-1)\\\\\n",
    "(4\\times0) + (-5\\times0) + (6\\times2)&(4\\times2) + (-5\\times2) + (6\\times9)&(4\\times1) + (-5\\times-8) + (6\\times-1)\\\\\n",
    "(7\\times0) + (8\\times0) + (-9\\times2)&(7\\times2) + (8\\times2) + (-9\\times9)&(7\\times1) + (8\\times-8) + (-9\\times-1)\n",
    "\\end{pmatrix}\n",
    "$$\n",
    "\n",
    "$$\n",
    "=\n",
    "\\begin{pmatrix}\n",
    "6&29&-20\\\\\n",
    "12&52&38\\\\\n",
    "-18&-51&-48\n",
    "\\end{pmatrix}\n",
    "$$"
   ]
  },
  {
   "cell_type": "markdown",
   "metadata": {},
   "source": [
    "# 【問題2】NumPyの関数による計算"
   ]
  },
  {
   "cell_type": "code",
   "execution_count": 2,
   "metadata": {},
   "outputs": [
    {
     "name": "stdout",
     "output_type": "stream",
     "text": [
      "[[  6  29 -20]\n",
      " [ 12  52  38]\n",
      " [-18 -51 -48]]\n"
     ]
    }
   ],
   "source": [
    "import numpy as np\n",
    "\n",
    "a_ndarray = np.array([[-1, 2, 3], [4, -5, 6], [7, 8, -9]])\n",
    "b_ndarray = np.array([[0, 2, 1], [0, 2, -8], [2, 9, -1]])\n",
    "\n",
    "# 行列の積\n",
    "ab_ndarray = np.matmul(a_ndarray, b_ndarray)\n",
    "print(ab_ndarray)"
   ]
  },
  {
   "cell_type": "markdown",
   "metadata": {},
   "source": [
    "# 【問題3】ある要素の計算を実装"
   ]
  },
  {
   "cell_type": "code",
   "execution_count": 40,
   "metadata": {},
   "outputs": [
    {
     "name": "stdout",
     "output_type": "stream",
     "text": [
      "[[  6  29 -20]\n",
      " [ 12  52  38]\n",
      " [-18 -51 -48]]\n"
     ]
    }
   ],
   "source": [
    "a_ndarray = np.array([[-1, 2, 3], [4, -5, 6], [7, 8, -9]])\n",
    "b_ndarray = np.array([[0, 2, 1], [0, 2, -8], [2, 9, -1]])\n",
    "\n",
    "rows = 3 # a_ndarrayの行数\n",
    "columns = 3 # b_ndarrayの列数\n",
    "list_ab = []\n",
    "\n",
    "for row in range(rows):\n",
    "    list_buf = []\n",
    "    ndarray_row = a_ndarray[row,:] # a_ndarrayの現在の行のndarrayを取得\n",
    "    for column in range(columns):\n",
    "        ndarray_column = b_ndarray[:,column] # b_ndarray現在の列のndarrayを取得\n",
    "        list_buf.append(np.sum(ndarray_row*ndarray_column))\n",
    "    list_ab.append(list_buf)\n",
    "    \n",
    "ab_ndarray = np.array(list_ab)\n",
    "print(ab_ndarray)"
   ]
  },
  {
   "cell_type": "markdown",
   "metadata": {},
   "source": [
    "# 【問題4】行列積を行う関数の作成"
   ]
  },
  {
   "cell_type": "code",
   "execution_count": 84,
   "metadata": {
    "scrolled": true
   },
   "outputs": [
    {
     "name": "stdout",
     "output_type": "stream",
     "text": [
      "[[  6  29 -20]\n",
      " [ 12  52  38]\n",
      " [-18 -51 -48]]\n"
     ]
    }
   ],
   "source": [
    "def MatrixProduct(a_ndarray, b_ndarray):\n",
    "    rows = a_ndarray.shape[0] # a_ndarrayの列数\n",
    "    columns = b_ndarray.shape[1] # b_ndarrayの行数\n",
    "    list_ab = []\n",
    "\n",
    "    for row in range(rows):\n",
    "        list_buf = []\n",
    "        ndarray_row = a_ndarray[row,:] # a_ndarrayの現在の行のndarrayを取得\n",
    "        for column in range(columns):\n",
    "            ndarray_column = b_ndarray[:,column] # b_ndarrayの現在の列のndarrayを取得\n",
    "            list_buf.append(np.sum(ndarray_row*ndarray_column))\n",
    "        list_ab.append(list_buf)\n",
    "\n",
    "    ab_ndarray = np.array(list_ab)\n",
    "    return ab_ndarray\n",
    "\n",
    "a_ndarray = np.array([[-1, 2, 3], [4, -5, 6], [7, 8, -9]])\n",
    "b_ndarray = np.array([[0, 2, 1], [0, 2, -8], [2, 9, -1]])\n",
    "ab_ndarray = MatrixProduct(a_ndarray, b_ndarray)\n",
    "print(ab_ndarray)"
   ]
  },
  {
   "cell_type": "markdown",
   "metadata": {},
   "source": [
    "# 【問題5】計算が定義されない入力を判定する"
   ]
  },
  {
   "cell_type": "code",
   "execution_count": 79,
   "metadata": {},
   "outputs": [
    {
     "name": "stdout",
     "output_type": "stream",
     "text": [
      "[ERROR]: Aの列数とBの行数が等しくありません。\n",
      "None\n"
     ]
    }
   ],
   "source": [
    "import sys\n",
    "\n",
    "def MatrixProductWithValidation(a_ndarray, b_ndarray):\n",
    "    rows = a_ndarray.shape[0] # a_ndarrayの列数\n",
    "    columns = b_ndarray.shape[1] # b_ndarrayの行数\n",
    "    list_ab = []\n",
    "    \n",
    "    #  Aの列数とBの行数が等しくない場合\n",
    "    if a_ndarray.shape[1]!=b_ndarray.shape[0]:\n",
    "        print(\"[ERROR]: Aの列数とBの行数が等しくありません。\")\n",
    "        return\n",
    "\n",
    "    for row in range(rows):\n",
    "        list_buf = []\n",
    "        ndarray_row = a_ndarray[row,:] # a_ndarrayの現在の行のndarrayを取得\n",
    "        for column in range(columns):\n",
    "            ndarray_column = b_ndarray[:,column] # b_ndarrayの現在の列のndarrayを取得\n",
    "            list_buf.append(np.sum(ndarray_row*ndarray_column))\n",
    "        list_ab.append(list_buf)\n",
    "\n",
    "    ab_ndarray = np.array(list_ab)\n",
    "    return ab_ndarray\n",
    "\n",
    "a_ndarray = np.array([[-1, 2, 3], [4, -5, 6], [7, 8, -9]])\n",
    "b_ndarray = np.array([[0, 2, 1], [0, 2, -8]])\n",
    "ab_ndarray = MatrixProductWithValidation(a_ndarray, b_ndarray)\n",
    "print(ab_ndarray)"
   ]
  },
  {
   "cell_type": "markdown",
   "metadata": {},
   "source": [
    "# 【問題6】転置"
   ]
  },
  {
   "cell_type": "code",
   "execution_count": 83,
   "metadata": {},
   "outputs": [
    {
     "name": "stdout",
     "output_type": "stream",
     "text": [
      "[ERROR]: Aの列数とBの行数が等しくありません。\n",
      "None\n",
      "Bを転置：\n",
      "[[ 0  0]\n",
      " [ 2  2]\n",
      " [ 1 -8]]\n",
      "AとB(転置)の行列積：\n",
      "[[  7 -20]\n",
      " [ -4 -58]\n",
      " [  7  88]]\n"
     ]
    }
   ],
   "source": [
    "a_ndarray = np.array([[-1, 2, 3], [4, -5, 6], [7, 8, -9]])\n",
    "b_ndarray = np.array([[0, 2, 1], [0, 2, -8]])\n",
    "\n",
    "# Aの列数とBの行数が等しくないため，行列積を計算できない\n",
    "ab_ndarray = MatrixProductWithValidation(a_ndarray, b_ndarray)\n",
    "print(ab_ndarray)\n",
    "\n",
    "# AとB(転置)の行列積\n",
    "b_ndarray_t = b_ndarray.T\n",
    "print(\"Bを転置：\\n{}\".format(b_ndarray_t))\n",
    "\n",
    "# ab_ndarray = np.matmul(a_ndarray, b_ndarray_t) # 確認用\n",
    "ab_ndarray = MatrixProductWithValidation(a_ndarray, b_ndarray_t)\n",
    "print(\"AとB(転置)の行列積：\\n{}\".format(ab_ndarray))"
   ]
  }
 ],
 "metadata": {
  "kernelspec": {
   "display_name": "Python 3",
   "language": "python",
   "name": "python3"
  },
  "language_info": {
   "codemirror_mode": {
    "name": "ipython",
    "version": 3
   },
   "file_extension": ".py",
   "mimetype": "text/x-python",
   "name": "python",
   "nbconvert_exporter": "python",
   "pygments_lexer": "ipython3",
   "version": "3.7.4"
  }
 },
 "nbformat": 4,
 "nbformat_minor": 2
}
