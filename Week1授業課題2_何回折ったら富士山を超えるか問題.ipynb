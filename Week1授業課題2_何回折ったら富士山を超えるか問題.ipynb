{
 "cells": [
  {
   "cell_type": "markdown",
   "metadata": {},
   "source": [
    "# 【問題1】富士山を超える最小の折る回数"
   ]
  },
  {
   "cell_type": "code",
   "execution_count": 4,
   "metadata": {},
   "outputs": [
    {
     "name": "stdout",
     "output_type": "stream",
     "text": [
      "富士山を超える最小の折る回数：26回\n"
     ]
    }
   ],
   "source": [
    "THICKNESS = 0.00008 # 紙の厚さ(0.00008m)\n",
    "n_thickness = THICKNESS # 現在の紙の厚さ\n",
    "n_times = 0 # 折った回数\n",
    "\n",
    "while n_thickness < 3776:\n",
    "    n_thickness = n_thickness*2\n",
    "    n_times = n_times + 1\n",
    "    \n",
    "print(\"富士山を超える最小の折る回数：{}回\".format(n_times))"
   ]
  },
  {
   "cell_type": "markdown",
   "metadata": {},
   "source": [
    "# 【問題2】任意の厚さに対応した関数を作成"
   ]
  },
  {
   "cell_type": "code",
   "execution_count": 7,
   "metadata": {},
   "outputs": [
    {
     "name": "stdout",
     "output_type": "stream",
     "text": [
      "最も近い太陽以外の恒星を超える最小の折る回数：69回\n"
     ]
    }
   ],
   "source": [
    "def FoldTimes(n_Length):\n",
    "    THICKNESS = 0.00008 # 紙の厚さ(0.00008m)\n",
    "    n_thickness = THICKNESS # 現在の紙の厚さ\n",
    "    n_times = 0 # 折った回数\n",
    "    \n",
    "    while n_thickness < n_Length:\n",
    "        n_thickness = n_thickness*2\n",
    "        n_times = n_times + 1    \n",
    "    \n",
    "    return n_times\n",
    "    \n",
    "    \n",
    "n_Length = 4.243*9.461e+15 # 最も近い太陽以外の恒星(プロキシマケンタウリ 4.243光年)\n",
    "n_times = FoldTimes(n_Length)\n",
    "print(\"最も近い太陽以外の恒星を超える最小の折る回数：{}回\".format(n_times))"
   ]
  },
  {
   "cell_type": "markdown",
   "metadata": {},
   "source": [
    "# 【問題3】必要な紙の長さ"
   ]
  },
  {
   "cell_type": "code",
   "execution_count": 11,
   "metadata": {},
   "outputs": [
    {
     "name": "stdout",
     "output_type": "stream",
     "text": [
      "月を超える必要な紙の長さ：3.240919444170781e+21m\n",
      "富士山を超える必要な紙の長さ：188646348487.24014m\n",
      "最も近い太陽以外の恒星を超える必要な紙の長さ：1.4595803601100348e+37m\n"
     ]
    }
   ],
   "source": [
    "import math\n",
    "\n",
    "def PaperLength(n_times):\n",
    "    THICKNESS = 0.00008 # 紙の厚さ(0.00008m)\n",
    "    n_paper_length = (math.pi*THICKNESS*(2**n_times + 4)*(2**n_times - 1))/6\n",
    "    return n_paper_length\n",
    "\n",
    "\n",
    "# 月まで（384,400km）\n",
    "n_Length = 384400000\n",
    "n_times = FoldTimes(n_Length)\n",
    "n_paper_length = PaperLength(n_times)\n",
    "print(\"月を超える必要な紙の長さ：{}m\".format(n_paper_length))\n",
    "\n",
    "# 富士山(3776m)\n",
    "n_Length = 3776\n",
    "n_times = FoldTimes(n_Length)\n",
    "n_paper_length = PaperLength(n_times)\n",
    "print(\"富士山を超える必要な紙の長さ：{}m\".format(n_paper_length))\n",
    "\n",
    "# 最も近い太陽以外の恒星(プロキシマケンタウリ 4.243光年)\n",
    "n_Length = 4.243*9.461e+15\n",
    "n_times = FoldTimes(n_Length)\n",
    "n_paper_length = PaperLength(n_times)\n",
    "print(\"最も近い太陽以外の恒星を超える必要な紙の長さ：{}m\".format(n_paper_length))"
   ]
  }
 ],
 "metadata": {
  "kernelspec": {
   "display_name": "Python 3",
   "language": "python",
   "name": "python3"
  },
  "language_info": {
   "codemirror_mode": {
    "name": "ipython",
    "version": 3
   },
   "file_extension": ".py",
   "mimetype": "text/x-python",
   "name": "python",
   "nbconvert_exporter": "python",
   "pygments_lexer": "ipython3",
   "version": "3.7.4"
  }
 },
 "nbformat": 4,
 "nbformat_minor": 2
}
