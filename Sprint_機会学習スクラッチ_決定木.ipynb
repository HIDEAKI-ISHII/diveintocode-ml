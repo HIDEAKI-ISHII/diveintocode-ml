{
 "cells": [
  {
   "cell_type": "code",
   "execution_count": 1,
   "metadata": {},
   "outputs": [],
   "source": [
    "import pandas as pd\n",
    "from sklearn.datasets import load_iris\n",
    "import matplotlib.pyplot as plt\n",
    "import numpy as np\n",
    "%matplotlib inline"
   ]
  },
  {
   "cell_type": "markdown",
   "metadata": {},
   "source": [
    "# シンプルデータセット2の作成"
   ]
  },
  {
   "cell_type": "code",
   "execution_count": 2,
   "metadata": {},
   "outputs": [],
   "source": [
    "X = np.array([[-0.44699 , -2.8073  ],[-1.4621  , -2.4586  ],\n",
    "       [ 0.10645 ,  1.9242  ],[-3.5944  , -4.0112  ],\n",
    "       [-0.9888  ,  4.5718  ],[-3.1625  , -3.9606  ],\n",
    "       [ 0.56421 ,  0.72888 ],[-0.60216 ,  8.4636  ],\n",
    "       [-0.61251 , -0.75345 ],[-0.73535 , -2.2718  ],\n",
    "       [-0.80647 , -2.2135  ],[ 0.86291 ,  2.3946  ],\n",
    "       [-3.1108  ,  0.15394 ],[-2.9362  ,  2.5462  ],\n",
    "       [-0.57242 , -2.9915  ],[ 1.4771  ,  3.4896  ],\n",
    "       [ 0.58619 ,  0.37158 ],[ 0.6017  ,  4.3439  ],\n",
    "       [-2.1086  ,  8.3428  ],[-4.1013  , -4.353   ],\n",
    "       [-1.9948  , -1.3927  ],[ 0.35084 , -0.031994],\n",
    "       [ 0.96765 ,  7.8929  ],[-1.281   , 15.6824  ],\n",
    "       [ 0.96765 , 10.083   ],[ 1.3763  ,  1.3347  ],\n",
    "       [-2.234   , -2.5323  ],[-2.9452  , -1.8219  ],\n",
    "       [ 0.14654 , -0.28733 ],[ 0.5461  ,  5.8245  ],\n",
    "       [-0.65259 ,  9.3444  ],[ 0.59912 ,  5.3524  ],\n",
    "       [ 0.50214 , -0.31818 ],[-3.0603  , -3.6461  ],\n",
    "       [-6.6797  ,  0.67661 ],[-2.353   , -0.72261 ],\n",
    "       [ 1.1319  ,  2.4023  ],[-0.12243 ,  9.0162  ],\n",
    "       [-2.5677  , 13.1779  ],[ 0.057313,  5.4681  ]])\n",
    "y = np.array([0, 0, 0, 0, 0, 0, 0, 0, 0, 0, 0, 0, 0, 0, 0, 0, 0, 0, 0, 0, 1, 1,\n",
    "       1, 1, 1, 1, 1, 1, 1, 1, 1, 1, 1, 1, 1, 1, 1, 1, 1, 1])"
   ]
  },
  {
   "cell_type": "markdown",
   "metadata": {},
   "source": [
    "# 決定木のスクラッチ（ScratchDecesionTreeClassifierDepth1）"
   ]
  },
  {
   "cell_type": "code",
   "execution_count": 3,
   "metadata": {},
   "outputs": [],
   "source": [
    "class ScratchDecesionTreeClassifierDepth1():\n",
    "    \"\"\"\n",
    "    深さ1の決定木分類器のスクラッチ実装\n",
    "\n",
    "    Parameters\n",
    "    ----------\n",
    "    verbose : bool\n",
    "      学習過程を出力する場合はTrue\n",
    "    \"\"\"\n",
    "    def __init__(self, verbose=False):\n",
    "        # ハイパーパラメータを属性として記録\n",
    "        self.verbose = verbose\n",
    "        \n",
    "        self.feature_index = None\n",
    "        self.threshold = None\n",
    "        self.left_label = None\n",
    "        self.right_label = None\n",
    "        \n",
    "    def fit(self, X, y):\n",
    "        \"\"\"\n",
    "        決定木分類器を学習する\n",
    "        Parameters\n",
    "        ----------\n",
    "        X : 次の形のndarray, shape (n_samples, n_features)\n",
    "            訓練データの特徴量\n",
    "        y : 次の形のndarray, shape (n_samples, )\n",
    "            訓練データの正解値\n",
    "        \"\"\"\n",
    "        \n",
    "        ig_max, feature_index, threshold = dt.get_max_ig(X, y)\n",
    "        self.feature_index = feature_index\n",
    "        self.threshold = threshold\n",
    "        \n",
    "        # 左の子ノードのラベルを取得\n",
    "        self.left_label = np.argmax(np.bincount(y[X[:, self.feature_index] >= self.threshold]))\n",
    "        \n",
    "        # 右の子ノードのラベルを取得\n",
    "        self.right_label = np.argmax(np.bincount(y[X[:, self.feature_index] < self.threshold]))        \n",
    "        \n",
    "        \n",
    "        if self.verbose:\n",
    "            #verboseをTrueにした際は学習過程を出力\n",
    "            print(\"最大の情報利得： {}\".format(ig_max))\n",
    "            print(\"分割対象の特徴量のインデックス： {}\".format(feature_index))\n",
    "            print(\"閾値： {}\".format(threshold))\n",
    "            print(\"左の子ノードのラベル： {}\".format(self.left_label))\n",
    "            print(\"右の子ノードのラベル： {}\".format(self.right_label))            \n",
    "            \n",
    "    \n",
    "    def predict(self, X):\n",
    "        \"\"\"\n",
    "        決定木分類器を使いラベルを推定する\n",
    "        Parameters\n",
    "        ----------\n",
    "        X : 次の形のndarray, shape (n_samples, n_features)\n",
    "            訓練データの特徴量        \n",
    "        \n",
    "        Returns\n",
    "        y_pred : 次の形のndarray, shape (n_samples, )\n",
    "             推定値\n",
    "        \"\"\"\n",
    "        y_pred = np.where(X[:, self.feature_index] >= self.threshold, self.left_label, self.right_label)\n",
    "        \n",
    "        return y_pred\n",
    "    \n",
    "    \n",
    "    def calc_gini(self, y):\n",
    "        \"\"\"\n",
    "        gini不純度を計算する\n",
    "        Parameters\n",
    "        ----------\n",
    "        y : 次の形のndarray, shape (n_samples, )\n",
    "            訓練データの正解値\n",
    "            \n",
    "        Returns\n",
    "        gini : float\n",
    "          ジニ不純度    \n",
    "        \"\"\"\n",
    "        gini = 0\n",
    "        score = 0\n",
    "        \n",
    "        # giniの算出\n",
    "        for cls in np.unique(y):\n",
    "            score  = score  + (len(y[y==cls]) / len(y)) ** 2\n",
    "            \n",
    "        gini = 1 - score\n",
    "\n",
    "        return gini\n",
    "    \n",
    "    \n",
    "    def calc_information_gain(self, X, y, index, threshold):\n",
    "        \"\"\"\n",
    "        情報利得を計算する\n",
    "        Parameters\n",
    "        ----------\n",
    "        X : 次の形のndarray, shape (n_samples, n_features)\n",
    "            訓練データの特徴量\n",
    "        y : 次の形のndarray, shape (n_samples, )\n",
    "            訓練データの正解値\n",
    "        index : int\n",
    "            特徴量のインデックス         \n",
    "        index : float\n",
    "            閾値                \n",
    "            \n",
    "        Returns\n",
    "        ig : float\n",
    "          情報利得\n",
    "        \"\"\"\n",
    "        gini = 0\n",
    "        \n",
    "        # 親ノードのginiの算出\n",
    "        gini_parent = self.calc_gini(y)\n",
    "        \n",
    "        # 閾値以上のginiの算出（左の子ノード）\n",
    "        y_left = y[X[:, index] >= threshold] # 閾値以上の目的変数\n",
    "        gini_left = self.calc_gini(y_left)\n",
    "        \n",
    "        # 閾値未満のginiの算出（右の子ノード）\n",
    "        y_right = y[X[:, index] < threshold] # 閾値未満の目的変数\n",
    "        gini_right = self.calc_gini(y_right)\n",
    "        \n",
    "        ig = gini_parent  - gini_left * len(y_left) / len(y) - gini_right * len(y_right) / len(y) \n",
    "        \n",
    "        return ig\n",
    "    \n",
    "    \n",
    "    def get_max_ig(self, X, y):\n",
    "        \"\"\"\n",
    "        最大の情報利得を求める\n",
    "        Parameters\n",
    "        ----------\n",
    "        X : 次の形のndarray, shape (n_samples, n_features)\n",
    "            訓練データの特徴量\n",
    "        y : 次の形のndarray, shape (n_samples, )\n",
    "            訓練データの正解値\n",
    "            \n",
    "        Returns\n",
    "        ig_max : float\n",
    "            最大の情報利得\n",
    "        feature_index : int\n",
    "            特徴量のインデックス           \n",
    "        threshold : float\n",
    "            閾値        \n",
    "        \"\"\"\n",
    "        ig_max = 0\n",
    "        feature_index = None\n",
    "        threshold = None\n",
    "        ig = None\n",
    "\n",
    "        for idx in range(X.shape[1]):\n",
    "            values = X[:, idx]\n",
    "            for val in values:\n",
    "                ig = self.calc_information_gain(X, y, idx, val)\n",
    "                if ig_max < ig:\n",
    "                    ig_max = ig\n",
    "                    threshold = val\n",
    "                    feature_index = idx   \n",
    "        \n",
    "        return ig_max, feature_index, threshold\n",
    "            "
   ]
  },
  {
   "cell_type": "markdown",
   "metadata": {},
   "source": [
    "# 【問題1】不純度を求める関数"
   ]
  },
  {
   "cell_type": "markdown",
   "metadata": {},
   "source": [
    "# $I(t) = 1-\\sum_{i=1}^{K}P^2(C_i|t) = 1-\\sum_{i=1}^{K}(\\frac{N_{t,i}}{N_{t,all}})^{2}$"
   ]
  },
  {
   "cell_type": "markdown",
   "metadata": {},
   "source": [
    "## calc_gini の実装\n",
    "```python \n",
    "def calc_gini(self, y):\n",
    "    \"\"\"\n",
    "    gini不純度を計算する\n",
    "    Parameters\n",
    "    ----------\n",
    "    y : 次の形のndarray, shape (n_samples, )\n",
    "        訓練データの正解値\n",
    "\n",
    "    Returns\n",
    "    gini : float\n",
    "      ジニ不純度    \n",
    "    \"\"\"\n",
    "    gini = 0\n",
    "    score = 0\n",
    "\n",
    "    # giniの算出\n",
    "    for cls in np.unique(y):\n",
    "        score  = score  + (len(y[y==cls]) / len(y)) ** 2\n",
    "\n",
    "    gini = 1 - score\n",
    "\n",
    "    return gini\n",
    "```"
   ]
  },
  {
   "cell_type": "markdown",
   "metadata": {},
   "source": [
    "## gini不純度を計算"
   ]
  },
  {
   "cell_type": "code",
   "execution_count": 4,
   "metadata": {},
   "outputs": [
    {
     "name": "stdout",
     "output_type": "stream",
     "text": [
      "[0 0 0 0 0 0 0 0 0 0 0 0 0 0 0 0 0 0 0 0 1 1 1 1 1 1 1 1 1 1 1 1 1 1 1 1 1\n",
      " 1 1 1]\n",
      "40\n",
      "20\n",
      "20\n"
     ]
    }
   ],
   "source": [
    "# サンプルデータ\n",
    "print(y)\n",
    "print(len(y))\n",
    "print(len(y[y==0]))\n",
    "print(len(y[y==1]))"
   ]
  },
  {
   "cell_type": "markdown",
   "metadata": {},
   "source": [
    "## $1-\\left( \\left( \\dfrac {20}{40}\\right) ^{2}+\\left( \\dfrac {20}{40}\\right) ^{2}\\right) =0.5$"
   ]
  },
  {
   "cell_type": "code",
   "execution_count": 5,
   "metadata": {
    "scrolled": true
   },
   "outputs": [
    {
     "name": "stdout",
     "output_type": "stream",
     "text": [
      "0.5\n"
     ]
    }
   ],
   "source": [
    "# gini不純度を計算\n",
    "dt = ScratchDecesionTreeClassifierDepth1()\n",
    "gini = dt.calc_gini(y)\n",
    "print(gini)"
   ]
  },
  {
   "cell_type": "markdown",
   "metadata": {},
   "source": [
    "# 【問題2】情報利得を求める関数"
   ]
  },
  {
   "cell_type": "markdown",
   "metadata": {},
   "source": [
    "## 情報利得を求める関数の実装\n",
    "```python \n",
    "def calc_information_gain(self, X, y, index, threshold):\n",
    "    \"\"\"\n",
    "    情報利得を計算する\n",
    "    Parameters\n",
    "    ----------\n",
    "    X : 次の形のndarray, shape (n_samples, n_features)\n",
    "        訓練データの特徴量\n",
    "    y : 次の形のndarray, shape (n_samples, )\n",
    "        訓練データの正解値\n",
    "    index : int\n",
    "        特徴量のインデックス         \n",
    "    index : float\n",
    "        閾値                \n",
    "\n",
    "    Returns\n",
    "    ig : float\n",
    "      情報利得\n",
    "    \"\"\"\n",
    "    gini = 0\n",
    "\n",
    "    # 親ノードのginiの算出\n",
    "    gini_parent = self.calc_gini(y)\n",
    "\n",
    "    # 閾値以上のginiの算出（左の子ノード）\n",
    "    y_left = y[X[:, index] >= threshold] # 閾値以上の目的変数\n",
    "    gini_left = self.calc_gini(y_left)\n",
    "\n",
    "    # 閾値未満のginiの算出（右の子ノード）\n",
    "    y_right = y[X[:, index] < threshold] # 閾値未満の目的変数\n",
    "    gini_right = self.calc_gini(y_right)\n",
    "\n",
    "    ig = gini_parent  - gini_left * len(y_left) / len(y) - gini_right * len(y_right) / len(y) \n",
    "\n",
    "    return ig\n",
    "```"
   ]
  },
  {
   "cell_type": "markdown",
   "metadata": {},
   "source": [
    "## 情報利得を計算"
   ]
  },
  {
   "cell_type": "code",
   "execution_count": 6,
   "metadata": {},
   "outputs": [],
   "source": [
    "feature_index = 0\n",
    "threshold = -0.65259"
   ]
  },
  {
   "cell_type": "code",
   "execution_count": 7,
   "metadata": {},
   "outputs": [
    {
     "name": "stdout",
     "output_type": "stream",
     "text": [
      "0.005050505050504944\n"
     ]
    }
   ],
   "source": [
    "# 情報利得を求める\n",
    "dt = ScratchDecesionTreeClassifierDepth1()\n",
    "gini = dt.calc_information_gain(X, y, feature_index, threshold)\n",
    "print(gini)"
   ]
  },
  {
   "cell_type": "markdown",
   "metadata": {},
   "source": [
    "# 【問題3】学習"
   ]
  },
  {
   "cell_type": "markdown",
   "metadata": {},
   "source": [
    "## 最大の情報利得を求める関数の実装\n",
    "```python \n",
    "def get_max_ig(self, X, y):\n",
    "    \"\"\"\n",
    "    最大の情報利得を求める\n",
    "    Parameters\n",
    "    ----------\n",
    "    X : 次の形のndarray, shape (n_samples, n_features)\n",
    "        訓練データの特徴量\n",
    "    y : 次の形のndarray, shape (n_samples, )\n",
    "        訓練データの正解値\n",
    "\n",
    "    Returns\n",
    "    ig_max : float\n",
    "        最大の情報利得\n",
    "    feature_index : int\n",
    "        特徴量のインデックス           \n",
    "    threshold : float\n",
    "        閾値        \n",
    "    \"\"\"\n",
    "    ig_max = 0\n",
    "    feature_index = None\n",
    "    threshold = None\n",
    "    ig = None\n",
    "\n",
    "    for idx in range(X.shape[1]):\n",
    "        values = X[:, idx]\n",
    "        for val in values:\n",
    "            ig = self.calc_information_gain(X, y, idx, val)\n",
    "            if ig_max < ig:\n",
    "                ig_max = ig\n",
    "                threshold = val\n",
    "                feature_index = idx   \n",
    "\n",
    "    return ig_max, feature_index, threshold\n",
    "```"
   ]
  },
  {
   "cell_type": "markdown",
   "metadata": {},
   "source": [
    "## fit の実装\n",
    "```python \n",
    "def fit(self, X, y):\n",
    "    \"\"\"\n",
    "    決定木分類器を学習する\n",
    "    Parameters\n",
    "    ----------\n",
    "    X : 次の形のndarray, shape (n_samples, n_features)\n",
    "        訓練データの特徴量\n",
    "    y : 次の形のndarray, shape (n_samples, )\n",
    "        訓練データの正解値\n",
    "    \"\"\"\n",
    "\n",
    "    ig_max, feature_index, threshold = dt.get_max_ig(X, y)\n",
    "    self.feature_index = feature_index\n",
    "    self.threshold = threshold\n",
    "\n",
    "    # 左の子ノードのラベルを取得\n",
    "    self.left_label = np.argmax(np.bincount(y[X[:, self.feature_index] >= self.threshold]))\n",
    "\n",
    "    # 右の子ノードのラベルを取得\n",
    "    self.right_label = np.argmax(np.bincount(y[X[:, self.feature_index] < self.threshold]))        \n",
    "\n",
    "\n",
    "    if self.verbose:\n",
    "        #verboseをTrueにした際は学習過程を出力\n",
    "        print(\"最大の情報利得： {}\".format(ig_max))\n",
    "        print(\"分割対象の特徴量のインデックス： {}\".format(feature_index))\n",
    "        print(\"閾値： {}\".format(threshold))\n",
    "        print(\"左の子ノードのラベル： {}\".format(self.left_label))\n",
    "        print(\"右の子ノードのラベル： {}\".format(self.right_label))     \n",
    "```"
   ]
  },
  {
   "cell_type": "markdown",
   "metadata": {},
   "source": [
    "## 学習"
   ]
  },
  {
   "cell_type": "code",
   "execution_count": 8,
   "metadata": {},
   "outputs": [
    {
     "name": "stdout",
     "output_type": "stream",
     "text": [
      "最大の情報利得： 0.07680250783699061\n",
      "分割対象の特徴量のインデックス： 1\n",
      "閾値： 5.3524\n",
      "左の子ノードのラベル： 1\n",
      "右の子ノードのラベル： 0\n"
     ]
    }
   ],
   "source": [
    "dt = ScratchDecesionTreeClassifierDepth1(True)\n",
    "dt.fit(X, y)"
   ]
  },
  {
   "cell_type": "markdown",
   "metadata": {},
   "source": [
    "# 【問題4】推定"
   ]
  },
  {
   "cell_type": "markdown",
   "metadata": {},
   "source": [
    "## predict の実装\n",
    "```python \n",
    "def predict(self, X):\n",
    "    \"\"\"\n",
    "    決定木分類器を使いラベルを推定する\n",
    "    Parameters\n",
    "    ----------\n",
    "    X : 次の形のndarray, shape (n_samples, n_features)\n",
    "        訓練データの特徴量        \n",
    "\n",
    "    Returns\n",
    "    y_pred : 次の形のndarray, shape (n_samples, )\n",
    "         推定値\n",
    "    \"\"\"\n",
    "    y_pred = np.where(X[:, self.feature_index] >= self.threshold, self.left_label, self.right_label)\n",
    "\n",
    "    return y_pred \n",
    "```"
   ]
  },
  {
   "cell_type": "markdown",
   "metadata": {},
   "source": [
    "## 推定"
   ]
  },
  {
   "cell_type": "code",
   "execution_count": 9,
   "metadata": {},
   "outputs": [
    {
     "data": {
      "text/plain": [
       "array([0, 0, 0, 0, 0, 0, 0, 1, 0, 0, 0, 0, 0, 0, 0, 0, 0, 0, 1, 0, 0, 0,\n",
       "       1, 1, 1, 0, 0, 0, 0, 1, 1, 1, 0, 0, 0, 0, 0, 1, 1, 1])"
      ]
     },
     "execution_count": 9,
     "metadata": {},
     "output_type": "execute_result"
    }
   ],
   "source": [
    "dt.predict(X)"
   ]
  },
  {
   "cell_type": "markdown",
   "metadata": {},
   "source": [
    "# 【問題5】学習と推定"
   ]
  },
  {
   "cell_type": "markdown",
   "metadata": {},
   "source": [
    "# ① 今回のスクラッチを利用したとき"
   ]
  },
  {
   "cell_type": "code",
   "execution_count": 10,
   "metadata": {},
   "outputs": [],
   "source": [
    "#　訓練データと検証データに分割\n",
    "from sklearn.model_selection import train_test_split\n",
    "X_train, X_val, y_train, y_val = train_test_split(X, y, test_size = 0.3, random_state = 0) # 訓練データ70%、検証データ30%として分割"
   ]
  },
  {
   "cell_type": "code",
   "execution_count": 11,
   "metadata": {},
   "outputs": [],
   "source": [
    "# 標準化\n",
    "from sklearn.preprocessing import StandardScaler\n",
    "scaler = StandardScaler()\n",
    "scaler.fit(X_train)\n",
    "X_train_std = scaler.transform(X_train)\n",
    "X_val_std = scaler.transform(X_val)"
   ]
  },
  {
   "cell_type": "code",
   "execution_count": 12,
   "metadata": {},
   "outputs": [
    {
     "name": "stdout",
     "output_type": "stream",
     "text": [
      "最大の情報利得： 0.13494897959183677\n",
      "分割対象の特徴量のインデックス： 1\n",
      "閾値： 0.5927312019831511\n",
      "左の子ノードのラベル： 1\n",
      "右の子ノードのラベル： 0\n"
     ]
    }
   ],
   "source": [
    "# 学習\n",
    "dt = ScratchDecesionTreeClassifierDepth1(True)\n",
    "dt.fit(X_train_std, y_train)"
   ]
  },
  {
   "cell_type": "code",
   "execution_count": 13,
   "metadata": {},
   "outputs": [
    {
     "name": "stdout",
     "output_type": "stream",
     "text": [
      "[1 0 0 0 0 0 0 0 1 1 0 0]\n",
      "[1 1 1 0 0 0 1 0 0 1 1 1]\n"
     ]
    }
   ],
   "source": [
    "# 推定（testデータ）\n",
    "y_val_pred = dt.predict(X_val_std)\n",
    "print(y_val_pred)\n",
    "print(y_val)"
   ]
  },
  {
   "cell_type": "code",
   "execution_count": 14,
   "metadata": {},
   "outputs": [
    {
     "name": "stdout",
     "output_type": "stream",
     "text": [
      "Accuracy（正解率）：　0.5\n",
      "\n",
      "Precision（適合率）：　0.5555555555555556\n",
      "\n",
      "Recall（再現率）：　0.5428571428571429\n",
      "\n"
     ]
    }
   ],
   "source": [
    "from sklearn.metrics import accuracy_score\n",
    "print(\"Accuracy（正解率）：　{}\\n\".format(accuracy_score(y_val, y_val_pred)))\n",
    "\n",
    "from sklearn.metrics import precision_score\n",
    "print(\"Precision（適合率）：　{}\\n\".format(precision_score(y_val, y_val_pred, average='macro')))\n",
    "\n",
    "from sklearn.metrics import recall_score\n",
    "print(\"Recall（再現率）：　{}\\n\".format(recall_score(y_val, y_val_pred, average='macro')))"
   ]
  },
  {
   "cell_type": "markdown",
   "metadata": {},
   "source": [
    "# ② scikit-learnによる実装のとき"
   ]
  },
  {
   "cell_type": "code",
   "execution_count": 15,
   "metadata": {},
   "outputs": [],
   "source": [
    "from sklearn.tree import DecisionTreeClassifier\n",
    "\n",
    "clf_tree = DecisionTreeClassifier(max_depth=1) # 決定木のインスタンスを生成\n",
    "clf_tree.fit(X_train_std, y_train)\n",
    "y_pred_tree = clf_tree.predict(X_val_std) # 予測"
   ]
  },
  {
   "cell_type": "code",
   "execution_count": 16,
   "metadata": {},
   "outputs": [
    {
     "name": "stdout",
     "output_type": "stream",
     "text": [
      "Accuracy（正解率）：　0.5\n",
      "\n",
      "Precision（適合率）：　0.5555555555555556\n",
      "\n",
      "Recall（再現率）：　0.5428571428571429\n",
      "\n"
     ]
    }
   ],
   "source": [
    "from sklearn.metrics import accuracy_score\n",
    "print(\"Accuracy（正解率）：　{}\\n\".format(accuracy_score(y_val, y_pred_tree)))\n",
    "\n",
    "from sklearn.metrics import precision_score\n",
    "print(\"Precision（適合率）：　{}\\n\".format(precision_score(y_val, y_pred_tree, average='macro')))\n",
    "\n",
    "from sklearn.metrics import recall_score\n",
    "print(\"Recall（再現率）：　{}\\n\".format(recall_score(y_val, y_pred_tree, average='macro')))"
   ]
  },
  {
   "cell_type": "markdown",
   "metadata": {},
   "source": [
    "## 「① 今回のスクラッチを利用したとき」と「② scikit-learnによる実装のとき」は検証結果が同じとなった"
   ]
  },
  {
   "cell_type": "markdown",
   "metadata": {},
   "source": [
    "# 【問題6】決定領域の可視化"
   ]
  },
  {
   "cell_type": "code",
   "execution_count": 17,
   "metadata": {},
   "outputs": [],
   "source": [
    "from matplotlib.colors import ListedColormap\n",
    "import matplotlib.patches as mpatches\n",
    "\n",
    "# 決定領域を表示する関数\n",
    "def decision_region(X, y, model, step=0.01, title='decision region', xlabel='xlabel', ylabel='ylabel', target_names=['versicolor', 'virginica']):\n",
    "    \"\"\"\n",
    "    2値分類を2次元の特徴量で学習したモデルの決定領域を描く。\n",
    "    背景の色が学習したモデルによる推定値から描画される。\n",
    "    散布図の点は訓練データまたは検証データである。\n",
    "\n",
    "    Parameters\n",
    "    ----------------\n",
    "    X : ndarray, shape(n_samples, 2)\n",
    "        特徴量\n",
    "    y : ndarray, shape(n_samples,)\n",
    "        ラベル\n",
    "    model : object\n",
    "        学習したモデルのインスンタスを入れる\n",
    "    step : float, (default : 0.1)\n",
    "        推定値を計算する間隔を設定する\n",
    "    title : str\n",
    "        グラフのタイトルの文章を与える\n",
    "    xlabel, ylabel : str\n",
    "        軸ラベルの文章を与える\n",
    "    target_names= : list of str\n",
    "        凡例の一覧を与える\n",
    "    \"\"\"\n",
    "    # setting\n",
    "    scatter_color = ['red', 'blue']\n",
    "    contourf_color = ['pink', 'skyblue']\n",
    "    n_class = 2\n",
    "    # pred\n",
    "    mesh_f0, mesh_f1  = np.meshgrid(np.arange(np.min(X[:,0])-0.5, np.max(X[:,0])+0.5, step), np.arange(np.min(X[:,1])-0.5, np.max(X[:,1])+0.5, step))\n",
    "    mesh = np.c_[np.ravel(mesh_f0),np.ravel(mesh_f1)]\n",
    "    y_pred = model.predict(mesh).reshape(mesh_f0.shape)\n",
    "    # plot\n",
    "    plt.title(title)\n",
    "    plt.xlabel(xlabel)\n",
    "    plt.ylabel(ylabel)\n",
    "    plt.contourf(mesh_f0, mesh_f1, y_pred, n_class-1, cmap=ListedColormap(contourf_color))\n",
    "    plt.contour(mesh_f0, mesh_f1, y_pred, n_class-1, colors='y', linewidths=3, alpha=0.5)\n",
    "    for i, target in enumerate(set(y)):\n",
    "        plt.scatter(X[y==target][:, 0], X[y==target][:, 1], s=80, color=scatter_color[i], label=target_names[i], marker='o')\n",
    "    patches = [mpatches.Patch(color=scatter_color[i], label=target_names[i]) for i in range(n_class)]\n",
    "    plt.legend(handles=patches)\n",
    "    plt.legend()\n",
    "    plt.show()"
   ]
  },
  {
   "cell_type": "code",
   "execution_count": 18,
   "metadata": {},
   "outputs": [
    {
     "data": {
      "image/png": "[encoded data removed]",
      "text/plain": [
       "<Figure size 432x288 with 1 Axes>"
      ]
     },
     "metadata": {
      "needs_background": "light"
     },
     "output_type": "display_data"
    }
   ],
   "source": [
    "decision_region(X_val_std, y_val, dt, step=0.01, title='decision region', xlabel='xlabel', ylabel='ylabel', target_names=['versicolor', 'virginica'])"
   ]
  },
  {
   "cell_type": "markdown",
   "metadata": {},
   "source": [
    "# 【問題7】（アドバンス課題）深さ2の決定木分類器クラスの作成"
   ]
  },
  {
   "cell_type": "markdown",
   "metadata": {},
   "source": [
    "## 注）【問題7】と【問題８】のクラスは同じ構造で実装してあります。"
   ]
  },
  {
   "cell_type": "markdown",
   "metadata": {},
   "source": [
    "## ① 深さ2の決定木分類器クラス"
   ]
  },
  {
   "cell_type": "code",
   "execution_count": 19,
   "metadata": {},
   "outputs": [],
   "source": [
    "class ScratchDecesionTreeClassifierDepth2():\n",
    "    \"\"\"\n",
    "    深さに制限のない決定木分類器のスクラッチ実装\n",
    "\n",
    "    Parameters\n",
    "    ----------\n",
    "    verbose : bool\n",
    "      学習過程を出力する場合はTrue\n",
    "    \"\"\"\n",
    "    def __init__(self, verbose, max_depth):\n",
    "        # ハイパーパラメータを属性として記録\n",
    "        self.verbose = verbose\n",
    "        self.max_depth = max_depth\n",
    "        \n",
    "        self.tree = None\n",
    "        \n",
    "    def fit(self, X, y):\n",
    "        \"\"\"\n",
    "        決定木分類器を学習する\n",
    "        Parameters\n",
    "        ----------\n",
    "        X : 次の形のndarray, shape (n_samples, n_features)\n",
    "            訓練データの特徴量\n",
    "        y : 次の形のndarray, shape (n_samples, )\n",
    "            訓練データの正解値\n",
    "        \"\"\"\n",
    "        \n",
    "        # ルートノードの作成\n",
    "        self.tree = Node(self.verbose, self.max_depth)\n",
    "        # ルートノードの分割\n",
    "        self.tree.split_node(X, y, current_depth = 0)\n",
    "   \n",
    "    \n",
    "    def predict(self, X):\n",
    "        \"\"\"\n",
    "        決定木分類器を使いラベルを推定する\n",
    "        Parameters\n",
    "        ----------\n",
    "        X : 次の形のndarray, shape (n_samples, n_features)\n",
    "            訓練データの特徴量        \n",
    "        \n",
    "        Returns\n",
    "        y_pred : 次の形のndarray, shape (n_samples, )\n",
    "             推定値\n",
    "        \"\"\"\n",
    "        \n",
    "        y_pred = []\n",
    "        for Xi in X:\n",
    "            y_pred.append(self.tree.predict(Xi))\n",
    "        \n",
    "        return y_pred"
   ]
  },
  {
   "cell_type": "markdown",
   "metadata": {},
   "source": [
    "## ② ノードクラス"
   ]
  },
  {
   "cell_type": "code",
   "execution_count": 20,
   "metadata": {},
   "outputs": [],
   "source": [
    "class Node():\n",
    "    \n",
    "    def __init__(self, verbose, max_depth):\n",
    "        self.verbose = verbose                    # verboseをTrueにした際は学習過程を出力\n",
    "        self.max_depth = max_depth        # 最大の深さ\n",
    "        self.feature_idx = None                  # 分割対象の特徴量のインデックス\n",
    "        self.threshold = None                      # 閾値\n",
    "        self.left = None                                 # 左のノードオブジェクト\n",
    "        self.right = None                               # 右のノードオブジェクト\n",
    "        self.label = None                               # ノードのクラス\n",
    "        \n",
    "        \n",
    "    def split_node(self, X, y, current_depth):\n",
    "        \n",
    "        # ノードの「現在の深さ」が「最大の深さ」と等しい場合、または目的変数のクラスの種類が「１つ」の場合\n",
    "        if current_depth == self.max_depth or len(np.unique(y)) == 1:\n",
    "            self.label = np.argmax(np.bincount(y)) #最も多いクラスの値を取得\n",
    "            if self.verbose:\n",
    "                #verboseをTrueにした際は学習過程を出力\n",
    "                print(\"現在の深さ： {}\".format(current_depth))\n",
    "                print(\"ラベルの値： {}\".format(self.label))            \n",
    "            return\n",
    "        \n",
    "        # 最大の情報利得になる値を取得\n",
    "        ig_max, feature_idx, threshold = self.get_max_ig(X, y)\n",
    "        \n",
    "        self.feature_idx = feature_idx         # 分割対象の特徴量のインデックス\n",
    "        self.threshold = threshold                # 閾値\n",
    "        \n",
    "        left_idx = np.where(X[:, self.feature_idx] < self.threshold)          # 閾値未満の特徴量のインデックスを取得\n",
    "        right_idx = np.where(X[:, self.feature_idx] >= self.threshold)     # 閾値以上の特徴量のインデックスを取得\n",
    "        \n",
    "        self.left = Node(self.verbose, self.max_depth)           # 左の子ノードのオブジェクトを作成\n",
    "        self.right = Node(self.verbose, self.max_depth)         # 右の子ノードのオブジェクトを作成\n",
    "        \n",
    "        self.left.split_node(X[left_idx], y[left_idx], current_depth + 1)           # 左の子ノードの「split_node」を呼び出し\n",
    "        self.right.split_node(X[right_idx], y[right_idx], current_depth + 1)    # 右の子ノードの「split_node」を呼び出し\n",
    "\n",
    "        if self.verbose:\n",
    "            #verboseをTrueにした際は学習過程を出力\n",
    "            print(\"現在の深さ： {}\".format(current_depth))\n",
    "            print(\"最大の情報利得： {}\".format(ig_max))\n",
    "            print(\"分割対象の特徴量のインデックス： {}\".format(feature_index))\n",
    "            print(\"閾値： {}\".format(threshold))\n",
    "        \n",
    "        \n",
    "    def calc_gini(self, y):\n",
    "        \"\"\"\n",
    "        gini不純度を計算する\n",
    "        Parameters\n",
    "        ----------\n",
    "        y : 次の形のndarray, shape (n_samples, )\n",
    "            訓練データの正解値\n",
    "            \n",
    "        Returns\n",
    "        gini : float\n",
    "          ジニ不純度    \n",
    "        \"\"\"\n",
    "        gini = 0\n",
    "        score = 0\n",
    "        \n",
    "        # giniの算出\n",
    "        for cls in np.unique(y):\n",
    "            score  = score  + (len(y[y==cls]) / len(y)) ** 2\n",
    "        gini = 1 - score\n",
    "\n",
    "        return gini\n",
    "    \n",
    "    \n",
    "    def calc_information_gain(self, X, y, index, threshold):\n",
    "        \"\"\"\n",
    "        情報利得を計算する\n",
    "        Parameters\n",
    "        ----------\n",
    "        X : 次の形のndarray, shape (n_samples, n_features)\n",
    "            訓練データの特徴量\n",
    "        y : 次の形のndarray, shape (n_samples, )\n",
    "            訓練データの正解値\n",
    "        index : int\n",
    "            特徴量のインデックス         \n",
    "        index : float\n",
    "            閾値                \n",
    "            \n",
    "        Returns\n",
    "        ig : float\n",
    "          情報利得\n",
    "        \"\"\"\n",
    "        gini = 0\n",
    "        \n",
    "        # 親ノードのginiの算出\n",
    "        gini_parent = self.calc_gini(y)\n",
    "        \n",
    "        # 閾値未満のginiの算出（左の子ノード）\n",
    "        y_left = y[X[:, index] < threshold] # 閾値未満の目的変数\n",
    "        gini_left = self.calc_gini(y_left)\n",
    "        \n",
    "        # 閾値以上のginiの算出（右の子ノード）\n",
    "        y_right = y[X[:, index] >= threshold] # 閾値以上の目的変数\n",
    "        gini_right = self.calc_gini(y_right)\n",
    "        \n",
    "        # 情報利得を計算\n",
    "        ig = gini_parent  - gini_left * len(y_left) / len(y) - gini_right * len(y_right) / len(y) \n",
    "        \n",
    "        return ig\n",
    "    \n",
    "    \n",
    "    def get_max_ig(self, X, y):\n",
    "        \"\"\"\n",
    "        最大の情報利得を求める\n",
    "        Parameters\n",
    "        ----------\n",
    "        X : 次の形のndarray, shape (n_samples, n_features)\n",
    "            訓練データの特徴量\n",
    "        y : 次の形のndarray, shape (n_samples, )\n",
    "            訓練データの正解値\n",
    "            \n",
    "        Returns\n",
    "        ig_max : float\n",
    "            最大の情報利得\n",
    "        feature_index : int\n",
    "            特徴量のインデックス           \n",
    "        threshold : float\n",
    "            閾値        \n",
    "        \"\"\"\n",
    "        ig_max = 0\n",
    "        feature_index = None\n",
    "        threshold = None\n",
    "        ig = None\n",
    "        \n",
    "        # すべての特徴量の値について情報利得を計算する\n",
    "        for idx in range(X.shape[1]):\n",
    "            values = X[:, idx]\n",
    "            for val in values:\n",
    "                ig = self.calc_information_gain(X, y, idx, val)\n",
    "                if ig_max < ig:\n",
    "                    ig_max = ig\n",
    "                    threshold = val\n",
    "                    feature_index = idx   \n",
    "        \n",
    "        return ig_max, feature_index, threshold    \n",
    "    \n",
    "    def predict(self, Xi):\n",
    "        \"\"\"\n",
    "        最大の情報利得を求める\n",
    "        Parameters\n",
    "        ----------\n",
    "        X : 次の形のndarray, shape (1, n_features)\n",
    "            推定データの特徴量\n",
    "\n",
    "        Returns\n",
    "        label : object\n",
    "            ラベル \n",
    "        \"\"\"        \n",
    "        \n",
    "        # ラベルに値がある（子ノードがない）場合\n",
    "        if self.label is not None:\n",
    "            return self.label\n",
    "        \n",
    "        if Xi[self.feature_idx] < self.threshold:        #  閾値未満の場合\n",
    "            return self.left.predict(Xi)                         # 左の子ノードの「predict」を呼び出し\n",
    "        elif Xi[self.feature_idx] >= self.threshold:  #  閾値以上の場合\n",
    "            return self.right.predict(Xi)                       # 右の子ノードの「predict」を呼び出し"
   ]
  },
  {
   "cell_type": "markdown",
   "metadata": {},
   "source": [
    "## 学習と推定"
   ]
  },
  {
   "cell_type": "markdown",
   "metadata": {},
   "source": [
    "## ① 深さが「2」の学習と推定"
   ]
  },
  {
   "cell_type": "code",
   "execution_count": 21,
   "metadata": {},
   "outputs": [
    {
     "name": "stdout",
     "output_type": "stream",
     "text": [
      "現在の深さ： 2\n",
      "ラベルの値： 0\n",
      "現在の深さ： 2\n",
      "ラベルの値： 1\n",
      "現在の深さ： 1\n",
      "最大の情報利得： 0.051578947368421\n",
      "分割対象の特徴量のインデックス： 0\n",
      "閾値： 1.2376627691639501\n",
      "現在の深さ： 2\n",
      "ラベルの値： 1\n",
      "現在の深さ： 2\n",
      "ラベルの値： 1\n",
      "現在の深さ： 1\n",
      "最大の情報利得： 0.05208333333333334\n",
      "分割対象の特徴量のインデックス： 0\n",
      "閾値： 1.2663521994222138\n",
      "現在の深さ： 0\n",
      "最大の情報利得： 0.13494897959183677\n",
      "分割対象の特徴量のインデックス： 0\n",
      "閾値： 0.5927312019831511\n"
     ]
    }
   ],
   "source": [
    "# 学習（深さが4の場合）\n",
    "dt2 = ScratchDecesionTreeClassifierDepth2(verbose=True, max_depth=2)\n",
    "dt2.fit(X_train_std, y_train)"
   ]
  },
  {
   "cell_type": "code",
   "execution_count": 22,
   "metadata": {},
   "outputs": [],
   "source": [
    "y2_val_pred = dt2.predict(X_val_std)"
   ]
  },
  {
   "cell_type": "code",
   "execution_count": 23,
   "metadata": {},
   "outputs": [
    {
     "name": "stdout",
     "output_type": "stream",
     "text": [
      "[1, 0, 1, 0, 0, 1, 0, 0, 1, 1, 0, 0]\n"
     ]
    }
   ],
   "source": [
    "print(y2_val_pred)"
   ]
  },
  {
   "cell_type": "code",
   "execution_count": 24,
   "metadata": {},
   "outputs": [
    {
     "name": "stdout",
     "output_type": "stream",
     "text": [
      "Accuracy（正解率）：　0.5\n",
      "\n",
      "Precision（適合率）：　0.5142857142857142\n",
      "\n",
      "Recall（再現率）：　0.5142857142857142\n",
      "\n"
     ]
    }
   ],
   "source": [
    "from sklearn.metrics import accuracy_score\n",
    "print(\"Accuracy（正解率）：　{}\\n\".format(accuracy_score(y_val, y2_val_pred)))\n",
    "\n",
    "from sklearn.metrics import precision_score\n",
    "print(\"Precision（適合率）：　{}\\n\".format(precision_score(y_val, y2_val_pred, average='macro')))\n",
    "\n",
    "from sklearn.metrics import recall_score\n",
    "print(\"Recall（再現率）：　{}\\n\".format(recall_score(y_val, y2_val_pred, average='macro')))"
   ]
  },
  {
   "cell_type": "markdown",
   "metadata": {},
   "source": [
    "# 【問題8】（アドバンス課題）深さに制限のない決定木分類器クラスの作成"
   ]
  },
  {
   "cell_type": "markdown",
   "metadata": {},
   "source": [
    "## ① 深さに制限のない決定木分類器クラス"
   ]
  },
  {
   "cell_type": "code",
   "execution_count": 25,
   "metadata": {},
   "outputs": [],
   "source": [
    "class ScratchDecesionTreeClassifierDepthInf():\n",
    "    \"\"\"\n",
    "    深さに制限のない決定木分類器のスクラッチ実装\n",
    "\n",
    "    Parameters\n",
    "    ----------\n",
    "    verbose : bool\n",
    "      学習過程を出力する場合はTrue\n",
    "    \"\"\"\n",
    "    def __init__(self, verbose, max_depth):\n",
    "        # ハイパーパラメータを属性として記録\n",
    "        self.verbose = verbose\n",
    "        self.max_depth = max_depth\n",
    "        \n",
    "        self.tree = None\n",
    "        \n",
    "    def fit(self, X, y):\n",
    "        \"\"\"\n",
    "        決定木分類器を学習する\n",
    "        Parameters\n",
    "        ----------\n",
    "        X : 次の形のndarray, shape (n_samples, n_features)\n",
    "            訓練データの特徴量\n",
    "        y : 次の形のndarray, shape (n_samples, )\n",
    "            訓練データの正解値\n",
    "        \"\"\"\n",
    "        \n",
    "        # ルートノードの作成\n",
    "        self.tree = Node(self.verbose, self.max_depth)\n",
    "        # ルートノードの分割\n",
    "        self.tree.split_node(X, y, current_depth = 0)\n",
    "   \n",
    "    \n",
    "    def predict(self, X):\n",
    "        \"\"\"\n",
    "        決定木分類器を使いラベルを推定する\n",
    "        Parameters\n",
    "        ----------\n",
    "        X : 次の形のndarray, shape (n_samples, n_features)\n",
    "            訓練データの特徴量        \n",
    "        \n",
    "        Returns\n",
    "        y_pred : 次の形のndarray, shape (n_samples, )\n",
    "             推定値\n",
    "        \"\"\"\n",
    "        \n",
    "        y_pred = []\n",
    "        for Xi in X:\n",
    "            y_pred.append(self.tree.predict(Xi))\n",
    "        \n",
    "        return y_pred"
   ]
  },
  {
   "cell_type": "markdown",
   "metadata": {},
   "source": [
    "## ② ノードクラス"
   ]
  },
  {
   "cell_type": "code",
   "execution_count": 26,
   "metadata": {},
   "outputs": [],
   "source": [
    "class Node():\n",
    "    \n",
    "    def __init__(self, verbose, max_depth):\n",
    "        self.verbose = verbose                    # verboseをTrueにした際は学習過程を出力\n",
    "        self.max_depth = max_depth        # 最大の深さ\n",
    "        self.feature_idx = None                  # 分割対象の特徴量のインデックス\n",
    "        self.threshold = None                      # 閾値\n",
    "        self.left = None                                 # 左のノードオブジェクト\n",
    "        self.right = None                               # 右のノードオブジェクト\n",
    "        self.label = None                               # ノードのクラス\n",
    "        \n",
    "        \n",
    "    def split_node(self, X, y, current_depth):\n",
    "        \n",
    "        # ノードの「現在の深さ」が「最大の深さ」と等しい場合、または目的変数のクラスの種類が「１つ」の場合\n",
    "        if current_depth == self.max_depth or len(np.unique(y)) == 1:\n",
    "            self.label = np.argmax(np.bincount(y)) #最も多いクラスの値を取得\n",
    "            if self.verbose:\n",
    "                #verboseをTrueにした際は学習過程を出力\n",
    "                print(\"現在の深さ： {}\".format(current_depth))\n",
    "                print(\"ラベルの値： {}\".format(self.label))                     \n",
    "            return\n",
    "        \n",
    "        # 最大の情報利得になる値を取得\n",
    "        ig_max, feature_idx, threshold = self.get_max_ig(X, y)\n",
    "        \n",
    "        self.feature_idx = feature_idx         # 分割対象の特徴量のインデックス\n",
    "        self.threshold = threshold                # 閾値\n",
    "        \n",
    "        left_idx = np.where(X[:, self.feature_idx] < self.threshold)          # 閾値未満の特徴量のインデックスを取得\n",
    "        right_idx = np.where(X[:, self.feature_idx] >= self.threshold)     # 閾値以上の特徴量のインデックスを取得\n",
    "        \n",
    "        self.left = Node(self.verbose, self.max_depth)           # 左の子ノードのオブジェクトを作成\n",
    "        self.right = Node(self.verbose, self.max_depth)         # 右の子ノードのオブジェクトを作成\n",
    "        \n",
    "        self.left.split_node(X[left_idx], y[left_idx], current_depth + 1)           # 左の子ノードの「split_node」を呼び出し\n",
    "        self.right.split_node(X[right_idx], y[right_idx], current_depth + 1)    # 右の子ノードの「split_node」を呼び出し\n",
    "\n",
    "        if self.verbose:\n",
    "            #verboseをTrueにした際は学習過程を出力\n",
    "            print(\"現在の深さ： {}\".format(current_depth))\n",
    "            print(\"最大の情報利得： {}\".format(ig_max))\n",
    "            print(\"分割対象の特徴量のインデックス： {}\".format(feature_index))\n",
    "            print(\"閾値： {}\".format(threshold)) \n",
    "        \n",
    "        \n",
    "    def calc_gini(self, y):\n",
    "        \"\"\"\n",
    "        gini不純度を計算する\n",
    "        Parameters\n",
    "        ----------\n",
    "        y : 次の形のndarray, shape (n_samples, )\n",
    "            訓練データの正解値\n",
    "            \n",
    "        Returns\n",
    "        gini : float\n",
    "          ジニ不純度    \n",
    "        \"\"\"\n",
    "        gini = 0\n",
    "        score = 0\n",
    "        \n",
    "        # giniの算出\n",
    "        for cls in np.unique(y):\n",
    "            score  = score  + (len(y[y==cls]) / len(y)) ** 2\n",
    "        gini = 1 - score\n",
    "\n",
    "        return gini\n",
    "    \n",
    "    \n",
    "    def calc_information_gain(self, X, y, index, threshold):\n",
    "        \"\"\"\n",
    "        情報利得を計算する\n",
    "        Parameters\n",
    "        ----------\n",
    "        X : 次の形のndarray, shape (n_samples, n_features)\n",
    "            訓練データの特徴量\n",
    "        y : 次の形のndarray, shape (n_samples, )\n",
    "            訓練データの正解値\n",
    "        index : int\n",
    "            特徴量のインデックス         \n",
    "        index : float\n",
    "            閾値                \n",
    "            \n",
    "        Returns\n",
    "        ig : float\n",
    "          情報利得\n",
    "        \"\"\"\n",
    "        gini = 0\n",
    "        \n",
    "        # 親ノードのginiの算出\n",
    "        gini_parent = self.calc_gini(y)\n",
    "        \n",
    "        # 閾値未満のginiの算出（左の子ノード）\n",
    "        y_left = y[X[:, index] < threshold] # 閾値未満の目的変数\n",
    "        gini_left = self.calc_gini(y_left)\n",
    "        \n",
    "        # 閾値以上のginiの算出（右の子ノード）\n",
    "        y_right = y[X[:, index] >= threshold] # 閾値以上の目的変数\n",
    "        gini_right = self.calc_gini(y_right)\n",
    "        \n",
    "        # 情報利得を計算\n",
    "        ig = gini_parent  - gini_left * len(y_left) / len(y) - gini_right * len(y_right) / len(y) \n",
    "        \n",
    "        return ig\n",
    "    \n",
    "    \n",
    "    def get_max_ig(self, X, y):\n",
    "        \"\"\"\n",
    "        最大の情報利得を求める\n",
    "        Parameters\n",
    "        ----------\n",
    "        X : 次の形のndarray, shape (n_samples, n_features)\n",
    "            訓練データの特徴量\n",
    "        y : 次の形のndarray, shape (n_samples, )\n",
    "            訓練データの正解値\n",
    "            \n",
    "        Returns\n",
    "        ig_max : float\n",
    "            最大の情報利得\n",
    "        feature_index : int\n",
    "            特徴量のインデックス           \n",
    "        threshold : float\n",
    "            閾値        \n",
    "        \"\"\"\n",
    "        ig_max = 0\n",
    "        feature_index = None\n",
    "        threshold = None\n",
    "        ig = None\n",
    "        \n",
    "        # すべての特徴量の値について情報利得を計算する\n",
    "        for idx in range(X.shape[1]):\n",
    "            values = X[:, idx]\n",
    "            for val in values:\n",
    "                ig = self.calc_information_gain(X, y, idx, val)\n",
    "                if ig_max < ig:\n",
    "                    ig_max = ig\n",
    "                    threshold = val\n",
    "                    feature_index = idx   \n",
    "        \n",
    "        return ig_max, feature_index, threshold    \n",
    "    \n",
    "    def predict(self, Xi):\n",
    "        \"\"\"\n",
    "        最大の情報利得を求める\n",
    "        Parameters\n",
    "        ----------\n",
    "        X : 次の形のndarray, shape (1, n_features)\n",
    "            推定データの特徴量\n",
    "\n",
    "        Returns\n",
    "        label : object\n",
    "            ラベル \n",
    "        \"\"\"        \n",
    "        \n",
    "        # ラベルに値がある（子ノードがない）場合\n",
    "        if self.label is not None:\n",
    "            return self.label\n",
    "        \n",
    "        if Xi[self.feature_idx] < self.threshold:        #  閾値未満の場合\n",
    "            return self.left.predict(Xi)                         # 左の子ノードの「predict」を呼び出し\n",
    "        elif Xi[self.feature_idx] >= self.threshold:  #  閾値以上の場合\n",
    "            return self.right.predict(Xi)                       # 右の子ノードの「predict」を呼び出し"
   ]
  },
  {
   "cell_type": "markdown",
   "metadata": {},
   "source": [
    "## 学習と推定"
   ]
  },
  {
   "cell_type": "markdown",
   "metadata": {},
   "source": [
    "## ① 深さが「3」の学習と推定"
   ]
  },
  {
   "cell_type": "code",
   "execution_count": 27,
   "metadata": {},
   "outputs": [
    {
     "name": "stdout",
     "output_type": "stream",
     "text": [
      "現在の深さ： 3\n",
      "ラベルの値： 1\n",
      "現在の深さ： 3\n",
      "ラベルの値： 0\n",
      "現在の深さ： 2\n",
      "最大の情報利得： 0.0603262542320715\n",
      "分割対象の特徴量のインデックス： 0\n",
      "閾値： -1.5889245634111966\n",
      "現在の深さ： 2\n",
      "ラベルの値： 1\n",
      "現在の深さ： 1\n",
      "最大の情報利得： 0.051578947368421\n",
      "分割対象の特徴量のインデックス： 0\n",
      "閾値： 1.2376627691639501\n",
      "現在の深さ： 3\n",
      "ラベルの値： 0\n",
      "現在の深さ： 3\n",
      "ラベルの値： 1\n",
      "現在の深さ： 2\n",
      "最大の情報利得： 0.4444444444444444\n",
      "分割対象の特徴量のインデックス： 0\n",
      "閾値： 0.6572504015972741\n",
      "現在の深さ： 2\n",
      "ラベルの値： 1\n",
      "現在の深さ： 1\n",
      "最大の情報利得： 0.05208333333333334\n",
      "分割対象の特徴量のインデックス： 0\n",
      "閾値： 1.2663521994222138\n",
      "現在の深さ： 0\n",
      "最大の情報利得： 0.13494897959183677\n",
      "分割対象の特徴量のインデックス： 0\n",
      "閾値： 0.5927312019831511\n"
     ]
    }
   ],
   "source": [
    "# 学習（深さが３の場合）\n",
    "dt3 = ScratchDecesionTreeClassifierDepthInf(verbose=True, max_depth=3)\n",
    "dt3.fit(X_train_std, y_train)"
   ]
  },
  {
   "cell_type": "code",
   "execution_count": 28,
   "metadata": {},
   "outputs": [],
   "source": [
    "y3_val_pred = dt3.predict(X_val_std)"
   ]
  },
  {
   "cell_type": "code",
   "execution_count": 29,
   "metadata": {},
   "outputs": [
    {
     "name": "stdout",
     "output_type": "stream",
     "text": [
      "[1, 0, 1, 0, 0, 1, 0, 0, 0, 1, 0, 0]\n"
     ]
    }
   ],
   "source": [
    "print(y3_val_pred)"
   ]
  },
  {
   "cell_type": "code",
   "execution_count": 30,
   "metadata": {},
   "outputs": [
    {
     "name": "stdout",
     "output_type": "stream",
     "text": [
      "Accuracy（正解率）：　0.5833333333333334\n",
      "\n",
      "Precision（適合率）：　0.625\n",
      "\n",
      "Recall（再現率）：　0.6142857142857143\n",
      "\n"
     ]
    }
   ],
   "source": [
    "from sklearn.metrics import accuracy_score\n",
    "print(\"Accuracy（正解率）：　{}\\n\".format(accuracy_score(y_val, y3_val_pred)))\n",
    "\n",
    "from sklearn.metrics import precision_score\n",
    "print(\"Precision（適合率）：　{}\\n\".format(precision_score(y_val, y3_val_pred, average='macro')))\n",
    "\n",
    "from sklearn.metrics import recall_score\n",
    "print(\"Recall（再現率）：　{}\\n\".format(recall_score(y_val, y3_val_pred, average='macro')))"
   ]
  },
  {
   "cell_type": "markdown",
   "metadata": {},
   "source": [
    "## ② 深さが「無限」の学習と推定"
   ]
  },
  {
   "cell_type": "code",
   "execution_count": 31,
   "metadata": {},
   "outputs": [
    {
     "name": "stdout",
     "output_type": "stream",
     "text": [
      "現在の深さ： 3\n",
      "ラベルの値： 1\n",
      "現在の深さ： 7\n",
      "ラベルの値： 0\n",
      "現在の深さ： 7\n",
      "ラベルの値： 1\n",
      "現在の深さ： 6\n",
      "最大の情報利得： 0.48\n",
      "分割対象の特徴量のインデックス： 0\n",
      "閾値： -1.026653407481607\n",
      "現在の深さ： 6\n",
      "ラベルの値： 0\n",
      "現在の深さ： 5\n",
      "最大の情報利得： 0.07999999999999985\n",
      "分割対象の特徴量のインデックス： 0\n",
      "閾値： -0.1634240497422507\n",
      "現在の深さ： 5\n",
      "ラベルの値： 1\n",
      "現在の深さ： 4\n",
      "最大の情報利得： 0.17777777777777787\n",
      "分割対象の特徴量のインデックス： 0\n",
      "閾値： 0.815791963159757\n",
      "現在の深さ： 4\n",
      "ラベルの値： 0\n",
      "現在の深さ： 3\n",
      "最大の情報利得： 0.04938271604938271\n",
      "分割対象の特徴量のインデックス： 0\n",
      "閾値： -0.3630501753701628\n",
      "現在の深さ： 2\n",
      "最大の情報利得： 0.0603262542320715\n",
      "分割対象の特徴量のインデックス： 0\n",
      "閾値： -1.5889245634111966\n",
      "現在の深さ： 2\n",
      "ラベルの値： 1\n",
      "現在の深さ： 1\n",
      "最大の情報利得： 0.051578947368421\n",
      "分割対象の特徴量のインデックス： 0\n",
      "閾値： 1.2376627691639501\n",
      "現在の深さ： 3\n",
      "ラベルの値： 0\n",
      "現在の深さ： 3\n",
      "ラベルの値： 1\n",
      "現在の深さ： 2\n",
      "最大の情報利得： 0.4444444444444444\n",
      "分割対象の特徴量のインデックス： 0\n",
      "閾値： 0.6572504015972741\n",
      "現在の深さ： 2\n",
      "ラベルの値： 1\n",
      "現在の深さ： 1\n",
      "最大の情報利得： 0.05208333333333334\n",
      "分割対象の特徴量のインデックス： 0\n",
      "閾値： 1.2663521994222138\n",
      "現在の深さ： 0\n",
      "最大の情報利得： 0.13494897959183677\n",
      "分割対象の特徴量のインデックス： 0\n",
      "閾値： 0.5927312019831511\n"
     ]
    }
   ],
   "source": [
    "# 学習（深さが無限の場合）\n",
    "dt_inf = ScratchDecesionTreeClassifierDepthInf(verbose=True, max_depth=None)\n",
    "dt_inf.fit(X_train_std, y_train)"
   ]
  },
  {
   "cell_type": "markdown",
   "metadata": {},
   "source": [
    "## → 深さを無限にしたとき、このデータでは最大の深さが「６」でノード分割が終了した"
   ]
  },
  {
   "cell_type": "code",
   "execution_count": 32,
   "metadata": {},
   "outputs": [],
   "source": [
    "y_inf_val_pred = dt_inf.predict(X_val_std)"
   ]
  },
  {
   "cell_type": "code",
   "execution_count": 33,
   "metadata": {},
   "outputs": [
    {
     "name": "stdout",
     "output_type": "stream",
     "text": [
      "[1, 1, 1, 0, 0, 1, 0, 0, 0, 1, 1, 1]\n"
     ]
    }
   ],
   "source": [
    "print(y_inf_val_pred)"
   ]
  },
  {
   "cell_type": "code",
   "execution_count": 34,
   "metadata": {},
   "outputs": [
    {
     "name": "stdout",
     "output_type": "stream",
     "text": [
      "Accuracy（正解率）：　0.8333333333333334\n",
      "\n",
      "Precision（適合率）：　0.8285714285714285\n",
      "\n",
      "Recall（再現率）：　0.8285714285714285\n",
      "\n"
     ]
    }
   ],
   "source": [
    "from sklearn.metrics import accuracy_score\n",
    "print(\"Accuracy（正解率）：　{}\\n\".format(accuracy_score(y_val, y_inf_val_pred)))\n",
    "\n",
    "from sklearn.metrics import precision_score\n",
    "print(\"Precision（適合率）：　{}\\n\".format(precision_score(y_val, y_inf_val_pred, average='macro')))\n",
    "\n",
    "from sklearn.metrics import recall_score\n",
    "print(\"Recall（再現率）：　{}\\n\".format(recall_score(y_val, y_inf_val_pred, average='macro')))"
   ]
  }
 ],
 "metadata": {
  "kernelspec": {
   "display_name": "Python 3",
   "language": "python",
   "name": "python3"
  },
  "language_info": {
   "codemirror_mode": {
    "name": "ipython",
    "version": 3
   },
   "file_extension": ".py",
   "mimetype": "text/x-python",
   "name": "python",
   "nbconvert_exporter": "python",
   "pygments_lexer": "ipython3",
   "version": "3.7.2"
  }
 },
 "nbformat": 4,
 "nbformat_minor": 4
}
