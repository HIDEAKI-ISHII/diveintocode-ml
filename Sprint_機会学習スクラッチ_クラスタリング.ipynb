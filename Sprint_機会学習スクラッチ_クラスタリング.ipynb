{
 "cells": [
  {
   "cell_type": "code",
   "execution_count": 1,
   "metadata": {},
   "outputs": [],
   "source": [
    "import pandas as pd\n",
    "from sklearn.datasets import load_iris\n",
    "import matplotlib.pyplot as plt\n",
    "import numpy as np\n",
    "%matplotlib inline"
   ]
  },
  {
   "cell_type": "markdown",
   "metadata": {},
   "source": [
    "## ★ クラスタリングのクラス"
   ]
  },
  {
   "cell_type": "code",
   "execution_count": 2,
   "metadata": {},
   "outputs": [],
   "source": [
    "class ScratchKMeans():\n",
    "    \"\"\"\n",
    "    K-meansのスクラッチ実装\n",
    "\n",
    "    Parameters\n",
    "    ----------\n",
    "    n_clusters : int\n",
    "      クラスタ数\n",
    "    n_init : int\n",
    "      中心点の初期値を何回変えて計算するか\n",
    "    max_iter : int\n",
    "      1回の計算で最大何イテレーションするか\n",
    "    tol : float\n",
    "      イテレーションを終了する基準となる中心点と重心の許容誤差\n",
    "    verbose : bool\n",
    "      学習過程を出力する場合はTrue\n",
    "    \"\"\"\n",
    "    def __init__(self, n_clusters, n_init, max_iter, tol, verbose=False):\n",
    "        # ハイパーパラメータを属性として記録\n",
    "        self.n_clusters = n_clusters\n",
    "        self.n_init = n_init\n",
    "        self.max_iter = max_iter\n",
    "        self.tol = tol\n",
    "        self.verbose = verbose\n",
    "        self.centers = None\n",
    "        self.sse = None\n",
    "        \n",
    "    def fit(self, X):\n",
    "        \"\"\"\n",
    "        K-meansによるクラスタリングを計算\n",
    "        Parameters\n",
    "        ----------\n",
    "        X : 次の形のndarray, shape (n_samples, n_features)\n",
    "            訓練データの特徴量\n",
    "        \"\"\"\n",
    "                \n",
    "        # 中心点の初期値を何回変えて計算\n",
    "        for n_init in range(self.n_init):\n",
    "            \n",
    "            # 中心点の初期値\n",
    "            centers  = X[np.random.choice(X.shape[0], self.n_clusters, replace=False)]\n",
    "\n",
    "            # クラスタへの割り当て\n",
    "            clusters = allocate_cluster(X, centers)\n",
    "\n",
    "            #verboseをTrueにした際は学習過程を出力\n",
    "            if self.verbose:\n",
    "                print(0)\n",
    "                print(centers)        \n",
    "\n",
    "            for i in range(self.max_iter):\n",
    "\n",
    "                # 中心点の移動（重心の計算）\n",
    "                centers  = move_center(X, clusters, centers)\n",
    "\n",
    "                # クラスタへの割り当て\n",
    "                clusters = allocate_cluster(X, centers)\n",
    "\n",
    "                #verboseをTrueにした際は学習過程を出力\n",
    "                if self.verbose:\n",
    "                    print(i + 1)\n",
    "                    print(centers)\n",
    "                \n",
    "                current_sse = calc_SSE(X, centers)\n",
    "                if self.tol >= current_sse:\n",
    "                    break\n",
    "            \n",
    "            if self.centers is None:\n",
    "                self.centers = centers\n",
    "                self.sse = current_sse\n",
    "            elif self.sse >= current_sse:\n",
    "                self.centers = centers\n",
    "                self.sse = current_sse                \n",
    "        \n",
    "    \n",
    "    def allocate_cluster(self, X, centers):\n",
    "\n",
    "        clusters = np.zeros(X.shape[0])\n",
    "\n",
    "        for X_row in range(X.shape[0]):\n",
    "            distance = None\n",
    "\n",
    "            for centers_row in range(centers.shape[0]):\n",
    "\n",
    "                if distance is None:\n",
    "                    distance = np.linalg.norm(X[X_row] - centers[centers_row])\n",
    "\n",
    "                elif distance > np.linalg.norm(X[X_row] - centers[centers_row]):\n",
    "                    distance = np.linalg.norm(X[X_row] - centers[centers_row])\n",
    "                    clusters[X_row] = centers_row\n",
    "\n",
    "        return clusters\n",
    "    \n",
    "    \n",
    "    def move_center(self, X, clusters, centers):\n",
    "\n",
    "        for centers_row in range(centers.shape[0]):\n",
    "            Xi = X[clusters == centers_row]\n",
    "            centers[centers_row] = np.sum(Xi, axis=0) / Xi.shape[0]\n",
    "\n",
    "        return centers          \n",
    "    \n",
    "    \n",
    "    def calc_SSE(self, X, centers):\n",
    "\n",
    "        sses = np.zeros((X.shape[0], centers.shape[0]))\n",
    "\n",
    "        for c_row in range(centers.shape[0]):\n",
    "                    sses[:, c_row] = np.linalg.norm(X - centers[c_row])**2\n",
    "\n",
    "        sse = np.min(sses, axis=1).sum()\n",
    "        \n",
    "        return sse\n",
    "    \n",
    "    \n",
    "    def predict(self, X):\n",
    "        \"\"\"\n",
    "        入力されたデータがどのクラスタに属するかを計算\n",
    "        \"\"\"\n",
    "        y_pred = self.allocate_cluster(X, centers)\n",
    "        \n",
    "        return y_pred"
   ]
  },
  {
   "cell_type": "markdown",
   "metadata": {},
   "source": [
    "## ★ クラスタリングのための人工データセット"
   ]
  },
  {
   "cell_type": "markdown",
   "metadata": {},
   "source": [
    "クラスタリングを実験するための人工データセットを作成するコードを用意しています。\n",
    "このmake_blobs関数は正解ラベルも出力してますが、今回は使用しません。使用しないことを明示するために、 _（アンダースコア） で受け取っています。\n",
    "《シンプルデータセット3》"
   ]
  },
  {
   "cell_type": "code",
   "execution_count": 3,
   "metadata": {},
   "outputs": [],
   "source": [
    "from sklearn.datasets import make_blobs\n",
    "X, _ = make_blobs(n_samples=100, n_features=2, centers=4, cluster_std=0.5, shuffle=True, random_state=0)"
   ]
  },
  {
   "cell_type": "code",
   "execution_count": 4,
   "metadata": {},
   "outputs": [
    {
     "data": {
      "text/plain": [
       "(100, 2)"
      ]
     },
     "execution_count": 4,
     "metadata": {},
     "output_type": "execute_result"
    }
   ],
   "source": [
    "X.shape"
   ]
  },
  {
   "cell_type": "code",
   "execution_count": 5,
   "metadata": {
    "scrolled": false
   },
   "outputs": [
    {
     "data": {
      "text/plain": [
       "array([[ 0.72086751,  3.71347124],\n",
       "       [-1.89468423,  7.96898545],\n",
       "       [ 1.35678894,  4.36462484],\n",
       "       [ 1.05374379,  4.49286859],\n",
       "       [ 1.59141542,  4.90497725]])"
      ]
     },
     "execution_count": 5,
     "metadata": {},
     "output_type": "execute_result"
    }
   ],
   "source": [
    "X[:5]"
   ]
  },
  {
   "cell_type": "code",
   "execution_count": 6,
   "metadata": {},
   "outputs": [
    {
     "data": {
      "image/png": "[encoded data removed]",
      "text/plain": [
       "<Figure size 432x288 with 1 Axes>"
      ]
     },
     "metadata": {
      "needs_background": "light"
     },
     "output_type": "display_data"
    }
   ],
   "source": [
    "plt.scatter(X[:,0],X[:,1],c=\"w\",marker=\"o\",edgecolor=\"black\",s=50)\n",
    "plt.grid()\n",
    "plt.show()"
   ]
  },
  {
   "cell_type": "markdown",
   "metadata": {},
   "source": [
    "# 【問題1】中心点の初期値を決める"
   ]
  },
  {
   "cell_type": "markdown",
   "metadata": {},
   "source": [
    "入力されたデータから $K$ 個の中心点 $\\mu_1$ から $\\mu_K$ の初期値を決めるコードを作成してください。$K$ は指定したクラスタ数です。\n",
    "\n",
    "\n",
    "最もシンプルな初期値の決定方法は、データ点 $X_n$ の中からランダムに $K$ 個選ぶことです。今回はこれを実装してください。\n",
    "\n",
    "\n",
    "K-meansの学習結果は中心点 $\\mu$ の初期値に影響を受けます。そのため、学習時には複数個の初期値で計算を行います。"
   ]
  },
  {
   "cell_type": "code",
   "execution_count": 7,
   "metadata": {},
   "outputs": [],
   "source": [
    "# クラスター数\n",
    "k = 4"
   ]
  },
  {
   "cell_type": "code",
   "execution_count": 8,
   "metadata": {},
   "outputs": [],
   "source": [
    "# 中心点の初期値\n",
    "centers  = X[np.random.choice(X.shape[0], k, replace=False)]"
   ]
  },
  {
   "cell_type": "code",
   "execution_count": 9,
   "metadata": {},
   "outputs": [
    {
     "data": {
      "text/plain": [
       "array([[ 1.40848818,  3.93270482],\n",
       "       [ 0.16932115,  4.19741719],\n",
       "       [-1.497272  ,  8.80022604],\n",
       "       [-1.56102482,  3.77455362]])"
      ]
     },
     "execution_count": 9,
     "metadata": {},
     "output_type": "execute_result"
    }
   ],
   "source": [
    "centers"
   ]
  },
  {
   "cell_type": "markdown",
   "metadata": {},
   "source": [
    "# 【問題2】SSEを求める関数の作成"
   ]
  },
  {
   "cell_type": "markdown",
   "metadata": {},
   "source": [
    "クラスタ内誤差平方和（SSE, Sum of Squared Errors）を計算する関数を作成してください。  \n",
    "K-meansはこのSSEを最小化する $r_{nk}$ と $\\mu_k$ を求めることが目的となります。複数個の初期値で計算したクラスタリング結果から、どれを最終的に採用するかを決める際にこのSSEを求める関数を使用します。  \n",
    "$n$ : データ点のインデックス  \n",
    "$k$ : クラスタのインデックス  \n",
    "$X_n$ : $n$番目のデータ点  \n",
    "$\\mu_k$ : $k$番目の中心点  \n",
    "$r_{nk}$ : データ点$X_n$がクラスタ$k$に所属していたら1、そうでなければ0"
   ]
  },
  {
   "cell_type": "markdown",
   "metadata": {},
   "source": [
    "#### クラスタの割り当てと中心点の移動を繰り返す  \n",
    "K-meansの学習の基本は以下の2つのフェーズを繰り返すことです。  \n",
    "中心点 $\\mu_k$ を固定した上で $SSE$ を最小化する クラスタの割り当て $r_{nk}$ を選ぶ。  \n",
    "クラスタの割り当て $r_{nk}$ を固定した上で $SSE$ を最小化する 中心点 $\\mu_k$ を選ぶ。  \n",
    "最初の中心点 $\\mu_k$ は問題1で作成した初期値です。  \n",
    "順番に見ていきます。  "
   ]
  },
  {
   "cell_type": "code",
   "execution_count": 10,
   "metadata": {},
   "outputs": [],
   "source": [
    "def calc_SSE(X, centers):\n",
    "    \n",
    "    sses = np.zeros((X.shape[0], centers.shape[0]))\n",
    "    \n",
    "    for c_row in range(centers.shape[0]):\n",
    "                sses[:, c_row] = np.linalg.norm(X - centers[c_row])**2\n",
    "    \n",
    "    sse = np.min(sses, axis=1).sum()\n",
    "    \n",
    "    return sse"
   ]
  },
  {
   "cell_type": "code",
   "execution_count": 11,
   "metadata": {},
   "outputs": [
    {
     "data": {
      "text/plain": [
       "87425.81210239117"
      ]
     },
     "execution_count": 11,
     "metadata": {},
     "output_type": "execute_result"
    }
   ],
   "source": [
    "sse = calc_SSE(X, centers)\n",
    "sse"
   ]
  },
  {
   "cell_type": "markdown",
   "metadata": {},
   "source": [
    "# 【問題3】クラスタへの割り当て"
   ]
  },
  {
   "cell_type": "markdown",
   "metadata": {},
   "source": [
    "全てのデータ点 $X_n$ を最も近い中心点 $\\mu_k$ に割り当てるコードを作成してください。  \n",
    "K-menasにおける 近い とは点と点のユークリッド距離が小さくなることです。ユークリッド距離とはピタゴラスの定理（三平方の定理）で求められるものですが、ベクトル $p,q$ に対しては以下の数式で表現できます。  \n",
    "NumPyにはこの関数がnp.linalg.normとして用意されているため使用してください。  \n",
    "numpy.linalg.norm — NumPy v1.17 Manual  \n",
    "中心点 $\\mu_k$ を固定した上でSSEを最小化していることになりますが、SSE自体を求める必要はありません。  "
   ]
  },
  {
   "cell_type": "code",
   "execution_count": 12,
   "metadata": {},
   "outputs": [],
   "source": [
    "def allocate_cluster(X, centers):\n",
    "        \n",
    "    clusters = np.zeros(X.shape[0])\n",
    "    \n",
    "    for X_row in range(X.shape[0]):\n",
    "        distance = None\n",
    "        \n",
    "        for centers_row in range(centers.shape[0]):\n",
    "            \n",
    "            if distance is None:\n",
    "                distance = np.linalg.norm(X[X_row] - centers[centers_row])\n",
    "                \n",
    "            elif distance > np.linalg.norm(X[X_row] - centers[centers_row]):\n",
    "                distance = np.linalg.norm(X[X_row] - centers[centers_row])\n",
    "                clusters[X_row] = centers_row\n",
    "                \n",
    "    return clusters\n",
    "    "
   ]
  },
  {
   "cell_type": "code",
   "execution_count": 13,
   "metadata": {},
   "outputs": [],
   "source": [
    "clusters = allocate_cluster(X, centers)"
   ]
  },
  {
   "cell_type": "code",
   "execution_count": 14,
   "metadata": {},
   "outputs": [
    {
     "data": {
      "text/plain": [
       "array([0., 2., 0., 0., 0., 1., 3., 2., 1., 2., 2., 2., 2., 2., 2., 0., 0.,\n",
       "       1., 3., 0., 0., 2., 3., 0., 1., 3., 1., 1., 0., 0., 0., 2., 0., 0.,\n",
       "       3., 0., 2., 0., 2., 3., 0., 3., 2., 3., 3., 2., 0., 3., 1., 1., 1.,\n",
       "       0., 3., 3., 3., 2., 2., 0., 0., 2., 2., 0., 0., 0., 0., 2., 3., 3.,\n",
       "       0., 0., 2., 0., 0., 2., 0., 0., 3., 3., 0., 0., 0., 2., 3., 1., 0.,\n",
       "       3., 0., 0., 0., 0., 0., 3., 1., 3., 3., 2., 2., 3., 2., 1.])"
      ]
     },
     "execution_count": 14,
     "metadata": {},
     "output_type": "execute_result"
    }
   ],
   "source": [
    "clusters"
   ]
  },
  {
   "cell_type": "markdown",
   "metadata": {},
   "source": [
    "# 【問題4】中心点の移動"
   ]
  },
  {
   "cell_type": "markdown",
   "metadata": {},
   "source": [
    "中心点 $\\mu_k$ を $k$ 番目のクラスタに割り当てられる全てのデータ点 $X_n$ の平均値（重心）に移動するコードを作成してください。  \n",
    "クラスタの割り当て $r_{nk}$ を固定した上でSSEを最小化していることになりますが、SSE自体を求める必要はありません。  "
   ]
  },
  {
   "cell_type": "code",
   "execution_count": 15,
   "metadata": {},
   "outputs": [
    {
     "data": {
      "text/plain": [
       "array([[ 1.40848818,  3.93270482],\n",
       "       [ 0.16932115,  4.19741719],\n",
       "       [-1.497272  ,  8.80022604],\n",
       "       [-1.56102482,  3.77455362]])"
      ]
     },
     "execution_count": 15,
     "metadata": {},
     "output_type": "execute_result"
    }
   ],
   "source": [
    "centers"
   ]
  },
  {
   "cell_type": "code",
   "execution_count": 16,
   "metadata": {},
   "outputs": [],
   "source": [
    "def move_center(X, clusters, centers):\n",
    "    \n",
    "    for centers_row in range(centers.shape[0]):\n",
    "        Xi = X[clusters == centers_row]\n",
    "        centers[centers_row] = np.sum(Xi, axis=0) / Xi.shape[0]\n",
    "    \n",
    "    return centers"
   ]
  },
  {
   "cell_type": "code",
   "execution_count": 17,
   "metadata": {},
   "outputs": [
    {
     "data": {
      "text/plain": [
       "array([[ 1.71949904,  2.23589351],\n",
       "       [ 0.27171761,  4.15597808],\n",
       "       [-1.26811733,  7.76378266],\n",
       "       [-1.56883283,  3.08178097]])"
      ]
     },
     "execution_count": 17,
     "metadata": {},
     "output_type": "execute_result"
    }
   ],
   "source": [
    "centers = move_center(X, clusters, centers)\n",
    "centers"
   ]
  },
  {
   "cell_type": "markdown",
   "metadata": {},
   "source": [
    "# 【問題5】繰り返し"
   ]
  },
  {
   "cell_type": "markdown",
   "metadata": {},
   "source": [
    "クラスタへの割り当てと中心点の移動を繰り返すことで学習を行うコードを作成してください。  \n",
    "次のどれかの条件を満たしたらこれを止めます。  \n",
    "繰り返しが指定した回数に到達する。（雛形では引数max_iter）  \n",
    "中心点 $\\mu_k$ と重心の差の合計が指定した許容値以下になる。（雛形では引数tol）  "
   ]
  },
  {
   "cell_type": "markdown",
   "metadata": {},
   "source": [
    "## 繰り返しの実装\n",
    "```python \n",
    "def fit(self, X):\n",
    "    \"\"\"\n",
    "    K-meansによるクラスタリングを計算\n",
    "    Parameters\n",
    "    ----------\n",
    "    X : 次の形のndarray, shape (n_samples, n_features)\n",
    "        訓練データの特徴量\n",
    "    \"\"\"\n",
    "\n",
    "    # 中心点の初期値\n",
    "    centers  = X[np.random.choice(X.shape[0], self.n_clusters, replace=False)]\n",
    "\n",
    "    # クラスタへの割り当て\n",
    "    clusters = allocate_cluster(X, centers)\n",
    "\n",
    "    #verboseをTrueにした際は学習過程を出力\n",
    "    if self.verbose:\n",
    "        print(0)\n",
    "        print(centers)        \n",
    "\n",
    "    for i in range(self.max_iter):\n",
    "\n",
    "        # 中心点の移動（重心の計算）\n",
    "        centers  = move_center(X, clusters, centers)\n",
    "\n",
    "        # クラスタへの割り当て\n",
    "        clusters = allocate_cluster(X, centers)\n",
    "\n",
    "        #verboseをTrueにした際は学習過程を出力\n",
    "        if self.verbose:\n",
    "            print(i + 1)\n",
    "            print(centers)\n",
    "\n",
    "        current_sse = calc_SSE(X, centers)\n",
    "        if self.tol >= current_sse:\n",
    "            break \n",
    "```"
   ]
  },
  {
   "cell_type": "code",
   "execution_count": 18,
   "metadata": {},
   "outputs": [
    {
     "name": "stdout",
     "output_type": "stream",
     "text": [
      "0\n",
      "[[-0.78782636  7.99482384]\n",
      " [ 1.13280393  3.87673946]\n",
      " [-1.7653772   8.17625727]\n",
      " [-0.8623605   8.24721209]]\n",
      "1\n",
      "[[-0.98394693  7.50548802]\n",
      " [ 0.47943223  2.80251253]\n",
      " [-1.67800329  7.84380485]\n",
      " [-0.57580809  8.30467599]]\n",
      "2\n",
      "[[-0.98443321  7.10690585]\n",
      " [ 0.48424706  2.76904412]\n",
      " [-1.68781587  7.94562725]\n",
      " [-0.6338983   8.18055663]]\n",
      "3\n",
      "[[-1.09250364  6.94480117]\n",
      " [ 0.48424706  2.76904412]\n",
      " [-1.68176111  8.03388253]\n",
      " [-0.70423633  8.07595794]]\n",
      "4\n",
      "[[-1.12658653  6.87415791]\n",
      " [ 0.48424706  2.76904412]\n",
      " [-1.68176111  8.03388253]\n",
      " [-0.71868685  8.0052066 ]]\n",
      "5\n",
      "[[-1.12658653  6.87415791]\n",
      " [ 0.48424706  2.76904412]\n",
      " [-1.68176111  8.03388253]\n",
      " [-0.71868685  8.0052066 ]]\n"
     ]
    }
   ],
   "source": [
    "km0 = ScratchKMeans(n_clusters=4, n_init=1, max_iter=5, tol=0.0001, verbose=True)\n",
    "km0.fit(X)"
   ]
  },
  {
   "cell_type": "markdown",
   "metadata": {},
   "source": [
    "# 【問題6】異なる初期値で計算"
   ]
  },
  {
   "cell_type": "markdown",
   "metadata": {},
   "source": [
    "問題5の繰り返しを、指定した回数初期値を変更して計算するコードを作成してください。回数は雛形では引数n_initで指定します。  \n",
    "複数計算した中でSSEが最小になったものが最終的な学習結果となるため、その時の中心点 $\\mu_k$ を保持しておきます。  "
   ]
  },
  {
   "cell_type": "markdown",
   "metadata": {},
   "source": [
    "## 異なる初期値で計算\n",
    "```python \n",
    "def fit(self, X):\n",
    "    \"\"\"\n",
    "    K-meansによるクラスタリングを計算\n",
    "    Parameters\n",
    "    ----------\n",
    "    X : 次の形のndarray, shape (n_samples, n_features)\n",
    "        訓練データの特徴量\n",
    "    \"\"\"\n",
    "\n",
    "    # 中心点の初期値を何回変えて計算\n",
    "    for n_init in range(self.n_init):\n",
    "\n",
    "        # 中心点の初期値\n",
    "        centers  = X[np.random.choice(X.shape[0], self.n_clusters, replace=False)]\n",
    "\n",
    "        # クラスタへの割り当て\n",
    "        clusters = allocate_cluster(X, centers)\n",
    "\n",
    "        #verboseをTrueにした際は学習過程を出力\n",
    "        if self.verbose:\n",
    "            print(0)\n",
    "            print(centers)        \n",
    "\n",
    "        for i in range(self.max_iter):\n",
    "\n",
    "            # 中心点の移動（重心の計算）\n",
    "            centers  = move_center(X, clusters, centers)\n",
    "\n",
    "            # クラスタへの割り当て\n",
    "            clusters = allocate_cluster(X, centers)\n",
    "\n",
    "            #verboseをTrueにした際は学習過程を出力\n",
    "            if self.verbose:\n",
    "                print(i + 1)\n",
    "                print(centers)\n",
    "\n",
    "            current_sse = calc_SSE(X, centers)\n",
    "            if self.tol >= current_sse:\n",
    "                break\n",
    "\n",
    "        if self.centers is None:\n",
    "            self.centers = centers\n",
    "            self.sse = current_sse\n",
    "        elif self.sse >= current_sse:\n",
    "            self.centers = centers\n",
    "            self.sse = current_sse\n",
    "```"
   ]
  },
  {
   "cell_type": "code",
   "execution_count": 19,
   "metadata": {},
   "outputs": [
    {
     "name": "stdout",
     "output_type": "stream",
     "text": [
      "0\n",
      "[[-1.33869125  2.36818187]\n",
      " [ 2.06051753  1.79059891]\n",
      " [-1.87418794  2.84306499]\n",
      " [ 1.4726926   1.3480769 ]]\n",
      "1\n",
      "[[-0.49721306  3.29080179]\n",
      " [ 1.55605228  3.37271107]\n",
      " [-1.39234555  5.95713239]\n",
      " [ 1.80170393  0.8449765 ]]\n",
      "2\n",
      "[[-1.25217095  3.27736375]\n",
      " [ 1.11752572  4.28627241]\n",
      " [-1.21460762  7.66822082]\n",
      " [ 1.99186903  0.96561071]]\n",
      "3\n",
      "[[-1.47935679  3.11716896]\n",
      " [ 0.92578447  4.32475792]\n",
      " [-1.26811733  7.76378266]\n",
      " [ 1.99186903  0.96561071]]\n",
      "0\n",
      "[[ 1.24016835  1.12905479]\n",
      " [-1.26041884  7.46644456]\n",
      " [ 1.89949126  0.92574633]\n",
      " [ 1.42002502  1.38236201]]\n",
      "1\n",
      "[[-1.48467917  2.73950363]\n",
      " [-1.11702754  7.03805554]\n",
      " [ 2.15339145  0.76038473]\n",
      " [ 0.73509371  3.57488958]]\n",
      "2\n",
      "[[-1.52702451  3.10579592]\n",
      " [-1.26811733  7.76378266]\n",
      " [ 1.99186903  0.96561071]\n",
      " [ 0.87728     4.28881038]]\n",
      "3\n",
      "[[-1.47935679  3.11716896]\n",
      " [-1.26811733  7.76378266]\n",
      " [ 1.99186903  0.96561071]\n",
      " [ 0.92578447  4.32475792]]\n"
     ]
    }
   ],
   "source": [
    "km1 = ScratchKMeans(n_clusters=4, n_init=2, max_iter=3, tol=0.0001, verbose=True)\n",
    "km1.fit(X)"
   ]
  },
  {
   "cell_type": "markdown",
   "metadata": {},
   "source": [
    "# 【問題7】推定"
   ]
  },
  {
   "cell_type": "markdown",
   "metadata": {},
   "source": [
    "新たなデータに対してどのクラスタに所属するかの推定の際は、学習時の1つ目のフェーズと同じことを行います。  \n",
    "データ点 $X_n$ と学習で決まった中心点 $\\mu_k$ に対し、 $SSE$ を最小化する $r_{nk}$ を選ぶ。  \n",
    "具体的には次のことです。  \n",
    "データ点 $X_n$ を最も近い $\\mu_k$ に割り当てる。  "
   ]
  },
  {
   "cell_type": "code",
   "execution_count": 20,
   "metadata": {},
   "outputs": [
    {
     "data": {
      "text/plain": [
       "array([1., 2., 1., 1., 1., 1., 3., 2., 1., 2., 2., 2., 2., 2., 2., 0., 0.,\n",
       "       1., 3., 0., 0., 2., 3., 0., 1., 3., 1., 1., 0., 0., 0., 2., 0., 0.,\n",
       "       3., 1., 2., 0., 2., 3., 1., 3., 2., 3., 3., 2., 0., 3., 1., 1., 1.,\n",
       "       0., 3., 3., 3., 2., 2., 0., 0., 2., 2., 0., 0., 1., 0., 2., 3., 3.,\n",
       "       0., 1., 2., 0., 1., 2., 1., 1., 3., 3., 0., 0., 0., 2., 3., 1., 0.,\n",
       "       3., 0., 0., 1., 1., 1., 3., 1., 3., 3., 2., 2., 3., 2., 1.])"
      ]
     },
     "execution_count": 20,
     "metadata": {},
     "output_type": "execute_result"
    }
   ],
   "source": [
    "km2 = ScratchKMeans(n_clusters=4, n_init=4, max_iter=5, tol=0.0001, verbose=False)\n",
    "km2.fit(X)\n",
    "y_pred = km2.predict(X)\n",
    "y_pred"
   ]
  },
  {
   "cell_type": "markdown",
   "metadata": {},
   "source": [
    "# 【問題8】エルボー法の実装"
   ]
  },
  {
   "cell_type": "markdown",
   "metadata": {},
   "source": [
    "K-meansにおいて中心点の個数 $k$ は人為的に決める必要がありますが、その判断方法としてエルボー法があります。エルボー法により中心点の個数 $k$ を検討するためのコードを作成してください。  \n",
    "SSEを縦軸、クラスタ数 $k$ を横軸にした折れ線グラフを表示します。このためにK-meansのインスタンスからはSSEを取得できるようにしてください。  "
   ]
  },
  {
   "cell_type": "code",
   "execution_count": 54,
   "metadata": {},
   "outputs": [],
   "source": [
    "sse = np.zeros(8)\n",
    "for n in range(1, 9):\n",
    "    km = ScratchKMeans(n_clusters=n, n_init=4, max_iter=20, tol=0.000007, verbose=False)\n",
    "    km.fit(X)\n",
    "    sse[n-1]=km.sse"
   ]
  },
  {
   "cell_type": "code",
   "execution_count": 55,
   "metadata": {},
   "outputs": [
    {
     "data": {
      "text/plain": [
       "(8,)"
      ]
     },
     "execution_count": 55,
     "metadata": {},
     "output_type": "execute_result"
    }
   ],
   "source": [
    "sse.shape"
   ]
  },
  {
   "cell_type": "code",
   "execution_count": 56,
   "metadata": {},
   "outputs": [
    {
     "data": {
      "image/png": "[encoded data removed]",
      "text/plain": [
       "<Figure size 432x288 with 1 Axes>"
      ]
     },
     "metadata": {
      "needs_background": "light"
     },
     "output_type": "display_data"
    }
   ],
   "source": [
    "plt.plot(range(1,9),sse,marker='o')\n",
    "plt.xlabel('Number of clusters')\n",
    "plt.ylabel('SSE')\n",
    "plt.show()"
   ]
  },
  {
   "cell_type": "markdown",
   "metadata": {},
   "source": [
    "# 【問題9】（アドバンス課題）シルエット図"
   ]
  },
  {
   "cell_type": "markdown",
   "metadata": {},
   "source": [
    "$k$ を決める助けになるものとしてシルエット図もあります。シルエット図を表示するコードを作成してください。  \n",
    "Matplotlibを使い図を表示するコードは用意しました。以下を与えてください。  \n",
    "silhouette_vals : shape(n_samples,)のndarray、各データ点のシルエット係数  \n",
    "silhouette_avg : float、シルエット係数の平均値  \n",
    "y_km : shape(n_samples,)のndarray、各データ点のクラスタラベル名  \n",
    "cluster_labels : list、クラスタのラベル名のリスト  \n",
    "n_clusters : int、クラスタ数  \n",
    "$n$ 番目のデータ点に対するシルエット係数 $s_n$ は以下の数式でを求められます。この数式を実装し、シルエット図を確認してください。  \n",
    "$a_n$ : 凝集度。同じクラスタ内の他のデータ点との距離の平均値。  \n",
    "$b_n$ : 乖離度。最も近い他のクラスタ内の全てのデータ点との距離の平均値。  \n",
    "乖離度 $b$ が大きく、凝集度 $a$ が小さい時が理想的であり、シルエット係数 $s$ は1に近くなります。  \n",
    "《シルエット図を表示するためのコード》  "
   ]
  },
  {
   "cell_type": "markdown",
   "metadata": {},
   "source": [
    "import math\n",
    "def silhouette_coefficient(clusters, df):\n",
    "    a_same = []\n",
    "    b_diff = []\n",
    "    for i, j in enumerate(clusters):\n",
    "        vec1 = df.iloc[i, :].values\n",
    "        for k, l in enumerate(clusters):\n",
    "            if i < k:\n",
    "                vec2 = df.iloc[k, :].values\n",
    "                dist = 0.\n",
    "                for v1, v2 in zip(vec1, vec2):\n",
    "                    dist += (v1 - v2) ** 2\n",
    "                dist = math.sqrt(dist)\n",
    "                if j == l: # same cluster\n",
    "                    a_same.append(dist)\n",
    "                else: # different cluster\n",
    "                    b_diff.append(dist)\n",
    "    a = sum(a_same) / len(a_same)\n",
    "    b = sum(b_diff) / len(b_diff)\n",
    "    return (b - a) / max(b, a)"
   ]
  },
  {
   "cell_type": "markdown",
   "metadata": {},
   "source": [
    "# 【問題10】クラスタ数kの選択"
   ]
  },
  {
   "cell_type": "markdown",
   "metadata": {},
   "source": [
    "最適だと思われるクラスタ数 $k$ を選択してください。エルボー法やシルエット図を活用する他、人間が後々どう利用したいのかも選択に関わってきます。選択した上で、なぜそれを選んだか説明してください。"
   ]
  },
  {
   "cell_type": "code",
   "execution_count": 24,
   "metadata": {},
   "outputs": [
    {
     "data": {
      "text/html": [
       "<div>\n",
       "<style scoped>\n",
       "    .dataframe tbody tr th:only-of-type {\n",
       "        vertical-align: middle;\n",
       "    }\n",
       "\n",
       "    .dataframe tbody tr th {\n",
       "        vertical-align: top;\n",
       "    }\n",
       "\n",
       "    .dataframe thead th {\n",
       "        text-align: right;\n",
       "    }\n",
       "</style>\n",
       "<table border=\"1\" class=\"dataframe\">\n",
       "  <thead>\n",
       "    <tr style=\"text-align: right;\">\n",
       "      <th></th>\n",
       "      <th>Channel</th>\n",
       "      <th>Region</th>\n",
       "      <th>Fresh</th>\n",
       "      <th>Milk</th>\n",
       "      <th>Grocery</th>\n",
       "      <th>Frozen</th>\n",
       "      <th>Detergents_Paper</th>\n",
       "      <th>Delicassen</th>\n",
       "    </tr>\n",
       "  </thead>\n",
       "  <tbody>\n",
       "    <tr>\n",
       "      <th>0</th>\n",
       "      <td>2</td>\n",
       "      <td>3</td>\n",
       "      <td>12669</td>\n",
       "      <td>9656</td>\n",
       "      <td>7561</td>\n",
       "      <td>214</td>\n",
       "      <td>2674</td>\n",
       "      <td>1338</td>\n",
       "    </tr>\n",
       "    <tr>\n",
       "      <th>1</th>\n",
       "      <td>2</td>\n",
       "      <td>3</td>\n",
       "      <td>7057</td>\n",
       "      <td>9810</td>\n",
       "      <td>9568</td>\n",
       "      <td>1762</td>\n",
       "      <td>3293</td>\n",
       "      <td>1776</td>\n",
       "    </tr>\n",
       "    <tr>\n",
       "      <th>2</th>\n",
       "      <td>2</td>\n",
       "      <td>3</td>\n",
       "      <td>6353</td>\n",
       "      <td>8808</td>\n",
       "      <td>7684</td>\n",
       "      <td>2405</td>\n",
       "      <td>3516</td>\n",
       "      <td>7844</td>\n",
       "    </tr>\n",
       "    <tr>\n",
       "      <th>3</th>\n",
       "      <td>1</td>\n",
       "      <td>3</td>\n",
       "      <td>13265</td>\n",
       "      <td>1196</td>\n",
       "      <td>4221</td>\n",
       "      <td>6404</td>\n",
       "      <td>507</td>\n",
       "      <td>1788</td>\n",
       "    </tr>\n",
       "    <tr>\n",
       "      <th>4</th>\n",
       "      <td>2</td>\n",
       "      <td>3</td>\n",
       "      <td>22615</td>\n",
       "      <td>5410</td>\n",
       "      <td>7198</td>\n",
       "      <td>3915</td>\n",
       "      <td>1777</td>\n",
       "      <td>5185</td>\n",
       "    </tr>\n",
       "  </tbody>\n",
       "</table>\n",
       "</div>"
      ],
      "text/plain": [
       "   Channel  Region  Fresh  Milk  Grocery  Frozen  Detergents_Paper  Delicassen\n",
       "0        2       3  12669  9656     7561     214              2674        1338\n",
       "1        2       3   7057  9810     9568    1762              3293        1776\n",
       "2        2       3   6353  8808     7684    2405              3516        7844\n",
       "3        1       3  13265  1196     4221    6404               507        1788\n",
       "4        2       3  22615  5410     7198    3915              1777        5185"
      ]
     },
     "execution_count": 24,
     "metadata": {},
     "output_type": "execute_result"
    }
   ],
   "source": [
    "# trainデータを読み込む\n",
    "data = pd.read_csv('Wholesale customers data.csv')\n",
    "data.head()"
   ]
  },
  {
   "cell_type": "code",
   "execution_count": 25,
   "metadata": {},
   "outputs": [
    {
     "ename": "NameError",
     "evalue": "name 'df' is not defined",
     "output_type": "error",
     "traceback": [
      "\u001b[0;31m---------------------------------------------------------------------------\u001b[0m",
      "\u001b[0;31mNameError\u001b[0m                                 Traceback (most recent call last)",
      "\u001b[0;32m<ipython-input-25-ea9c4d13d64d>\u001b[0m in \u001b[0;36m<module>\u001b[0;34m\u001b[0m\n\u001b[0;32m----> 1\u001b[0;31m \u001b[0mdata\u001b[0m \u001b[0;34m=\u001b[0m \u001b[0mdf\u001b[0m\u001b[0;34m[\u001b[0m\u001b[0;34m[\u001b[0m\u001b[0;34m'Fresh'\u001b[0m\u001b[0;34m,\u001b[0m \u001b[0;34m'Milk'\u001b[0m\u001b[0;34m,\u001b[0m \u001b[0;34m'Grocery'\u001b[0m\u001b[0;34m,\u001b[0m \u001b[0;34m'Frozen'\u001b[0m\u001b[0;34m,\u001b[0m \u001b[0;34m'Detergents_Paper'\u001b[0m\u001b[0;34m,\u001b[0m \u001b[0;34m'Delicassen'\u001b[0m\u001b[0;34m]\u001b[0m\u001b[0;34m]\u001b[0m\u001b[0;34m\u001b[0m\u001b[0;34m\u001b[0m\u001b[0m\n\u001b[0m\u001b[1;32m      2\u001b[0m \u001b[0mdata\u001b[0m\u001b[0;34m.\u001b[0m\u001b[0mhead\u001b[0m\u001b[0;34m(\u001b[0m\u001b[0;34m)\u001b[0m\u001b[0;34m\u001b[0m\u001b[0;34m\u001b[0m\u001b[0m\n",
      "\u001b[0;31mNameError\u001b[0m: name 'df' is not defined"
     ]
    }
   ],
   "source": [
    "data = df[['Fresh', 'Milk', 'Grocery', 'Frozen', 'Detergents_Paper', 'Delicassen']]\n",
    "data.head()"
   ]
  },
  {
   "cell_type": "code",
   "execution_count": null,
   "metadata": {},
   "outputs": [],
   "source": [
    "from sklearn.decomposition import PCA\n",
    "import matplotlib.pyplot as plt\n",
    "pca = PCA(n_components=None)\n",
    "pca = pca.fit(data)\n",
    "var_exp = pca.explained_variance_ratio_\n",
    "cum_var_exp = np.cumsum(var_exp)\n",
    "print(cum_var_exp)\n",
    "plt.bar(range(1,7), var_exp, alpha=0.5, align='center', label='individual explained variance')\n",
    "plt.step(range(1,7), cum_var_exp, where='mid', label='cumulative expalined variance')\n",
    "plt.ylabel('Explained variance ratio')\n",
    "plt.xlabel('Principal components')\n",
    "plt.hlines(0.7, 0, 6,  \"blue\", linestyles='dashed')\n",
    "plt.legend(loc='best')\n",
    "plt.grid()\n",
    "plt.show()"
   ]
  },
  {
   "cell_type": "code",
   "execution_count": null,
   "metadata": {},
   "outputs": [],
   "source": []
  },
  {
   "cell_type": "markdown",
   "metadata": {},
   "source": [
    "# 【問題11】既知のグループとの比較"
   ]
  },
  {
   "cell_type": "markdown",
   "metadata": {},
   "source": [
    "RegionとChannelはK-meansに使用しなかったが、これれらは既知のグループです。クラスタとこれら既知のグループがどう違うかを確認し、説明してください。まずはそれぞれを可視化してください。"
   ]
  },
  {
   "cell_type": "code",
   "execution_count": null,
   "metadata": {},
   "outputs": [],
   "source": []
  },
  {
   "cell_type": "markdown",
   "metadata": {},
   "source": [
    "# 【問題12】卸売業者にとって有益な情報"
   ]
  },
  {
   "cell_type": "markdown",
   "metadata": {},
   "source": [
    "卸売業者にとって有益な情報を探し出し文章にまとめてください。  \n",
    "《ヒント》  \n",
    "前処理を行う前のデータを使い、各クラスタの要約統計量を見るなどしてみましょう。また、PCAで次元削減したデータに対してK-meansを使用しましたが、6個の特徴量をそのまま使ったり、一部の特徴量のみを使ったりということも試してみてください。既知のグループとの比較結果も参考にしてください。  \n",
    "条件ごとにデータを見る際にはPandasのgroupbyが便利です。  "
   ]
  }
 ],
 "metadata": {
  "kernelspec": {
   "display_name": "Python 3",
   "language": "python",
   "name": "python3"
  },
  "language_info": {
   "codemirror_mode": {
    "name": "ipython",
    "version": 3
   },
   "file_extension": ".py",
   "mimetype": "text/x-python",
   "name": "python",
   "nbconvert_exporter": "python",
   "pygments_lexer": "ipython3",
   "version": "3.7.7"
  }
 },
 "nbformat": 4,
 "nbformat_minor": 2
}
