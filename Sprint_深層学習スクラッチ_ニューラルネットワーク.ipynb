{
 "cells": [
  {
   "cell_type": "code",
   "execution_count": 1,
   "metadata": {},
   "outputs": [],
   "source": [
    "import numpy as np\n",
    "import pandas as pd\n",
    "import matplotlib.pyplot as plt\n",
    "%matplotlib inline"
   ]
  },
  {
   "cell_type": "markdown",
   "metadata": {},
   "source": [
    "## MNISTデータセット"
   ]
  },
  {
   "cell_type": "code",
   "execution_count": 2,
   "metadata": {},
   "outputs": [
    {
     "name": "stderr",
     "output_type": "stream",
     "text": [
      "Using TensorFlow backend.\n"
     ]
    }
   ],
   "source": [
    "import keras\n",
    "from keras.datasets import mnist\n",
    "(X_train, y_train), (X_test, y_test) = mnist.load_data()"
   ]
  },
  {
   "cell_type": "markdown",
   "metadata": {},
   "source": [
    "## データセットの確認"
   ]
  },
  {
   "cell_type": "code",
   "execution_count": 3,
   "metadata": {},
   "outputs": [
    {
     "name": "stdout",
     "output_type": "stream",
     "text": [
      "(60000, 28, 28)\n",
      "(10000, 28, 28)\n",
      "uint8\n",
      "[[  0   0   0   0   0   0   0   0   0   0   0   0   0   0   0   0   0   0\n",
      "    0   0   0   0   0   0   0   0   0   0]\n",
      " [  0   0   0   0   0   0   0   0   0   0   0   0   0   0   0   0   0   0\n",
      "    0   0   0   0   0   0   0   0   0   0]\n",
      " [  0   0   0   0   0   0   0   0   0   0   0   0   0   0   0   0   0   0\n",
      "    0   0   0   0   0   0   0   0   0   0]\n",
      " [  0   0   0   0   0   0   0   0   0   0   0   0   0   0   0   0   0   0\n",
      "    0   0   0   0   0   0   0   0   0   0]\n",
      " [  0   0   0   0   0   0   0   0   0   0   0   0   0   0   0   0   0   0\n",
      "    0   0   0   0   0   0   0   0   0   0]\n",
      " [  0   0   0   0   0   0   0   0   0   0   0   0   3  18  18  18 126 136\n",
      "  175  26 166 255 247 127   0   0   0   0]\n",
      " [  0   0   0   0   0   0   0   0  30  36  94 154 170 253 253 253 253 253\n",
      "  225 172 253 242 195  64   0   0   0   0]\n",
      " [  0   0   0   0   0   0   0  49 238 253 253 253 253 253 253 253 253 251\n",
      "   93  82  82  56  39   0   0   0   0   0]\n",
      " [  0   0   0   0   0   0   0  18 219 253 253 253 253 253 198 182 247 241\n",
      "    0   0   0   0   0   0   0   0   0   0]\n",
      " [  0   0   0   0   0   0   0   0  80 156 107 253 253 205  11   0  43 154\n",
      "    0   0   0   0   0   0   0   0   0   0]\n",
      " [  0   0   0   0   0   0   0   0   0  14   1 154 253  90   0   0   0   0\n",
      "    0   0   0   0   0   0   0   0   0   0]\n",
      " [  0   0   0   0   0   0   0   0   0   0   0 139 253 190   2   0   0   0\n",
      "    0   0   0   0   0   0   0   0   0   0]\n",
      " [  0   0   0   0   0   0   0   0   0   0   0  11 190 253  70   0   0   0\n",
      "    0   0   0   0   0   0   0   0   0   0]\n",
      " [  0   0   0   0   0   0   0   0   0   0   0   0  35 241 225 160 108   1\n",
      "    0   0   0   0   0   0   0   0   0   0]\n",
      " [  0   0   0   0   0   0   0   0   0   0   0   0   0  81 240 253 253 119\n",
      "   25   0   0   0   0   0   0   0   0   0]\n",
      " [  0   0   0   0   0   0   0   0   0   0   0   0   0   0  45 186 253 253\n",
      "  150  27   0   0   0   0   0   0   0   0]\n",
      " [  0   0   0   0   0   0   0   0   0   0   0   0   0   0   0  16  93 252\n",
      "  253 187   0   0   0   0   0   0   0   0]\n",
      " [  0   0   0   0   0   0   0   0   0   0   0   0   0   0   0   0   0 249\n",
      "  253 249  64   0   0   0   0   0   0   0]\n",
      " [  0   0   0   0   0   0   0   0   0   0   0   0   0   0  46 130 183 253\n",
      "  253 207   2   0   0   0   0   0   0   0]\n",
      " [  0   0   0   0   0   0   0   0   0   0   0   0  39 148 229 253 253 253\n",
      "  250 182   0   0   0   0   0   0   0   0]\n",
      " [  0   0   0   0   0   0   0   0   0   0  24 114 221 253 253 253 253 201\n",
      "   78   0   0   0   0   0   0   0   0   0]\n",
      " [  0   0   0   0   0   0   0   0  23  66 213 253 253 253 253 198  81   2\n",
      "    0   0   0   0   0   0   0   0   0   0]\n",
      " [  0   0   0   0   0   0  18 171 219 253 253 253 253 195  80   9   0   0\n",
      "    0   0   0   0   0   0   0   0   0   0]\n",
      " [  0   0   0   0  55 172 226 253 253 253 253 244 133  11   0   0   0   0\n",
      "    0   0   0   0   0   0   0   0   0   0]\n",
      " [  0   0   0   0 136 253 253 253 212 135 132  16   0   0   0   0   0   0\n",
      "    0   0   0   0   0   0   0   0   0   0]\n",
      " [  0   0   0   0   0   0   0   0   0   0   0   0   0   0   0   0   0   0\n",
      "    0   0   0   0   0   0   0   0   0   0]\n",
      " [  0   0   0   0   0   0   0   0   0   0   0   0   0   0   0   0   0   0\n",
      "    0   0   0   0   0   0   0   0   0   0]\n",
      " [  0   0   0   0   0   0   0   0   0   0   0   0   0   0   0   0   0   0\n",
      "    0   0   0   0   0   0   0   0   0   0]]\n"
     ]
    }
   ],
   "source": [
    "print(X_train.shape) # (60000, 28, 28)\n",
    "print(X_test.shape) # (10000, 28, 28)\n",
    "print(X_train[0].dtype) # uint8\n",
    "print(X_train[0])"
   ]
  },
  {
   "cell_type": "markdown",
   "metadata": {},
   "source": [
    "## 平滑化"
   ]
  },
  {
   "cell_type": "code",
   "execution_count": 4,
   "metadata": {},
   "outputs": [],
   "source": [
    "X_train = X_train.reshape(-1, 784)\n",
    "X_test = X_test.reshape(-1, 784)"
   ]
  },
  {
   "cell_type": "markdown",
   "metadata": {},
   "source": [
    "## 画像データの可視化"
   ]
  },
  {
   "cell_type": "code",
   "execution_count": 5,
   "metadata": {},
   "outputs": [
    {
     "data": {
      "image/png": "[encoded data removed]",
      "text/plain": [
       "<Figure size 432x288 with 1 Axes>"
      ]
     },
     "metadata": {
      "needs_background": "light"
     },
     "output_type": "display_data"
    }
   ],
   "source": [
    "import matplotlib.pyplot as plt\n",
    "%matplotlib inline\n",
    "index = 0\n",
    "image = X_train[index].reshape(28,28)\n",
    "# X_train[index]: (784,)\n",
    "# image: (28, 28)\n",
    "plt.imshow(image, 'gray', vmin = 0, vmax = 255)\n",
    "plt.title('label : {}'.format(y_train[index]))\n",
    "plt.show()"
   ]
  },
  {
   "cell_type": "markdown",
   "metadata": {},
   "source": [
    "## 前処理"
   ]
  },
  {
   "cell_type": "code",
   "execution_count": 6,
   "metadata": {},
   "outputs": [
    {
     "name": "stdout",
     "output_type": "stream",
     "text": [
      "1.0\n",
      "0.0\n"
     ]
    }
   ],
   "source": [
    "# 0から1のfloat型に変換\n",
    "X_train = X_train.astype(np.float)\n",
    "X_test = X_test.astype(np.float)\n",
    "X_train /= 255\n",
    "X_test /= 255\n",
    "print(X_train.max()) # 1.0\n",
    "print(X_train.min()) # 0.0"
   ]
  },
  {
   "cell_type": "code",
   "execution_count": 7,
   "metadata": {},
   "outputs": [
    {
     "name": "stdout",
     "output_type": "stream",
     "text": [
      "(60000,)\n",
      "(60000, 10)\n",
      "float64\n"
     ]
    }
   ],
   "source": [
    "# one-hot表現 に変換\n",
    "from sklearn.preprocessing import OneHotEncoder\n",
    "enc = OneHotEncoder(handle_unknown='ignore', sparse=False)\n",
    "y_train_one_hot = enc.fit_transform(y_train[:, np.newaxis])\n",
    "y_test_one_hot = enc.transform(y_test[:, np.newaxis])\n",
    "print(y_train.shape) # (60000,)\n",
    "print(y_train_one_hot.shape) # (60000, 10)\n",
    "print(y_train_one_hot.dtype) # float64"
   ]
  },
  {
   "cell_type": "code",
   "execution_count": 8,
   "metadata": {},
   "outputs": [
    {
     "name": "stdout",
     "output_type": "stream",
     "text": [
      "(48000, 784)\n",
      "(12000, 784)\n"
     ]
    }
   ],
   "source": [
    "# 訓練データと検証データに分割\n",
    "from sklearn.model_selection import train_test_split\n",
    "X_train, X_val, y_train, y_val = train_test_split(X_train, y_train, test_size=0.2)\n",
    "print(X_train.shape) # (48000, 784)\n",
    "print(X_val.shape) # (12000, 784)"
   ]
  },
  {
   "cell_type": "markdown",
   "metadata": {},
   "source": [
    "## ニューラルネットワークスクラッチ"
   ]
  },
  {
   "cell_type": "code",
   "execution_count": 9,
   "metadata": {},
   "outputs": [],
   "source": [
    "import sklearn.preprocessing as sp\n",
    "\n",
    "class ScratchSimpleNeuralNetrowkClassifier():\n",
    "    \"\"\"\n",
    "    シンプルな三層ニューラルネットワーク分類器\n",
    "    \"\"\"\n",
    "    def __init__(self, verbose, epoch, lr, sigma, activation):\n",
    "        \n",
    "        self.verbose = verbose\n",
    "        self.lr = lr\n",
    "        self.epoch = epoch\n",
    "        self.activation = activation\n",
    "        self.n_features = 784\n",
    "        self.n_nodes1 = 400\n",
    "        self.n_nodes2 = 200\n",
    "        self.n_output = 10\n",
    "        self.batch_size = 20\n",
    "        self.sigma = sigma\n",
    "        \n",
    "        self.W1 = None\n",
    "        self.W2 = None\n",
    "        self.W3 = None\n",
    "        \n",
    "        self.B1 = None\n",
    "        self.B2 = None\n",
    "        self.B3 = None\n",
    "        \n",
    "        self.browse = True\n",
    "        \n",
    "        self.loss = []\n",
    "        self.loss_val = []\n",
    "    \n",
    "    def fit(self, X, y, X_val=None, y_val=None):\n",
    "        \n",
    "        loss_buf = []\n",
    "        loss_val_buf = []        \n",
    "        \n",
    "        # 重みの初期化\n",
    "        self.W1 = self.init_weight(self.n_features, self.n_nodes1)        \n",
    "        self.W2 = self.init_weight(self.n_nodes1, self.n_nodes2)                \n",
    "        self.W3 = self.init_weight(self.n_nodes2, self.n_output)\n",
    "        \n",
    "        # バイアスの初期化\n",
    "        self.B1 = np.zeros(self.n_nodes1)   \n",
    "        self.B2 = np.zeros(self.n_nodes2)\n",
    "        self.B3 = np.zeros(self.n_output)     \n",
    "        \n",
    "        \n",
    "        for i in np.arange(self.epoch):\n",
    "        \n",
    "            get_mini_batch = GetMiniBatch(X, y, batch_size=self.batch_size) # ミニバッチに分割\n",
    "\n",
    "            for mini_X_train, mini_y_train in get_mini_batch:\n",
    "                \n",
    "                # フォワードプロパゲーション\n",
    "                \n",
    "                A1 = mini_X_train @ self.W1 + self.B1\n",
    "                \n",
    "                if self.activation==\"sigmoid\":\n",
    "                    Z1 = self.sigmoid(A1)\n",
    "                elif self.activation==\"tanh\":\n",
    "                    Z1 = np.tanh(A1)\n",
    "                \n",
    "                A2 = Z1 @ self.W2 + self.B2\n",
    "                \n",
    "                if self.activation==\"sigmoid\":\n",
    "                    Z2 = self.sigmoid(A2)\n",
    "                elif self.activation==\"tanh\":\n",
    "                    Z2 = np.tanh(A2)\n",
    "\n",
    "                A3 = Z2 @ self.W3 + self.B3\n",
    "                Z3 = self.softmax(A3)\n",
    "                \n",
    "                # 交差エントロピー誤差\n",
    "                loss_buf.append(self.cross_entropy_error(Z3,  mini_y_train))\n",
    "                \n",
    "                if X_val is not None and y_val is not None:\n",
    "                    A1_val = X_val @ self.W1 + self.B1\n",
    "                    if self.activation==\"sigmoid\":\n",
    "                        Z1_val = self.sigmoid(A1_val)\n",
    "                    elif self.activation==\"tanh\":\n",
    "                        Z1_val = np.tanh(A1_val)\n",
    "                    A2_val = Z1_val @ self.W2 + self.B2\n",
    "                    if self.activation==\"sigmoid\":\n",
    "                        Z2_val = self.sigmoid(A2_val)\n",
    "                    elif self.activation==\"tanh\":\n",
    "                        Z2_val = np.tanh(A2_val)\n",
    "                    A3_val = Z2_val @ self.W3 + self.B3\n",
    "                    Z3_val = self.softmax(A3_val)\n",
    "                    loss_val_buf.append(self.cross_entropy_error(Z3_val,  y_val))\n",
    "                \n",
    "                # バックプロパゲーション\n",
    "                \n",
    "                # 3層目\n",
    "                dL_dA3 = Z3 - mini_y_train\n",
    "                dL_dB3 = np.sum(dL_dA3, axis=0)\n",
    "                dL_dW3 = Z2.T @ dL_dA3\n",
    "                dL_dZ2 = dL_dA3 @ self.W3.T \n",
    "                \n",
    "                # 2層目\n",
    "                if self.activation==\"sigmoid\":\n",
    "                    dL_dA2 = dL_dZ2 * (1. - self.sigmoid(A2))*self.sigmoid(A2)\n",
    "                elif self.activation==\"tanh\":\n",
    "                    dL_dA2 = dL_dZ2 * (1. - np.tanh(A2)**2)              \n",
    "                    \n",
    "                dL_dB2 = np.sum(dL_dA2, axis=0)\n",
    "                dL_dW2 = Z1.T @ dL_dA2\n",
    "                dL_dZ1 = dL_dA2 @ self.W2.T                \n",
    "                \n",
    "                # 1層目\n",
    "                if self.activation==\"sigmoid\":\n",
    "                    dL_dA1 = dL_dZ1 * (1. - self.sigmoid(A1))*self.sigmoid(A1)\n",
    "                elif self.activation==\"tanh\":\n",
    "                    dL_dA1 = dL_dZ1 * (1. - np.tanh(A1)**2)              \n",
    "                    \n",
    "                dL_dB1 = np.sum(dL_dA1, axis=0)\n",
    "                dL_dW1 = mini_X_train.T @ dL_dA1\n",
    "                \n",
    "                \n",
    "                \n",
    "                self.B3 = self.B3 - self.lr * dL_dB3\n",
    "                self.W3 = self.W3 - self.lr * dL_dW3\n",
    "                \n",
    "                self.B2 = self.B2 - self.lr * dL_dB2\n",
    "                self.W2 = self.W2 - self.lr * dL_dW2       \n",
    "                \n",
    "                self.B1 = self.B1 - self.lr * dL_dB1\n",
    "                self.W1 = self.W1 - self.lr * dL_dW1          \n",
    "                \n",
    "    \n",
    "            # 交差エントロピー誤差\n",
    "            self.loss.append(np.mean(loss_buf))\n",
    "            self.loss_val.append(np.mean(loss_val_buf))\n",
    "    \n",
    "    \n",
    "    def forward(self, X):\n",
    "    \n",
    "        self.A1 = X @ self.W1 + self.B1\n",
    "\n",
    "        if self.activation==\"sigmoid\":\n",
    "            self.Z1 = self.sigmoid(self.A1)\n",
    "        elif self.activation==\"tanh\":\n",
    "            self.Z1 = np.tanh(self.A1)\n",
    "\n",
    "        self.A2 = self.Z1 @ self.W2 + self.B2\n",
    "\n",
    "        if self.activation==\"sigmoid\":\n",
    "            self.Z2 = self.sigmoid(self.A2)\n",
    "        elif self.activation==\"tanh\":\n",
    "            self.Z2 = np.tanh(self.A2)\n",
    "\n",
    "        self.A3 = self.Z2 @ self.W3 + self.B3\n",
    "        self.Z3 = self.softmax(self.A3)    \n",
    "        \n",
    "        return self.Z3\n",
    "    \n",
    "    \n",
    "    def cross_entropy_error(self, y_pred,  y_true):\n",
    "        delta = 1e-7\n",
    "        return -np.sum(y_true * np.log(y_pred + delta)) / self.batch_size\n",
    "    \n",
    "    \n",
    "    def init_weight(self, n_input_nodes, n_output_nodes):\n",
    "        # 重みの初期化\n",
    "        w = self.sigma * np.random.randn(n_input_nodes, n_output_nodes)\n",
    "        return w\n",
    "    \n",
    "    \n",
    "    def softmax(self, X):\n",
    "        \n",
    "        #X = X - np.max(X, axis=0).reshape(1,-1)\n",
    "        y = np.exp(X) / np.sum(np.exp(X), axis=1).reshape(-1,1)\n",
    "        return y\n",
    "    \n",
    "    \n",
    "    def sigmoid(self, X):\n",
    "         return 1.0 / (1.0 + np.exp(-X))\n",
    "\n",
    "    \n",
    "    def predict(self, X):\n",
    "        \n",
    "        A1 = X @ self.W1 + self.B1\n",
    "        if self.activation==\"sigmoid\":\n",
    "            Z1 = self.sigmoid(A1)\n",
    "        elif self.activation==\"tanh\":\n",
    "            Z1 = np.tanh(A1)\n",
    "\n",
    "        A2 = Z1 @ self.W2 + self.B2\n",
    "        if self.activation==\"sigmoid\":\n",
    "            Z2 = self.sigmoid(A2)\n",
    "        elif self.activation==\"tanh\":\n",
    "            Z2 = np.tanh(A2)\n",
    "\n",
    "        A3 = Z2 @ self.W3 + self.B3\n",
    "        Z3 = self.softmax(A3) \n",
    "        \n",
    "        y_pred = np.argmax(Z3, axis=1)\n",
    "        \n",
    "        return y_pred "
   ]
  },
  {
   "cell_type": "markdown",
   "metadata": {},
   "source": [
    "## ミニバッチ処理"
   ]
  },
  {
   "cell_type": "code",
   "execution_count": 10,
   "metadata": {},
   "outputs": [],
   "source": [
    "class GetMiniBatch:\n",
    "    \"\"\"\n",
    "    ミニバッチを取得するイテレータ\n",
    "\n",
    "    Parameters\n",
    "    ----------\n",
    "    X : 次の形のndarray, shape (n_samples, n_features)\n",
    "      訓練データ\n",
    "    y : 次の形のndarray, shape (n_samples, 1)\n",
    "      正解値\n",
    "    batch_size : int\n",
    "      バッチサイズ\n",
    "    seed : int\n",
    "      NumPyの乱数のシード\n",
    "    \"\"\"\n",
    "    def __init__(self, X, y, batch_size = 20, seed=0):\n",
    "        self.batch_size = batch_size\n",
    "        np.random.seed(seed)\n",
    "        shuffle_index = np.random.permutation(np.arange(X.shape[0]))\n",
    "        self._X = X[shuffle_index]\n",
    "        self._y = y[shuffle_index]\n",
    "        self._stop = np.ceil(X.shape[0]/self.batch_size).astype(np.int)\n",
    "    def __len__(self):\n",
    "        return self._stop\n",
    "    def __getitem__(self,item):\n",
    "        p0 = item*self.batch_size\n",
    "        p1 = item*self.batch_size + self.batch_size\n",
    "        return self._X[p0:p1], self._y[p0:p1]        \n",
    "    def __iter__(self):\n",
    "        self._counter = 0\n",
    "        return self\n",
    "    def __next__(self):\n",
    "        if self._counter >= self._stop:\n",
    "            raise StopIteration()\n",
    "        p0 = self._counter*self.batch_size\n",
    "        p1 = self._counter*self.batch_size + self.batch_size\n",
    "        self._counter += 1\n",
    "        return self._X[p0:p1], self._y[p0:p1]"
   ]
  },
  {
   "cell_type": "markdown",
   "metadata": {},
   "source": [
    "# 【問題1】重みの初期値を決めるコードの作成"
   ]
  },
  {
   "cell_type": "markdown",
   "metadata": {},
   "source": [
    "ニューラルネットワークの各層の重みの初期値を決めるコードを作成してください。  \n",
    "重みの初期値は様々な方法が提案されていますが、今回はガウス分布による単純な初期化を行います。バイアスに関しても同様です。  \n",
    "以下のコードを参考にしてください。標準偏差の値sigmaはハイパーパラメータです。発展的な重みの初期化方法については次のSprintで扱います。"
   ]
  },
  {
   "cell_type": "markdown",
   "metadata": {},
   "source": [
    "## 重みの初期化\n",
    "```python \n",
    "def init_weight(self, n_input_nodes, n_output_nodes):\n",
    "    # 重みの初期化\n",
    "    w = self.sigma * np.random.randn(n_input_nodes, n_output_nodes)\n",
    "    return w\n",
    "```"
   ]
  },
  {
   "cell_type": "markdown",
   "metadata": {},
   "source": [
    "# 【問題2】フォワードプロパゲーションの実装"
   ]
  },
  {
   "cell_type": "markdown",
   "metadata": {},
   "source": [
    "三層のニューラルネットワークの フォワードプロパゲーション を作成してください。以下の説明ではノード数は1層目は400、2層目は200としますが、変更しても構いません。  \n",
    "各層の数式を以下に示します。今回はそれぞれの記号が表す配列が、実装上どのようなndarrayのshapeになるかを併記してあります。  \n",
    "  \n",
    "batch_size = 20 # バッチサイズ  \n",
    "n_features = 784 # 特徴量の数  \n",
    "n_nodes1 = 400 # 1層目のノード数  \n",
    "n_nodes2 = 200 # 2層目のノード数  \n",
    "n_output = 10 # 出力のクラス数（3層目のノード数）  \n",
    "  \n",
    "#### 「1層目」  \n",
    "  \n",
    "$A_1 = X \\cdot W_1 + B_1$  \n",
    "$X$ : 特徴量ベクトル (batch_size, n_features)  \n",
    "$W_1$ : 1層目の重み (n_features, n_nodes1)  \n",
    "$B_1$ : 1層目のバイアス (n_nodes1,)  \n",
    "$A_1$ : 出力 (batch_size, n_nodes1)  \n",
    "#### 「1層目の活性化関数」\n",
    "$Z_1 = f(A_1)$  \n",
    "$f() $: 活性化関数  \n",
    "$Z_1$ 出力 (batch_size, n_nodes1)  \n",
    "#### 「2層目」\n",
    "$A_2 = Z_1 \\cdot W_2 + B_2$  \n",
    "$W_2$ : 2層目の重み (n_nodes1, n_nodes2)  \n",
    "$B_2$ : 2層目のバイアス (n_nodes2,)  \n",
    "$A_2$ : 出力 (batch_size, n_nodes2)  \n",
    "#### 「2層目の活性化関数」\n",
    "$Z_2 = f(A_2)$  \n",
    "$f()$ : 活性化関数  \n",
    "$Z_2$ 出力 (batch_size, n_nodes2)  \n",
    "#### 「3層目（出力層）」\n",
    "$A_3 = Z_2 \\cdot W_3 + B_3$  \n",
    "$W_3$ : 3層目の重み (n_nodes2, n_output)  \n",
    "$B_3$ : 3層目のバイアス (n_output,)  \n",
    "$A_3$ : 出力 (batch_size, n_output)  \n",
    "#### 「3層目の活性化関数」\n",
    "$Z_3 = softmax(A_3)$  \n",
    "$softmax()$ : ソフトマックス関数  \n",
    "$Z_3$ 出力 (batch_size, n_output)  \n",
    "$Z_3$ は各ラベル（0〜9）に対する確率の配列である。  "
   ]
  },
  {
   "cell_type": "markdown",
   "metadata": {},
   "source": [
    "## シグモイド関数"
   ]
  },
  {
   "cell_type": "markdown",
   "metadata": {},
   "source": [
    "```python  \n",
    "def sigmoid(self, X):\n",
    "     return 1.0 / (1.0 + np.exp(-X))\n",
    "```"
   ]
  },
  {
   "cell_type": "markdown",
   "metadata": {},
   "source": [
    "## ソフトマックス関数"
   ]
  },
  {
   "cell_type": "markdown",
   "metadata": {},
   "source": [
    "```python  \n",
    "def softmax(self, X):\n",
    "    y = np.exp(X) / np.sum(np.exp(X), axis=1).reshape(-1,1)\n",
    "    return y\n",
    "```"
   ]
  },
  {
   "cell_type": "markdown",
   "metadata": {},
   "source": [
    "## フォワードプロパゲーション"
   ]
  },
  {
   "cell_type": "markdown",
   "metadata": {},
   "source": [
    "```python\n",
    "# フォワードプロパゲーション\n",
    "A1 = mini_X_train @ self.W1 + self.B1\n",
    "\n",
    "if self.activation==\"sigmoid\":\n",
    "    Z1 = self.sigmoid(A1)\n",
    "elif self.activation==\"tanh\":\n",
    "    Z1 = np.tanh(A1)\n",
    "\n",
    "A2 = Z1 @ self.W2 + self.B2\n",
    "\n",
    "if self.activation==\"sigmoid\":\n",
    "    Z2 = self.sigmoid(A2)\n",
    "elif self.activation==\"tanh\":\n",
    "    Z2 = np.tanh(A2)\n",
    "\n",
    "A3 = Z2 @ self.W3 + self.B3\n",
    "Z3 = self.softmax(A3)\n",
    "```"
   ]
  },
  {
   "cell_type": "markdown",
   "metadata": {},
   "source": [
    "# 【問題3】交差エントロピー誤差の実装"
   ]
  },
  {
   "cell_type": "markdown",
   "metadata": {},
   "source": [
    "目的関数（損失関数）を作成します。  \n",
    "多クラス分類の目的関数である交差エントロピー誤差 L は次の数式です。  \n",
    "$L = - \\frac{1}{n_b}\\sum_{j}^{n_b}\\sum_{k}^{n_c}y_{jk} log(z_{3\\_jk})$  \n",
    "$y_{ij}$ : $j$ 番目のサンプルの k 番目のクラスの正解ラベル（one-hot表現で0か1のスカラー）  \n",
    "$z_{3_ij}$ : $j$ 番目のサンプルの k 番目のクラスの確率（スカラー）  \n",
    "$n_{b}$ : バッチサイズ、batch_size  \n",
    "$n_{c}$ : クラスの数、n_output（今回のMNISTでは10）  \n",
    "サンプル1つあたりの誤差が求まります。  "
   ]
  },
  {
   "cell_type": "markdown",
   "metadata": {},
   "source": [
    "## 交差エントロピー誤差"
   ]
  },
  {
   "cell_type": "markdown",
   "metadata": {},
   "source": [
    "```python  \n",
    "def cross_entropy_error(self, y_pred,  y_true):\n",
    "    delta = 1e-7\n",
    "    return -np.sum(y_true * np.log(y_pred + delta)) / self.batch_size\n",
    "```"
   ]
  },
  {
   "cell_type": "markdown",
   "metadata": {},
   "source": [
    "# 【問題4】バックプロパゲーションの実装"
   ]
  },
  {
   "cell_type": "markdown",
   "metadata": {},
   "source": [
    "三層のニューラルネットワークのバックプロパゲーションを作成してください。確率的勾配降下法を行う部分です。  \n",
    "数式を以下に示します。  \n",
    "まず、i層目の重みとバイアスの更新式です。 W_i と B_i に対し、更新後の W_i^{\\prime} と B_i^{\\prime} は次の数式で求められます。  \n",
    "$$\n",
    "W_i^{\\prime} = W_i - \\alpha \\frac{\\partial L}{\\partial W_i} \\\\\n",
    "$$\n",
    "$$\n",
    "B_i^{\\prime} = B_i - \\alpha \\frac{\\partial L}{\\partial B_i}\n",
    "$$\n",
    "$\\alpha$ : 学習率（層ごとに変えることも可能だが、基本的には全て同じとする）  \n",
    "$\\frac{\\partial L}{\\partial W_i}$ : $W_i$ に関する損失 L の勾配  \n",
    "$\\frac{\\partial L}{\\partial B_i}$ : $B_i$ に関する損失 L の勾配  \n",
    "＊この勾配はミニバッチのサンプル数分の合計または平均を考えます。ここでは合計を計算します。  \n",
    "この更新方法はSprint3線形回帰やsprint4ロジスティック回帰における最急降下法と同様です。より効果的な更新方法が知られており、それは次のSprintで扱います。  \n",
    "勾配 $\\frac{\\partial L}{\\partial W_i}$ や $\\frac{\\partial L}{\\partial B_i}$ を求めるために、バックプロパゲーションを行います。以下の数式です。ハイパボリックタンジェント関数を使用した例を載せました。シグモイド関数の場合の数式はその後ろにあります。  \n",
    "#### 「3層目」  \n",
    "$$\n",
    "\\frac{\\partial L}{\\partial A_3} = Z_{3} - Y\\\\\n",
    "$$\n",
    "$$\n",
    "\\frac{\\partial L}{\\partial B_3} = \\sum_{j}^{n_b}\\frac{\\partial L}{\\partial A_{3\\_j}}\\\\\n",
    "$$\n",
    "$$\n",
    "\\frac{\\partial L}{\\partial W_3} = Z_{2}^{T}\\cdot \\frac{\\partial L}{\\partial A_3}\\\\\n",
    "$$\n",
    "$$\n",
    "\\frac{\\partial L}{\\partial Z_2} = \\frac{\\partial L}{\\partial A_3} \\cdot W_3^T\n",
    "$$\n",
    "$\\frac{\\partial L}{\\partial A_3}$ : $A_3$ に関する損失 L の勾配 (batch_size, n_output)  \n",
    "$\\frac{\\partial L}{\\partial A_{3_j}}$ : $j$番目のサンプルの$A_3$ に関する損失 L の勾配 (n_nodes2,)  \n",
    "$\\frac{\\partial L}{\\partial B_3}$ : $B_3$ に関する損失 L の勾配 (n_output,)  \n",
    "$\\frac{\\partial L}{\\partial W_3}$ : $W_3$ に関する損失 L の勾配 (n_nodes2, n_output)  \n",
    "$\\frac{\\partial L}{\\partial Z_2}$ : $Z_2$ に関する損失 L の勾配 (batch_size, n_nodes2)  \n",
    "$Z_{3}$ : ソフトマックス関数の出力 (batch_size, n_nodes2)  \n",
    "$Y$ : 正解ラベル (batch_size, n_output)  \n",
    "$Z_{2}$ : 2層目の活性化関数の出力 (batch_size, n_nodes2)  \n",
    "$W_3$ : 3層目の重み (n_nodes2, n_output)  \n",
    "#### 「2層目」  \n",
    "$$\n",
    "\\frac{\\partial L}{\\partial A_2} = \\frac{\\partial L}{\\partial Z_2} \\odot \\{1-tanh^2(A_{2})\\}\\\\\n",
    "$$\n",
    "$$\n",
    "\\frac{\\partial L}{\\partial B_2} = \\sum_{j}^{n_b}\\frac{\\partial L}{\\partial A_{2\\_j}}\\\\\n",
    "$$\n",
    "$$\n",
    "\\frac{\\partial L}{\\partial W_2} = Z_{1}^T \\cdot \\frac{\\partial L}{\\partial A_2}\\\\\n",
    "$$\n",
    "$$\n",
    "\\frac{\\partial L}{\\partial Z_1} = \\frac{\\partial L}{\\partial A_2} \\cdot W_2^T\n",
    "$$\n",
    "$\\frac{\\partial L}{\\partial A_2}$ : $A_2$ に関する損失 L の勾配 (batch_size, n_nodes2)  \n",
    "$\\frac{\\partial L}{\\partial A_{2_j}}$ : $j$番目のサンプルのA_2 に関する損失 L の勾配 (n_nodes2,)  \n",
    "$\\frac{\\partial L}{\\partial B_2}$ : $B_2$ に関する損失 L の勾配 (n_output,)  \n",
    "$\\frac{\\partial L}{\\partial W_2}$ : $W_2$ に関する損失 L の勾配 (n_nodes1, n_nodes2)  \n",
    "$\\frac{\\partial L}{\\partial Z_2}$ : $Z_2$ に関する損失 L の勾配 (batch_size, n_nodes2)  \n",
    "$A_2$ : 2層目の出力 (batch_size, n_nodes2)  \n",
    "$Z_{1}$ : 1層目の活性化関数の出力 (batch_size, n_nodes1)  \n",
    "$W_2$ : 2層目の重み (n_nodes1, n_nodes2)  \n",
    "#### 「1層目」  \n",
    "$$\n",
    "\\frac{\\partial L}{\\partial A_1} = \\frac{\\partial L}{\\partial Z_1} \\odot \\{1-tanh^2(A_{1})\\}\\\\\n",
    "$$\n",
    "$$\n",
    "\\frac{\\partial L}{\\partial B_1} = \\sum_{j}^{n_b}\\frac{\\partial L}{\\partial A_{1\\_j}}\\\\\n",
    "$$\n",
    "$$\n",
    "\\frac{\\partial L}{\\partial W_1} = X^T \\cdot \\frac{\\partial L}{\\partial A_1}\\\\\n",
    "$$\n",
    "$\\frac{\\partial L}{\\partial A_1}$ : $A_1$ に関する損失 L の勾配 (batch_size, n_nodes1)  \n",
    "$\\frac{\\partial L}{\\partial A_{1_j}}$ : $j$番目のサンプルのA_1 に関する損失 L の勾配 (n_nodes1,)  \n",
    "$\\frac{\\partial L}{\\partial B_1}$ : $B_1$ に関する損失 L の勾配 (n_output,)  \n",
    "$\\frac{\\partial L}{\\partial W_1}$ : $W_1$ に関する損失 L の勾配 (n_features, n_nodes1)  \n",
    "$\\frac{\\partial L}{\\partial Z_1}$ : $Z_1$ に関する損失 L の勾配 (batch_size, n_nodes1)  \n",
    "$A_1$ : 1層目の出力 (batch_size, n_nodes1)  \n",
    "$X$ : 特徴量ベクトル (batch_size, n_features)  \n",
    "$W_1$ : 1層目の重み (n_features, n_nodes1)  \n",
    "#### 《補足》  \n",
    "活性化関数にシグモイド関数を使用した場合は、次のようになります。  \n",
    "$$\n",
    "\\frac{\\partial L}{\\partial A_2} = \\frac{\\partial L}{\\partial Z_2} \\odot  \\{1-sigmoid(A_{2})\\}sigmoid(A_{2})\n",
    "$$\n",
    "$$\n",
    "\\frac{\\partial L}{\\partial A_1} = \\frac{\\partial L}{\\partial Z_1} \\odot  \\{1-sigmoid(A_{1})\\}sigmoid(A_{1})\n",
    "$$"
   ]
  },
  {
   "cell_type": "markdown",
   "metadata": {},
   "source": [
    "## バックプロパゲーション"
   ]
  },
  {
   "cell_type": "markdown",
   "metadata": {},
   "source": [
    "```python\n",
    "# バックプロパゲーション\n",
    "\n",
    "# 3層目\n",
    "dL_dA3 = Z3 - mini_y_train\n",
    "dL_dB3 = np.sum(dL_dA3, axis=0)\n",
    "dL_dW3 = Z2.T @ dL_dA3\n",
    "dL_dZ2 = dL_dA3 @ self.W3.T \n",
    "\n",
    "# 2層目\n",
    "if self.activation==\"sigmoid\":\n",
    "    dL_dA2 = dL_dZ2 * (1. - self.sigmoid(A2))*self.sigmoid(A2)\n",
    "elif self.activation==\"tanh\":\n",
    "    dL_dA2 = dL_dZ2 * (1. - np.tanh(A2)**2)              \n",
    "\n",
    "dL_dB2 = np.sum(dL_dA2, axis=0)\n",
    "dL_dW2 = Z1.T @ dL_dA2\n",
    "dL_dZ1 = dL_dA2 @ self.W2.T                \n",
    "\n",
    "# 1層目\n",
    "if self.activation==\"sigmoid\":\n",
    "    dL_dA1 = dL_dZ1 * (1. - self.sigmoid(A1))*self.sigmoid(A1)\n",
    "elif self.activation==\"tanh\":\n",
    "    dL_dA1 = dL_dZ1 * (1. - np.tanh(A1)**2)              \n",
    "\n",
    "dL_dB1 = np.sum(dL_dA1, axis=0)\n",
    "dL_dW1 = mini_X_train.T @ dL_dA1\n",
    "\n",
    "\n",
    "\n",
    "self.B3 = self.B3 - self.lr * dL_dB3\n",
    "self.W3 = self.W3 - self.lr * dL_dW3\n",
    "\n",
    "self.B2 = self.B2 - self.lr * dL_dB2\n",
    "self.W2 = self.W2 - self.lr * dL_dW2       \n",
    "\n",
    "self.B1 = self.B1 - self.lr * dL_dB1\n",
    "self.W1 = self.W1 - self.lr * dL_dW1\n",
    "```"
   ]
  },
  {
   "cell_type": "markdown",
   "metadata": {},
   "source": [
    "# 【問題5】推定"
   ]
  },
  {
   "cell_type": "markdown",
   "metadata": {},
   "source": [
    "推定を行うメソッドを作成してください。  \n",
    "フォワードプロパゲーションによって出力された10個の確率の中で、最も高いものはどれかを判定します。"
   ]
  },
  {
   "cell_type": "markdown",
   "metadata": {},
   "source": [
    "## 推定"
   ]
  },
  {
   "cell_type": "markdown",
   "metadata": {},
   "source": [
    "```python\n",
    "def predict(self, X):\n",
    "\n",
    "    A1 = X @ self.W1 + self.B1\n",
    "    if self.activation==\"sigmoid\":\n",
    "        Z1 = self.sigmoid(A1)\n",
    "    elif self.activation==\"tanh\":\n",
    "        Z1 = np.tanh(A1)\n",
    "\n",
    "    A2 = Z1 @ self.W2 + self.B2\n",
    "    if self.activation==\"sigmoid\":\n",
    "        Z2 = self.sigmoid(A2)\n",
    "    elif self.activation==\"tanh\":\n",
    "        Z2 = np.tanh(A2)\n",
    "\n",
    "    A3 = Z2 @ self.W3 + self.B3\n",
    "    Z3 = self.softmax(A3) \n",
    "\n",
    "    y_pred = np.argmax(Z3, axis=1)\n",
    "\n",
    "    return y_pred \n",
    "```"
   ]
  },
  {
   "cell_type": "markdown",
   "metadata": {},
   "source": [
    "# 【問題6】学習と推定"
   ]
  },
  {
   "cell_type": "markdown",
   "metadata": {},
   "source": [
    "MNISTのデータを学習・推定し、Accuracyを計算してください。"
   ]
  },
  {
   "cell_type": "code",
   "execution_count": 11,
   "metadata": {},
   "outputs": [
    {
     "name": "stdout",
     "output_type": "stream",
     "text": [
      "(48000, 784)\n",
      "(48000, 10)\n"
     ]
    }
   ],
   "source": [
    "y_train_one_hot = enc.fit_transform(y_train[:, np.newaxis])\n",
    "y_val_one_hot = enc.fit_transform(y_val[:, np.newaxis])\n",
    "print(X_train.shape)\n",
    "print(y_train_one_hot.shape)"
   ]
  },
  {
   "cell_type": "code",
   "execution_count": 12,
   "metadata": {},
   "outputs": [],
   "source": [
    "clf = ScratchSimpleNeuralNetrowkClassifier(False, 5, 0.01, 0.1, 'sigmoid')"
   ]
  },
  {
   "cell_type": "code",
   "execution_count": 13,
   "metadata": {
    "scrolled": false
   },
   "outputs": [],
   "source": [
    "clf.fit(X_train, y_train_one_hot, X_val, y_val_one_hot)"
   ]
  },
  {
   "cell_type": "code",
   "execution_count": 14,
   "metadata": {},
   "outputs": [],
   "source": [
    "y_pred = clf.predict(X_val)"
   ]
  },
  {
   "cell_type": "code",
   "execution_count": 15,
   "metadata": {},
   "outputs": [
    {
     "data": {
      "text/plain": [
       "0.9608333333333333"
      ]
     },
     "execution_count": 15,
     "metadata": {},
     "output_type": "execute_result"
    }
   ],
   "source": [
    "from sklearn.metrics import accuracy_score\n",
    "accuracy_score(y_val, y_pred)"
   ]
  },
  {
   "cell_type": "markdown",
   "metadata": {},
   "source": [
    "# 【問題7】学習曲線のプロット"
   ]
  },
  {
   "cell_type": "markdown",
   "metadata": {},
   "source": [
    "学習曲線をプロットしてください。  \n",
    "ニューラルネットワークは過学習が発生しやすいため、学習曲線の確認が重要です。訓練データと検証データに対するエポックごとの損失（交差エントロピー誤差）を記録できるようにする必要があります。"
   ]
  },
  {
   "cell_type": "code",
   "execution_count": 16,
   "metadata": {
    "scrolled": false
   },
   "outputs": [
    {
     "data": {
      "text/plain": [
       "<matplotlib.legend.Legend at 0x1a5f712390>"
      ]
     },
     "execution_count": 16,
     "metadata": {},
     "output_type": "execute_result"
    },
    {
     "data": {
      "image/png": "[encoded data removed]",
      "text/plain": [
       "<Figure size 1000x500 with 1 Axes>"
      ]
     },
     "metadata": {
      "needs_background": "light"
     },
     "output_type": "display_data"
    }
   ],
   "source": [
    "plt.figure(figsize=(10,5), dpi=100)\n",
    "plt.plot(range(1,6), clf.loss, label='loss')\n",
    "plt.plot(range(1,6), clf.loss_val, label='val_loss')\n",
    "plt.legend()"
   ]
  },
  {
   "cell_type": "markdown",
   "metadata": {},
   "source": [
    "# 【問題8】（アドバンス課題）誤分類の確認"
   ]
  },
  {
   "cell_type": "markdown",
   "metadata": {},
   "source": [
    "誤分類した画像はどのようなものだったかを確認してください。推定値を用意し、以下のコードを実行してください。"
   ]
  },
  {
   "cell_type": "code",
   "execution_count": 17,
   "metadata": {},
   "outputs": [
    {
     "data": {
      "image/png": "[encoded data removed]",
      "text/plain": [
       "<Figure size 432x432 with 36 Axes>"
      ]
     },
     "metadata": {},
     "output_type": "display_data"
    }
   ],
   "source": [
    "\"\"\"\n",
    "語分類結果を並べて表示する。画像の上の表示は「推定結果/正解」である。\n",
    "\n",
    "Parameters:\n",
    "----------\n",
    "y_pred : 推定値のndarray (n_samples,)\n",
    "y_val : 検証データの正解ラベル(n_samples,)\n",
    "X_val : 検証データの特徴量（n_samples, n_features)\n",
    "\"\"\"\n",
    "import numpy as np\n",
    "import matplotlib.pyplot as plt\n",
    "num = 36 # いくつ表示するか\n",
    "true_false = y_pred==y_val\n",
    "false_list = np.where(true_false==False)[0].astype(np.int)\n",
    "if false_list.shape[0] < num:\n",
    "    num = false_list.shape[0]\n",
    "fig = plt.figure(figsize=(6, 6))\n",
    "fig.subplots_adjust(left=0, right=0.8,  bottom=0, top=0.8, hspace=1, wspace=0.5)\n",
    "for i in range(num):\n",
    "    ax = fig.add_subplot(6, 6, i + 1, xticks=[], yticks=[])\n",
    "    ax.set_title(\"{} / {}\".format(y_pred[false_list[i]],y_val[false_list[i]]))\n",
    "    ax.imshow(X_val.reshape(-1,28,28)[false_list[i]], cmap='gray')"
   ]
  },
  {
   "cell_type": "markdown",
   "metadata": {},
   "source": [
    "#### 考察\n",
    "以下のようなものは判別が難しいと思われる  \n",
    "・形が崩れたもの  \n",
    "・文字が潰れているもの  \n",
    "・数字がかすれているもの  "
   ]
  },
  {
   "cell_type": "code",
   "execution_count": null,
   "metadata": {},
   "outputs": [],
   "source": []
  }
 ],
 "metadata": {
  "kernelspec": {
   "display_name": "Python 3",
   "language": "python",
   "name": "python3"
  },
  "language_info": {
   "codemirror_mode": {
    "name": "ipython",
    "version": 3
   },
   "file_extension": ".py",
   "mimetype": "text/x-python",
   "name": "python",
   "nbconvert_exporter": "python",
   "pygments_lexer": "ipython3",
   "version": "3.7.2"
  }
 },
 "nbformat": 4,
 "nbformat_minor": 2
}
