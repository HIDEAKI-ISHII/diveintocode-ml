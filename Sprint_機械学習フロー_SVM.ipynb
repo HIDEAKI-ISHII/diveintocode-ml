{
 "cells": [
  {
   "cell_type": "code",
   "execution_count": 1,
   "metadata": {},
   "outputs": [],
   "source": [
    "import numpy as np\n",
    "import pandas as pd\n",
    "import matplotlib.pyplot as plt\n",
    "%matplotlib inline"
   ]
  },
  {
   "cell_type": "code",
   "execution_count": 2,
   "metadata": {},
   "outputs": [],
   "source": [
    "class ScratchSVMClassifier():\n",
    "    \"\"\"\n",
    "    SVM分類器のスクラッチ実装\n",
    "\n",
    "    Parameters\n",
    "    ----------\n",
    "    num_iter : int\n",
    "      イテレーション数\n",
    "    lr : float\n",
    "      学習率\n",
    "    kernel : str\n",
    "      カーネルの種類。線形カーネル（linear）か多項式カーネル（polly）\n",
    "    threshold : float\n",
    "      サポートベクターを選ぶための閾値\n",
    "    verbose : bool\n",
    "      学習過程を出力する場合はTrue\n",
    "\n",
    "    Attributes\n",
    "    ----------\n",
    "    self.n_support_vectors : int\n",
    "      サポートベクターの数\n",
    "    self.index_support_vectors : 次の形のndarray, shape (n_support_vectors,)\n",
    "      サポートベクターのインデックス\n",
    "    self.X_sv :  次の形のndarray, shape(n_support_vectors, n_features)\n",
    "      サポートベクターの特徴量\n",
    "    self.lam_sv :  次の形のndarray, shape(n_support_vectors, 1)\n",
    "      サポートベクターの未定乗数\n",
    "    self.y_sv :  次の形のndarray, shape(n_support_vectors, 1)\n",
    "      サポートベクターのラベル\n",
    "\n",
    "    \"\"\"\n",
    "    def __init__(self, num_iter, lr, kernel='linear', threshold=1e-5, verbose=False, degree=None, gamma=None, coef0=None):\n",
    "        # ハイパーパラメータを属性として記録\n",
    "        self.iter = num_iter\n",
    "        self.lr = lr\n",
    "        self.kernel = kernel\n",
    "        self.threshold = threshold\n",
    "        self.verbose = verbose\n",
    "\n",
    "        self.degree = degree # 多項式カーネル用の次数\n",
    "        self.gamma = gamma # 多項式カーネル用のガンマ\n",
    "        self.coef0 = coef0 # 多項式カーネル用のシータの0番目の値        \n",
    "        \n",
    "        \n",
    "    def fit(self, X, y):\n",
    "        \"\"\"\n",
    "        SVM分類器を学習する。検証データが入力された場合はそれに対する精度もイテレーションごとに計算する。\n",
    "\n",
    "        Parameters\n",
    "        ----------\n",
    "        X : 次の形のndarray, shape (n_samples, n_features)\n",
    "            訓練データの特徴量\n",
    "        y : 次の形のndarray, shape (n_samples, )\n",
    "            訓練データの正解値\n",
    "        X_val : 次の形のndarray, shape (n_samples, n_features)\n",
    "            検証データの特徴量\n",
    "        y_val : 次の形のndarray, shape (n_samples, )\n",
    "            検証データの正解値\n",
    "        \"\"\"\n",
    "        \n",
    "        self.lam = np.random.rand(X.shape[0])\n",
    "        \n",
    "        for _ in range(self.iter):\n",
    "            self.lam = self._gradient_descent(X, y)\n",
    "\n",
    "            if self.verbose:\n",
    "                #verboseをTrueにした際は学習過程を出力\n",
    "                print(np.where(self.lam > self.threshold)) # サポートベクターのインデックス            \n",
    "            \n",
    "        self.index_support_vectors = np.where(self.lam > self.threshold) # サポートベクターのインデックス\n",
    "        self.n_support_vectors = len(self.index_support_vectors) # サポートベクターの数\n",
    "        self.X_sv = X[self.index_support_vectors] # サポートベクターの特徴量\n",
    "        self.y_sv = y[self.index_support_vectors] # サポートベクターのラベル\n",
    "        self.lam_sv = self.lam[self.index_support_vectors] # サポートベクターの未定乗数\n",
    "        \n",
    "\n",
    "    def _gradient_descent(self, X, y):\n",
    "        \"\"\"\n",
    "        最急降下法により学習させる\n",
    "\n",
    "        Parameters\n",
    "        ----------\n",
    "        X : 次の形のndarray, shape (n_samples, n_features)\n",
    "            訓練データの特徴量\n",
    "        error : float\n",
    "            誤差\n",
    "            \n",
    "        Returns\n",
    "        lam : 次の形のndarray, shape (n_features,)\n",
    "          パラメータ        \n",
    "        \"\"\"\n",
    "        if self.kernel == 'linear':\n",
    "            lam = self.lam + self.lr * (1 - y * (self._linear_k(X, X) @ (self.lam * y)))\n",
    "        elif self.kernel == 'poly':\n",
    "            lam = self.lam + self.lr * (1 - y * (self._polynomial_k(X, X) @ (self.lam * y)))    \n",
    "        \n",
    "        lam[lam < 0] = 0\n",
    "        \n",
    "        return  lam\n",
    "    \n",
    "    \n",
    "    def _linear_k(self, Xi, Xj):\n",
    "        \"\"\"\n",
    "        線形のカーネル関数を計算する\n",
    "\n",
    "        Parameters\n",
    "        ----------\n",
    "        X : 次の形のndarray, shape (n_samples, n_features)\n",
    "          訓練データ\n",
    "\n",
    "        Returns\n",
    "        -------\n",
    "        y : 次の形のndarray, shape (n_samples, 1)\n",
    "          線形の仮定関数による推定結果\n",
    "\n",
    "        \"\"\"\n",
    "        y = Xj @ Xi.T\n",
    "        \n",
    "        return y    \n",
    "    \n",
    "    def _polynomial_k(self, Xi, Xj):\n",
    "        \"\"\"\n",
    "        線形のカーネル関数を計算する\n",
    "\n",
    "        Parameters\n",
    "        ----------\n",
    "        X : 次の形のndarray, shape (n_samples, n_features)\n",
    "          訓練データ\n",
    "\n",
    "        Returns\n",
    "        -------\n",
    "        y : 次の形のndarray, shape (n_samples, 1)\n",
    "          線形の仮定関数による推定結果\n",
    "\n",
    "        \"\"\"\n",
    "        y = (self.gamma*(Xj @ Xi.T) +self.coef0)**self.degree\n",
    "        \n",
    "        return y    \n",
    "    \n",
    "    def predict(self, X):\n",
    "        \"\"\"\n",
    "        SVM分類器を使いラベルを推定する。\n",
    "\n",
    "        Parameters\n",
    "        ----------\n",
    "        X : 次の形のndarray, shape (n_samples, n_features)\n",
    "            サンプル\n",
    "\n",
    "        Returns\n",
    "        -------\n",
    "            次の形のndarray, shape (n_samples, 1)\n",
    "            SVM分類器による推定結果\n",
    "        \"\"\"\n",
    "        fX = (self.y_sv * self.lam_sv) @ self._linear_k(X, self.X_sv)\n",
    "        y_pred = np.where(fX >= 0, 1, -1)\n",
    "\n",
    "        return y_pred"
   ]
  },
  {
   "cell_type": "markdown",
   "metadata": {},
   "source": [
    "# 【問題1】ラグランジュの未定乗数法による最急降下"
   ]
  },
  {
   "cell_type": "markdown",
   "metadata": {},
   "source": [
    "## ① ラグランジュの未定乗数法による最急降下法"
   ]
  },
  {
   "cell_type": "markdown",
   "metadata": {},
   "source": [
    "# $\\lambda_i^{new} = \\lambda_i + \\alpha(1 - \\sum_{j=1}^{n}{\\lambda_j y_i y_j k(x_i, x_j)})$"
   ]
  },
  {
   "cell_type": "markdown",
   "metadata": {},
   "source": [
    "## gradient descent の実装\n",
    "```python \n",
    "def _gradient_descent(self, X, y):\n",
    "    \"\"\"\n",
    "    最急降下法により学習させる\n",
    "\n",
    "    Parameters\n",
    "    ----------\n",
    "    X : 次の形のndarray, shape (n_samples, n_features)\n",
    "        訓練データの特徴量\n",
    "    error : float\n",
    "        誤差\n",
    "\n",
    "    Returns\n",
    "    lam : 次の形のndarray, shape (n_features,)\n",
    "      パラメータ        \n",
    "    \"\"\"\n",
    "    lam = self.lam + self.lr * (1 - y * (self._linear_k(X, X) @ (self.lam * y)))\n",
    "    lam[lam < 0] = 0\n",
    "\n",
    "    return  lam\n",
    "```"
   ]
  },
  {
   "cell_type": "markdown",
   "metadata": {},
   "source": [
    "# ② 線形カーネル"
   ]
  },
  {
   "cell_type": "markdown",
   "metadata": {},
   "source": [
    "# $k(x_i, x_j) = x_{i}^{T} x_j$"
   ]
  },
  {
   "cell_type": "markdown",
   "metadata": {},
   "source": [
    "## 線形カーネルの実装\n",
    "```python \n",
    "def _linear_k(self, Xi, Xj):\n",
    "    \"\"\"\n",
    "    線形のカーネル関数を計算する\n",
    "\n",
    "    Parameters\n",
    "    ----------\n",
    "    X : 次の形のndarray, shape (n_samples, n_features)\n",
    "      訓練データ\n",
    "\n",
    "    Returns\n",
    "    -------\n",
    "    y : 次の形のndarray, shape (n_samples, 1)\n",
    "      線形の仮定関数による推定結果\n",
    "\n",
    "    \"\"\"\n",
    "    y = Xj @ Xi.T\n",
    "\n",
    "    return y    \n",
    "```"
   ]
  },
  {
   "cell_type": "markdown",
   "metadata": {},
   "source": [
    "# 【問題2】サポートベクターの決定"
   ]
  },
  {
   "cell_type": "markdown",
   "metadata": {},
   "source": [
    "## fit の実装\n",
    "```python \n",
    "def fit(self, X, y, X_val=None, y_val=None):\n",
    "    \"\"\"\n",
    "    SVM分類器を学習する。検証データが入力された場合はそれに対する精度もイテレーションごとに計算する。\n",
    "\n",
    "    Parameters\n",
    "    ----------\n",
    "    X : 次の形のndarray, shape (n_samples, n_features)\n",
    "        訓練データの特徴量\n",
    "    y : 次の形のndarray, shape (n_samples, )\n",
    "        訓練データの正解値\n",
    "    X_val : 次の形のndarray, shape (n_samples, n_features)\n",
    "        検証データの特徴量\n",
    "    y_val : 次の形のndarray, shape (n_samples, )\n",
    "        検証データの正解値\n",
    "    \"\"\"\n",
    "\n",
    "    self.lam = np.random.rand(X.shape[0])\n",
    "\n",
    "    for _ in range(self.iter):\n",
    "        self.lam = self._gradient_descent(X, y)\n",
    "\n",
    "        if self.verbose:\n",
    "            #verboseをTrueにした際は学習過程を出力\n",
    "            print(np.where(self.lam > self.threshold)) # サポートベクターのインデックス            \n",
    "\n",
    "    self.index_support_vectors = np.where(self.lam > self.threshold) # サポートベクターのインデックス\n",
    "    self.n_support_vectors = len(self.index_support_vectors) # サポートベクターの数\n",
    "    self.X_sv = X[self.index_support_vectors] # サポートベクターの特徴量\n",
    "    self.y_sv = y[self.index_support_vectors] # サポートベクターのラベル\n",
    "    self.lam_sv = self.lam[self.index_support_vectors] # サポートベクターの未定乗数\n",
    "```"
   ]
  },
  {
   "cell_type": "markdown",
   "metadata": {},
   "source": [
    "# 【問題3】推定"
   ]
  },
  {
   "cell_type": "markdown",
   "metadata": {},
   "source": [
    "# $f(x) = \\sum_{n=1}^{N}\\lambda_n y_{sv\\_n} k(x, s_n)$"
   ]
  },
  {
   "cell_type": "markdown",
   "metadata": {},
   "source": [
    "## predict の実装\n",
    "```python \n",
    "def predict(self, X):\n",
    "    \"\"\"\n",
    "    SVM分類器を使いラベルを推定する。\n",
    "\n",
    "    Parameters\n",
    "    ----------\n",
    "    X : 次の形のndarray, shape (n_samples, n_features)\n",
    "        サンプル\n",
    "\n",
    "    Returns\n",
    "    -------\n",
    "        次の形のndarray, shape (n_samples, 1)\n",
    "        SVM分類器による推定結果\n",
    "    \"\"\"\n",
    "    fX = (self.y_sv * self.lam_sv) @ self._linear_k(X, self.X_sv)\n",
    "    y_pred = np.where(fX >= 0, 1, -1)\n",
    "\n",
    "    return y_pred\n",
    "```"
   ]
  },
  {
   "cell_type": "markdown",
   "metadata": {},
   "source": [
    "# 【問題4】学習と推定"
   ]
  },
  {
   "cell_type": "code",
   "execution_count": 3,
   "metadata": {},
   "outputs": [],
   "source": [
    "np.random.seed(seed=0)\n",
    "n_samples = 500\n",
    "f0 = [-1, 2]\n",
    "f1 = [2, -1]\n",
    "cov = [[1.0,0.8], [0.8, 1.0]]\n",
    "f0 = np.random.multivariate_normal(f0, cov, int(n_samples/2))\n",
    "f1 = np.random.multivariate_normal(f1, cov, int(n_samples/2))\n",
    "X = np.concatenate((f0, f1))\n",
    "y = np.concatenate((np.ones((int(n_samples/2))), np.ones((int(n_samples/2))) *(-1))).astype(np.int)\n",
    "random_index = np.random.permutation(np.arange(n_samples))\n",
    "X = X[random_index]\n",
    "y = y[random_index]"
   ]
  },
  {
   "cell_type": "code",
   "execution_count": 4,
   "metadata": {},
   "outputs": [],
   "source": [
    "#　訓練データと検証データに分割\n",
    "from sklearn.model_selection import train_test_split\n",
    "X_train, X_val, y_train, y_val = train_test_split(X, y, test_size = 0.25, random_state = 0) # 訓練データ75%、検証データ25%として分割"
   ]
  },
  {
   "cell_type": "code",
   "execution_count": 5,
   "metadata": {},
   "outputs": [],
   "source": [
    "# インスタンス作成\n",
    "svm = ScratchSVMClassifier(1000, 0.001, kernel='linear', threshold=0.0001, verbose=False)"
   ]
  },
  {
   "cell_type": "code",
   "execution_count": 6,
   "metadata": {
    "scrolled": false
   },
   "outputs": [],
   "source": [
    "# 学習\n",
    "svm.fit(X_train, y_train)"
   ]
  },
  {
   "cell_type": "code",
   "execution_count": 7,
   "metadata": {},
   "outputs": [
    {
     "data": {
      "text/plain": [
       "array([0.03841473, 0.01314661, 0.45326507, 0.43900667, 0.06619519,\n",
       "       0.0411765 ])"
      ]
     },
     "execution_count": 7,
     "metadata": {},
     "output_type": "execute_result"
    }
   ],
   "source": [
    "# サポートベクターの未定乗数を表示\n",
    "svm.lam_sv"
   ]
  },
  {
   "cell_type": "code",
   "execution_count": 8,
   "metadata": {},
   "outputs": [],
   "source": [
    "# 推定\n",
    "y_val_pred = svm.predict(X_val)"
   ]
  },
  {
   "cell_type": "code",
   "execution_count": 9,
   "metadata": {},
   "outputs": [
    {
     "name": "stdout",
     "output_type": "stream",
     "text": [
      "Accuracy（正解率）：　1.0\n",
      "\n",
      "Precision（適合率）：　1.0\n",
      "\n",
      "Recall（再現率）：　1.0\n",
      "\n"
     ]
    }
   ],
   "source": [
    "# 評価\n",
    "from sklearn.metrics import accuracy_score\n",
    "print(\"Accuracy（正解率）：　{}\\n\".format(accuracy_score(y_val, y_val_pred)))\n",
    "\n",
    "from sklearn.metrics import precision_score\n",
    "print(\"Precision（適合率）：　{}\\n\".format(precision_score(y_val, y_val_pred, average='macro')))\n",
    "\n",
    "from sklearn.metrics import recall_score\n",
    "print(\"Recall（再現率）：　{}\\n\".format(recall_score(y_val, y_val_pred, average='macro')))"
   ]
  },
  {
   "cell_type": "markdown",
   "metadata": {},
   "source": [
    "# 【問題5】決定領域の可視化"
   ]
  },
  {
   "cell_type": "code",
   "execution_count": 10,
   "metadata": {},
   "outputs": [],
   "source": [
    "from matplotlib.colors import ListedColormap\n",
    "import matplotlib.patches as mpatches\n",
    "\n",
    "# 決定領域を表示する関数\n",
    "def decision_region(X, y, index, model, step=0.01, title='decision region', xlabel='xlabel', ylabel='ylabel', target_names=['versicolor', 'virginica']):\n",
    "    \"\"\"\n",
    "    2値分類を2次元の特徴量で学習したモデルの決定領域を描く。\n",
    "    背景の色が学習したモデルによる推定値から描画される。\n",
    "    散布図の点は訓練データまたは検証データである。\n",
    "\n",
    "    Parameters\n",
    "    ----------------\n",
    "    X : ndarray, shape(n_samples, 2)\n",
    "        特徴量\n",
    "    y : ndarray, shape(n_samples,)\n",
    "        ラベル\n",
    "    model : object\n",
    "        学習したモデルのインスンタスを入れる\n",
    "    step : float, (default : 0.1)\n",
    "        推定値を計算する間隔を設定する\n",
    "    title : str\n",
    "        グラフのタイトルの文章を与える\n",
    "    xlabel, ylabel : str\n",
    "        軸ラベルの文章を与える\n",
    "    target_names= : list of str\n",
    "        凡例の一覧を与える\n",
    "    \"\"\"\n",
    "    # setting\n",
    "    scatter_color = ['red', 'blue']\n",
    "    contourf_color = ['pink', 'skyblue']\n",
    "    n_class = 2\n",
    "    # pred\n",
    "    mesh_f0, mesh_f1  = np.meshgrid(np.arange(np.min(X[:,0])-0.5, np.max(X[:,0])+0.5, step), np.arange(np.min(X[:,1])-0.5, np.max(X[:,1])+0.5, step))\n",
    "    mesh = np.c_[np.ravel(mesh_f0),np.ravel(mesh_f1)]\n",
    "    y_pred = model.predict(mesh).reshape(mesh_f0.shape)\n",
    "    # plot\n",
    "    plt.title(title)\n",
    "    plt.xlabel(xlabel)\n",
    "    plt.ylabel(ylabel)\n",
    "    plt.contourf(mesh_f0, mesh_f1, y_pred, n_class-1, cmap=ListedColormap(contourf_color))\n",
    "    plt.contour(mesh_f0, mesh_f1, y_pred, n_class-1, colors='y', linewidths=3, alpha=0.5)\n",
    "    for i, target in enumerate(set(y)):\n",
    "        plt.scatter(X[y==target][:, 0], X[y==target][:, 1], s=80, color=scatter_color[i], label=target_names[i], marker='o')\n",
    "    print(X.shape)        \n",
    "    plt.scatter(X[np.array(index), 0], X[np.array(index), 1], s=80, color='yellow', marker='o')                \n",
    "            \n",
    "    patches = [mpatches.Patch(color=scatter_color[i], label=target_names[i]) for i in range(n_class)]\n",
    "    plt.legend(handles=patches)\n",
    "    plt.legend()\n",
    "    plt.show()"
   ]
  },
  {
   "cell_type": "code",
   "execution_count": 11,
   "metadata": {},
   "outputs": [],
   "source": [
    "# 推定\n",
    "y_train_pred = svm.predict(X_train)"
   ]
  },
  {
   "cell_type": "code",
   "execution_count": 12,
   "metadata": {},
   "outputs": [
    {
     "name": "stdout",
     "output_type": "stream",
     "text": [
      "(375, 2)\n"
     ]
    },
    {
     "data": {
      "image/png": "[encoded data removed]",
      "text/plain": [
       "<Figure size 432x288 with 1 Axes>"
      ]
     },
     "metadata": {
      "needs_background": "light"
     },
     "output_type": "display_data"
    }
   ],
   "source": [
    "# 決定領域の可視化\n",
    "decision_region(X_train,  y_train_pred, svm.index_support_vectors, svm, step=0.01, title='decision region', xlabel='sepal_length', ylabel='sepal_width', target_names=['versicolor', 'virginica'])"
   ]
  },
  {
   "cell_type": "markdown",
   "metadata": {},
   "source": [
    "# 【問題6】（アドバンス課題）多項式カーネル関数の作成"
   ]
  },
  {
   "cell_type": "markdown",
   "metadata": {},
   "source": [
    "## 多項式カーネルの実装\n",
    "```python \n",
    "def _polynomial_k(self, Xi, Xj):\n",
    "    \"\"\"\n",
    "    線形のカーネル関数を計算する\n",
    "\n",
    "    Parameters\n",
    "    ----------\n",
    "    X : 次の形のndarray, shape (n_samples, n_features)\n",
    "      訓練データ\n",
    "\n",
    "    Returns\n",
    "    -------\n",
    "    y : 次の形のndarray, shape (n_samples, 1)\n",
    "      線形の仮定関数による推定結果\n",
    "\n",
    "    \"\"\"\n",
    "    y = (self.gamma*(Xj @ Xi.T) +self.coef0)**self.degree\n",
    "\n",
    "    return y    \n",
    "```"
   ]
  },
  {
   "cell_type": "code",
   "execution_count": 13,
   "metadata": {},
   "outputs": [],
   "source": [
    "# 多項式カーネルでインスタンス作成\n",
    "svm1 = ScratchSVMClassifier(10000, 0.01, kernel='poly', threshold=0.00001, verbose=False, degree=3, gamma=0.1, coef0=0)"
   ]
  },
  {
   "cell_type": "code",
   "execution_count": 14,
   "metadata": {},
   "outputs": [],
   "source": [
    "# 学習\n",
    "svm1.fit(X_train, y_train)"
   ]
  },
  {
   "cell_type": "code",
   "execution_count": 15,
   "metadata": {},
   "outputs": [
    {
     "data": {
      "text/plain": [
       "array([14.13781701, 33.95989708, 10.13468788, 78.21216626,  5.767317  ,\n",
       "       34.46321727, 44.96731243, 62.95156082,  0.94099018, 63.27199418,\n",
       "       21.97032756])"
      ]
     },
     "execution_count": 15,
     "metadata": {},
     "output_type": "execute_result"
    }
   ],
   "source": [
    "# サポートベクターの未定乗数を表示\n",
    "svm1.lam_sv"
   ]
  },
  {
   "cell_type": "code",
   "execution_count": 16,
   "metadata": {},
   "outputs": [
    {
     "name": "stdout",
     "output_type": "stream",
     "text": [
      "[-1  1  1 -1 -1  1  1 -1 -1  1 -1  1 -1 -1 -1  1  1  1  1  1 -1 -1  1  1\n",
      " -1  1  1  1  1 -1 -1  1  1 -1  1 -1  1 -1 -1  1 -1  1 -1  1 -1  1 -1  1\n",
      " -1  1 -1 -1 -1  1  1  1  1  1  1  1  1  1  1 -1  1 -1 -1 -1 -1  1  1  1\n",
      "  1  1  1 -1  1 -1  1 -1  1  1  1  1  1 -1 -1  1  1  1 -1  1 -1  1 -1  1\n",
      "  1  1 -1  1 -1  1  1  1 -1  1 -1  1  1  1  1 -1  1 -1  1 -1  1  1 -1  1\n",
      "  1 -1 -1 -1 -1]\n"
     ]
    }
   ],
   "source": [
    "# 推定\n",
    "y1_val_pred = svm1.predict(X_val)\n",
    "print(y1_val_pred)"
   ]
  },
  {
   "cell_type": "code",
   "execution_count": 17,
   "metadata": {},
   "outputs": [
    {
     "name": "stdout",
     "output_type": "stream",
     "text": [
      "Accuracy（正解率）：　1.0\n",
      "\n",
      "Precision（適合率）：　1.0\n",
      "\n",
      "Recall（再現率）：　1.0\n",
      "\n"
     ]
    }
   ],
   "source": [
    "# 評価\n",
    "from sklearn.metrics import accuracy_score\n",
    "print(\"Accuracy（正解率）：　{}\\n\".format(accuracy_score(y_val, y1_val_pred)))\n",
    "\n",
    "from sklearn.metrics import precision_score\n",
    "print(\"Precision（適合率）：　{}\\n\".format(precision_score(y_val, y1_val_pred, average='macro')))\n",
    "\n",
    "from sklearn.metrics import recall_score\n",
    "print(\"Recall（再現率）：　{}\\n\".format(recall_score(y_val, y1_val_pred, average='macro')))"
   ]
  }
 ],
 "metadata": {
  "kernelspec": {
   "display_name": "Python 3",
   "language": "python",
   "name": "python3"
  },
  "language_info": {
   "codemirror_mode": {
    "name": "ipython",
    "version": 3
   },
   "file_extension": ".py",
   "mimetype": "text/x-python",
   "name": "python",
   "nbconvert_exporter": "python",
   "pygments_lexer": "ipython3",
   "version": "3.7.2"
  }
 },
 "nbformat": 4,
 "nbformat_minor": 2
}
